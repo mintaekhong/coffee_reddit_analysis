{
 "cells": [
  {
   "cell_type": "markdown",
   "metadata": {},
   "source": [
    "# Exploratory Data Analysis"
   ]
  },
  {
   "cell_type": "code",
   "execution_count": 1,
   "metadata": {},
   "outputs": [
    {
     "name": "stderr",
     "output_type": "stream",
     "text": [
      "/Users/mintaekhong/anaconda3/lib/python3.7/site-packages/sklearn/ensemble/weight_boosting.py:29: DeprecationWarning: numpy.core.umath_tests is an internal NumPy module and should not be imported. It will be removed in a future NumPy release.\n",
      "  from numpy.core.umath_tests import inner1d\n"
     ]
    }
   ],
   "source": [
    "import requests, json, time, re\n",
    "import pandas as pd\n",
    "import numpy as np\n",
    "from sklearn.feature_extraction.text import CountVectorizer, TfidfVectorizer\n",
    "from sklearn.tree import DecisionTreeRegressor\n",
    "from sklearn.ensemble import RandomForestClassifier\n",
    "from sklearn.model_selection import train_test_split, GridSearchCV\n",
    "import matplotlib.pyplot as plt\n",
    "%matplotlib inline\n",
    "import seaborn as sns\n",
    "sns.set()"
   ]
  },
  {
   "cell_type": "markdown",
   "metadata": {},
   "source": [
    "### Prepare dataframes for EDA"
   ]
  },
  {
   "cell_type": "code",
   "execution_count": 2,
   "metadata": {},
   "outputs": [],
   "source": [
    "df_old = pd.read_csv('../datasets/df_old.csv', lineterminator= '\\n', index_col = False)"
   ]
  },
  {
   "cell_type": "code",
   "execution_count": 3,
   "metadata": {},
   "outputs": [
    {
     "data": {
      "text/plain": [
       "(14012, 5)"
      ]
     },
     "execution_count": 3,
     "metadata": {},
     "output_type": "execute_result"
    }
   ],
   "source": [
    "df_old.shape"
   ]
  },
  {
   "cell_type": "code",
   "execution_count": 4,
   "metadata": {},
   "outputs": [],
   "source": [
    "df_old.drop('Unnamed: 0', axis = 1, inplace = True)"
   ]
  },
  {
   "cell_type": "code",
   "execution_count": 17,
   "metadata": {},
   "outputs": [
    {
     "data": {
      "text/html": [
       "<div>\n",
       "<style scoped>\n",
       "    .dataframe tbody tr th:only-of-type {\n",
       "        vertical-align: middle;\n",
       "    }\n",
       "\n",
       "    .dataframe tbody tr th {\n",
       "        vertical-align: top;\n",
       "    }\n",
       "\n",
       "    .dataframe thead th {\n",
       "        text-align: right;\n",
       "    }\n",
       "</style>\n",
       "<table border=\"1\" class=\"dataframe\">\n",
       "  <thead>\n",
       "    <tr style=\"text-align: right;\">\n",
       "      <th></th>\n",
       "      <th>title</th>\n",
       "      <th>selftext</th>\n",
       "      <th>all</th>\n",
       "      <th>in</th>\n",
       "    </tr>\n",
       "  </thead>\n",
       "  <tbody>\n",
       "    <tr>\n",
       "      <th>0</th>\n",
       "      <td>Delicious Blue Bottle Coffee</td>\n",
       "      <td></td>\n",
       "      <td>Delicious Blue Bottle Coffee</td>\n",
       "      <td>0</td>\n",
       "    </tr>\n",
       "    <tr>\n",
       "      <th>1</th>\n",
       "      <td>PSA: Looking for an inexpensive alternative to...</td>\n",
       "      <td></td>\n",
       "      <td>PSA: Looking for an inexpensive alternative to...</td>\n",
       "      <td>0</td>\n",
       "    </tr>\n",
       "    <tr>\n",
       "      <th>2</th>\n",
       "      <td>Is there a feasible way to store coffee for lo...</td>\n",
       "      <td>I just received two 2 pound bags of coffee for...</td>\n",
       "      <td>Is there a feasible way to store coffee for lo...</td>\n",
       "      <td>0</td>\n",
       "    </tr>\n",
       "    <tr>\n",
       "      <th>3</th>\n",
       "      <td>A shot in the dark (name that coffee)</td>\n",
       "      <td>I want to get some coffee for a very left-lean...</td>\n",
       "      <td>A shot in the dark (name that coffee) I want t...</td>\n",
       "      <td>0</td>\n",
       "    </tr>\n",
       "    <tr>\n",
       "      <th>4</th>\n",
       "      <td>[Serious question] How can I keep drinking cof...</td>\n",
       "      <td>This isn't a joke at all. I'm 100% serious. I ...</td>\n",
       "      <td>[Serious question] How can I keep drinking cof...</td>\n",
       "      <td>0</td>\n",
       "    </tr>\n",
       "    <tr>\n",
       "      <th>5</th>\n",
       "      <td>2014 Coffee Collage</td>\n",
       "      <td></td>\n",
       "      <td>2014 Coffee Collage</td>\n",
       "      <td>0</td>\n",
       "    </tr>\n",
       "    <tr>\n",
       "      <th>6</th>\n",
       "      <td>What's your favorite coffee producing country/...</td>\n",
       "      <td>What countries and regions produce your favori...</td>\n",
       "      <td>What's your favorite coffee producing country/...</td>\n",
       "      <td>0</td>\n",
       "    </tr>\n",
       "    <tr>\n",
       "      <th>7</th>\n",
       "      <td>To-go mug for Keurig mini.</td>\n",
       "      <td>So I got a Keurig for Christmas in order to ma...</td>\n",
       "      <td>To-go mug for Keurig mini. So I got a Keurig f...</td>\n",
       "      <td>0</td>\n",
       "    </tr>\n",
       "    <tr>\n",
       "      <th>8</th>\n",
       "      <td>Cold Bruer Help</td>\n",
       "      <td>I set up my new Cold Bruer to brew overnight l...</td>\n",
       "      <td>Cold Bruer Help I set up my new Cold Bruer to ...</td>\n",
       "      <td>0</td>\n",
       "    </tr>\n",
       "    <tr>\n",
       "      <th>9</th>\n",
       "      <td>Have you ever made a decent cup with folgers?</td>\n",
       "      <td></td>\n",
       "      <td>Have you ever made a decent cup with folgers?</td>\n",
       "      <td>0</td>\n",
       "    </tr>\n",
       "  </tbody>\n",
       "</table>\n",
       "</div>"
      ],
      "text/plain": [
       "                                               title  \\\n",
       "0                       Delicious Blue Bottle Coffee   \n",
       "1  PSA: Looking for an inexpensive alternative to...   \n",
       "2  Is there a feasible way to store coffee for lo...   \n",
       "3              A shot in the dark (name that coffee)   \n",
       "4  [Serious question] How can I keep drinking cof...   \n",
       "5                                2014 Coffee Collage   \n",
       "6  What's your favorite coffee producing country/...   \n",
       "7                         To-go mug for Keurig mini.   \n",
       "8                                    Cold Bruer Help   \n",
       "9      Have you ever made a decent cup with folgers?   \n",
       "\n",
       "                                            selftext  \\\n",
       "0                                                      \n",
       "1                                                      \n",
       "2  I just received two 2 pound bags of coffee for...   \n",
       "3  I want to get some coffee for a very left-lean...   \n",
       "4  This isn't a joke at all. I'm 100% serious. I ...   \n",
       "5                                                      \n",
       "6  What countries and regions produce your favori...   \n",
       "7  So I got a Keurig for Christmas in order to ma...   \n",
       "8  I set up my new Cold Bruer to brew overnight l...   \n",
       "9                                                      \n",
       "\n",
       "                                                 all  in  \n",
       "0                      Delicious Blue Bottle Coffee    0  \n",
       "1  PSA: Looking for an inexpensive alternative to...   0  \n",
       "2  Is there a feasible way to store coffee for lo...   0  \n",
       "3  A shot in the dark (name that coffee) I want t...   0  \n",
       "4  [Serious question] How can I keep drinking cof...   0  \n",
       "5                               2014 Coffee Collage    0  \n",
       "6  What's your favorite coffee producing country/...   0  \n",
       "7  To-go mug for Keurig mini. So I got a Keurig f...   0  \n",
       "8  Cold Bruer Help I set up my new Cold Bruer to ...   0  \n",
       "9     Have you ever made a decent cup with folgers?    0  "
      ]
     },
     "execution_count": 17,
     "metadata": {},
     "output_type": "execute_result"
    }
   ],
   "source": [
    "df_old.head(10)"
   ]
  },
  {
   "cell_type": "markdown",
   "metadata": {},
   "source": [
    "Seems like we have some NaN's. We will replace them with a space"
   ]
  },
  {
   "cell_type": "code",
   "execution_count": 6,
   "metadata": {},
   "outputs": [],
   "source": [
    "df_old.fillna(' ', inplace = True);"
   ]
  },
  {
   "cell_type": "code",
   "execution_count": 7,
   "metadata": {},
   "outputs": [
    {
     "data": {
      "text/plain": [
       "(14012, 4)"
      ]
     },
     "execution_count": 7,
     "metadata": {},
     "output_type": "execute_result"
    }
   ],
   "source": [
    "df_old.shape"
   ]
  },
  {
   "cell_type": "code",
   "execution_count": 8,
   "metadata": {},
   "outputs": [
    {
     "data": {
      "text/plain": [
       "0    14012\n",
       "Name: in, dtype: int64"
      ]
     },
     "execution_count": 8,
     "metadata": {},
     "output_type": "execute_result"
    }
   ],
   "source": [
    "df_old['in'].value_counts()"
   ]
  },
  {
   "cell_type": "markdown",
   "metadata": {},
   "source": [
    "Repeat same process for df_new"
   ]
  },
  {
   "cell_type": "code",
   "execution_count": 9,
   "metadata": {},
   "outputs": [],
   "source": [
    "df_new = pd.read_csv('../datasets/df_new.csv')"
   ]
  },
  {
   "cell_type": "code",
   "execution_count": 10,
   "metadata": {},
   "outputs": [],
   "source": [
    "df_new.drop('Unnamed: 0', axis = 1, inplace = True)"
   ]
  },
  {
   "cell_type": "code",
   "execution_count": 11,
   "metadata": {},
   "outputs": [
    {
     "data": {
      "text/html": [
       "<div>\n",
       "<style scoped>\n",
       "    .dataframe tbody tr th:only-of-type {\n",
       "        vertical-align: middle;\n",
       "    }\n",
       "\n",
       "    .dataframe tbody tr th {\n",
       "        vertical-align: top;\n",
       "    }\n",
       "\n",
       "    .dataframe thead th {\n",
       "        text-align: right;\n",
       "    }\n",
       "</style>\n",
       "<table border=\"1\" class=\"dataframe\">\n",
       "  <thead>\n",
       "    <tr style=\"text-align: right;\">\n",
       "      <th></th>\n",
       "      <th>title</th>\n",
       "      <th>selftext</th>\n",
       "      <th>all</th>\n",
       "      <th>in</th>\n",
       "    </tr>\n",
       "  </thead>\n",
       "  <tbody>\n",
       "    <tr>\n",
       "      <th>0</th>\n",
       "      <td>Is there any hope with automatic coffee brewers?</td>\n",
       "      <td>I've been doing pour-overs for a while and rea...</td>\n",
       "      <td>Is there any hope with automatic coffee brewer...</td>\n",
       "      <td>1</td>\n",
       "    </tr>\n",
       "    <tr>\n",
       "      <th>1</th>\n",
       "      <td>Is instant coffee a scam?</td>\n",
       "      <td>I tried drinking instant coffee espresso powde...</td>\n",
       "      <td>Is instant coffee a scam? I tried drinking ins...</td>\n",
       "      <td>1</td>\n",
       "    </tr>\n",
       "    <tr>\n",
       "      <th>2</th>\n",
       "      <td>DIY Drip Coffee Maker?</td>\n",
       "      <td>I've been in a DIY mood lately.  I would love ...</td>\n",
       "      <td>DIY Drip Coffee Maker? I've been in a DIY mood...</td>\n",
       "      <td>1</td>\n",
       "    </tr>\n",
       "    <tr>\n",
       "      <th>3</th>\n",
       "      <td>Does anyone else feel like they don’t feel the...</td>\n",
       "      <td>I drink a LOT of coffee, and I was wondering i...</td>\n",
       "      <td>Does anyone else feel like they don’t feel the...</td>\n",
       "      <td>1</td>\n",
       "    </tr>\n",
       "    <tr>\n",
       "      <th>4</th>\n",
       "      <td>Never had coffee</td>\n",
       "      <td>Hi folks, I know this may sound crazy, but I'v...</td>\n",
       "      <td>Never had coffee Hi folks, I know this may sou...</td>\n",
       "      <td>1</td>\n",
       "    </tr>\n",
       "    <tr>\n",
       "      <th>5</th>\n",
       "      <td>[news] that extra cup of java is good for you,...</td>\n",
       "      <td>NaN</td>\n",
       "      <td>[news] that extra cup of java is good for you,...</td>\n",
       "      <td>1</td>\n",
       "    </tr>\n",
       "    <tr>\n",
       "      <th>6</th>\n",
       "      <td>Best coffee to buy in Seattle?</td>\n",
       "      <td>So I’ll be heading to the emerald city one wee...</td>\n",
       "      <td>Best coffee to buy in Seattle? So I’ll be head...</td>\n",
       "      <td>1</td>\n",
       "    </tr>\n",
       "    <tr>\n",
       "      <th>7</th>\n",
       "      <td>Chemex drinkers - What’s your trick?</td>\n",
       "      <td>I just got an 8 cup Chemex and I’m having trou...</td>\n",
       "      <td>Chemex drinkers - What’s your trick? I just go...</td>\n",
       "      <td>1</td>\n",
       "    </tr>\n",
       "    <tr>\n",
       "      <th>8</th>\n",
       "      <td>[MOD] The Official Noob-Tastic Question Fest</td>\n",
       "      <td>Welcome to the weekly /r/Coffee question threa...</td>\n",
       "      <td>[MOD] The Official Noob-Tastic Question Fest W...</td>\n",
       "      <td>1</td>\n",
       "    </tr>\n",
       "    <tr>\n",
       "      <th>9</th>\n",
       "      <td>[MOD] What have you been brewing this week?/ C...</td>\n",
       "      <td>Hey everyone!\\n\\nWelcome back to the weekly /r...</td>\n",
       "      <td>[MOD] What have you been brewing this week?/ C...</td>\n",
       "      <td>1</td>\n",
       "    </tr>\n",
       "  </tbody>\n",
       "</table>\n",
       "</div>"
      ],
      "text/plain": [
       "                                               title  \\\n",
       "0   Is there any hope with automatic coffee brewers?   \n",
       "1                          Is instant coffee a scam?   \n",
       "2                             DIY Drip Coffee Maker?   \n",
       "3  Does anyone else feel like they don’t feel the...   \n",
       "4                                   Never had coffee   \n",
       "5  [news] that extra cup of java is good for you,...   \n",
       "6                     Best coffee to buy in Seattle?   \n",
       "7               Chemex drinkers - What’s your trick?   \n",
       "8       [MOD] The Official Noob-Tastic Question Fest   \n",
       "9  [MOD] What have you been brewing this week?/ C...   \n",
       "\n",
       "                                            selftext  \\\n",
       "0  I've been doing pour-overs for a while and rea...   \n",
       "1  I tried drinking instant coffee espresso powde...   \n",
       "2  I've been in a DIY mood lately.  I would love ...   \n",
       "3  I drink a LOT of coffee, and I was wondering i...   \n",
       "4  Hi folks, I know this may sound crazy, but I'v...   \n",
       "5                                                NaN   \n",
       "6  So I’ll be heading to the emerald city one wee...   \n",
       "7  I just got an 8 cup Chemex and I’m having trou...   \n",
       "8  Welcome to the weekly /r/Coffee question threa...   \n",
       "9  Hey everyone!\\n\\nWelcome back to the weekly /r...   \n",
       "\n",
       "                                                 all  in  \n",
       "0  Is there any hope with automatic coffee brewer...   1  \n",
       "1  Is instant coffee a scam? I tried drinking ins...   1  \n",
       "2  DIY Drip Coffee Maker? I've been in a DIY mood...   1  \n",
       "3  Does anyone else feel like they don’t feel the...   1  \n",
       "4  Never had coffee Hi folks, I know this may sou...   1  \n",
       "5  [news] that extra cup of java is good for you,...   1  \n",
       "6  Best coffee to buy in Seattle? So I’ll be head...   1  \n",
       "7  Chemex drinkers - What’s your trick? I just go...   1  \n",
       "8  [MOD] The Official Noob-Tastic Question Fest W...   1  \n",
       "9  [MOD] What have you been brewing this week?/ C...   1  "
      ]
     },
     "execution_count": 11,
     "metadata": {},
     "output_type": "execute_result"
    }
   ],
   "source": [
    "df_new.head(10)"
   ]
  },
  {
   "cell_type": "code",
   "execution_count": 12,
   "metadata": {},
   "outputs": [
    {
     "data": {
      "text/plain": [
       "(18033, 4)"
      ]
     },
     "execution_count": 12,
     "metadata": {},
     "output_type": "execute_result"
    }
   ],
   "source": [
    "df_new.shape"
   ]
  },
  {
   "cell_type": "code",
   "execution_count": 13,
   "metadata": {},
   "outputs": [
    {
     "data": {
      "text/plain": [
       "1    18033\n",
       "Name: in, dtype: int64"
      ]
     },
     "execution_count": 13,
     "metadata": {},
     "output_type": "execute_result"
    }
   ],
   "source": [
    "df_new['in'].value_counts()"
   ]
  },
  {
   "cell_type": "code",
   "execution_count": 14,
   "metadata": {},
   "outputs": [],
   "source": [
    "df_new.fillna(' ', inplace=True);"
   ]
  },
  {
   "cell_type": "markdown",
   "metadata": {},
   "source": [
    "We now join the two dataframes to perform preprocessing steps"
   ]
  },
  {
   "cell_type": "code",
   "execution_count": 18,
   "metadata": {},
   "outputs": [],
   "source": [
    "df_all = pd.concat([df_old, df_new])"
   ]
  },
  {
   "cell_type": "code",
   "execution_count": 19,
   "metadata": {},
   "outputs": [
    {
     "data": {
      "text/plain": [
       "(32045, 4)"
      ]
     },
     "execution_count": 19,
     "metadata": {},
     "output_type": "execute_result"
    }
   ],
   "source": [
    "df_all.shape"
   ]
  },
  {
   "cell_type": "markdown",
   "metadata": {},
   "source": [
    "### Pre-Processing (RegularExpressions, Tokenizing, Lemmatizing/Stemming, Cleaning (i.e. removing HTML/URL)"
   ]
  },
  {
   "cell_type": "code",
   "execution_count": 20,
   "metadata": {},
   "outputs": [
    {
     "data": {
      "text/html": [
       "<div>\n",
       "<style scoped>\n",
       "    .dataframe tbody tr th:only-of-type {\n",
       "        vertical-align: middle;\n",
       "    }\n",
       "\n",
       "    .dataframe tbody tr th {\n",
       "        vertical-align: top;\n",
       "    }\n",
       "\n",
       "    .dataframe thead th {\n",
       "        text-align: right;\n",
       "    }\n",
       "</style>\n",
       "<table border=\"1\" class=\"dataframe\">\n",
       "  <thead>\n",
       "    <tr style=\"text-align: right;\">\n",
       "      <th></th>\n",
       "      <th>title</th>\n",
       "      <th>selftext</th>\n",
       "      <th>all</th>\n",
       "      <th>in</th>\n",
       "    </tr>\n",
       "  </thead>\n",
       "  <tbody>\n",
       "    <tr>\n",
       "      <th>0</th>\n",
       "      <td>Delicious Blue Bottle Coffee</td>\n",
       "      <td></td>\n",
       "      <td>Delicious Blue Bottle Coffee</td>\n",
       "      <td>0</td>\n",
       "    </tr>\n",
       "    <tr>\n",
       "      <th>1</th>\n",
       "      <td>PSA: Looking for an inexpensive alternative to...</td>\n",
       "      <td></td>\n",
       "      <td>PSA: Looking for an inexpensive alternative to...</td>\n",
       "      <td>0</td>\n",
       "    </tr>\n",
       "    <tr>\n",
       "      <th>2</th>\n",
       "      <td>Is there a feasible way to store coffee for lo...</td>\n",
       "      <td>I just received two 2 pound bags of coffee for...</td>\n",
       "      <td>Is there a feasible way to store coffee for lo...</td>\n",
       "      <td>0</td>\n",
       "    </tr>\n",
       "    <tr>\n",
       "      <th>3</th>\n",
       "      <td>A shot in the dark (name that coffee)</td>\n",
       "      <td>I want to get some coffee for a very left-lean...</td>\n",
       "      <td>A shot in the dark (name that coffee) I want t...</td>\n",
       "      <td>0</td>\n",
       "    </tr>\n",
       "    <tr>\n",
       "      <th>4</th>\n",
       "      <td>[Serious question] How can I keep drinking cof...</td>\n",
       "      <td>This isn't a joke at all. I'm 100% serious. I ...</td>\n",
       "      <td>[Serious question] How can I keep drinking cof...</td>\n",
       "      <td>0</td>\n",
       "    </tr>\n",
       "  </tbody>\n",
       "</table>\n",
       "</div>"
      ],
      "text/plain": [
       "                                               title  \\\n",
       "0                       Delicious Blue Bottle Coffee   \n",
       "1  PSA: Looking for an inexpensive alternative to...   \n",
       "2  Is there a feasible way to store coffee for lo...   \n",
       "3              A shot in the dark (name that coffee)   \n",
       "4  [Serious question] How can I keep drinking cof...   \n",
       "\n",
       "                                            selftext  \\\n",
       "0                                                      \n",
       "1                                                      \n",
       "2  I just received two 2 pound bags of coffee for...   \n",
       "3  I want to get some coffee for a very left-lean...   \n",
       "4  This isn't a joke at all. I'm 100% serious. I ...   \n",
       "\n",
       "                                                 all  in  \n",
       "0                      Delicious Blue Bottle Coffee    0  \n",
       "1  PSA: Looking for an inexpensive alternative to...   0  \n",
       "2  Is there a feasible way to store coffee for lo...   0  \n",
       "3  A shot in the dark (name that coffee) I want t...   0  \n",
       "4  [Serious question] How can I keep drinking cof...   0  "
      ]
     },
     "execution_count": 20,
     "metadata": {},
     "output_type": "execute_result"
    }
   ],
   "source": [
    "df_all.head()"
   ]
  },
  {
   "cell_type": "markdown",
   "metadata": {},
   "source": [
    "### Using regex"
   ]
  },
  {
   "cell_type": "code",
   "execution_count": 28,
   "metadata": {},
   "outputs": [],
   "source": [
    "import re"
   ]
  },
  {
   "cell_type": "code",
   "execution_count": 29,
   "metadata": {},
   "outputs": [],
   "source": [
    "df_all['all'].map(lambda x: re.findall('\\[\\w+\\]', str(x).lower()));"
   ]
  },
  {
   "cell_type": "markdown",
   "metadata": {},
   "source": [
    "Replace textx within square brackets with an empty space"
   ]
  },
  {
   "cell_type": "code",
   "execution_count": 30,
   "metadata": {},
   "outputs": [],
   "source": [
    "##Sqbracket\n",
    "df_all['all_clean'] = df_all['all'].map(lambda x: re.sub('\\[\\w+\\]', ' ', str(x).lower()))"
   ]
  },
  {
   "cell_type": "markdown",
   "metadata": {},
   "source": [
    "Replace any URLs with an empty space; we do not desire to see 'https' as one of the most frequent word in our corpus and hence introduce unnecessary noise into our model."
   ]
  },
  {
   "cell_type": "code",
   "execution_count": 31,
   "metadata": {},
   "outputs": [],
   "source": [
    "##URLs\n",
    "df_all['all_clean'] = df_all['all_clean'].map(lambda x: re.sub('http[s]?:\\/\\/[^\\s]*', ' ', str(x).lower()))"
   ]
  },
  {
   "cell_type": "markdown",
   "metadata": {},
   "source": [
    "Replace any numerical information with an empty space"
   ]
  },
  {
   "cell_type": "code",
   "execution_count": 32,
   "metadata": {},
   "outputs": [],
   "source": [
    "##numbers\n",
    "df_all['all_clean'] = df_all['all_clean'].map(lambda x: re.sub('\\d', ' ', str(x).lower()))"
   ]
  },
  {
   "cell_type": "code",
   "execution_count": 33,
   "metadata": {},
   "outputs": [
    {
     "data": {
      "text/html": [
       "<div>\n",
       "<style scoped>\n",
       "    .dataframe tbody tr th:only-of-type {\n",
       "        vertical-align: middle;\n",
       "    }\n",
       "\n",
       "    .dataframe tbody tr th {\n",
       "        vertical-align: top;\n",
       "    }\n",
       "\n",
       "    .dataframe thead th {\n",
       "        text-align: right;\n",
       "    }\n",
       "</style>\n",
       "<table border=\"1\" class=\"dataframe\">\n",
       "  <thead>\n",
       "    <tr style=\"text-align: right;\">\n",
       "      <th></th>\n",
       "      <th>title</th>\n",
       "      <th>selftext</th>\n",
       "      <th>all</th>\n",
       "      <th>in</th>\n",
       "      <th>all_clean</th>\n",
       "    </tr>\n",
       "  </thead>\n",
       "  <tbody>\n",
       "    <tr>\n",
       "      <th>0</th>\n",
       "      <td>Delicious Blue Bottle Coffee</td>\n",
       "      <td></td>\n",
       "      <td>Delicious Blue Bottle Coffee</td>\n",
       "      <td>0</td>\n",
       "      <td>delicious blue bottle coffee</td>\n",
       "    </tr>\n",
       "    <tr>\n",
       "      <th>1</th>\n",
       "      <td>PSA: Looking for an inexpensive alternative to...</td>\n",
       "      <td></td>\n",
       "      <td>PSA: Looking for an inexpensive alternative to...</td>\n",
       "      <td>0</td>\n",
       "      <td>psa: looking for an inexpensive alternative to...</td>\n",
       "    </tr>\n",
       "    <tr>\n",
       "      <th>2</th>\n",
       "      <td>Is there a feasible way to store coffee for lo...</td>\n",
       "      <td>I just received two 2 pound bags of coffee for...</td>\n",
       "      <td>Is there a feasible way to store coffee for lo...</td>\n",
       "      <td>0</td>\n",
       "      <td>is there a feasible way to store coffee for lo...</td>\n",
       "    </tr>\n",
       "    <tr>\n",
       "      <th>3</th>\n",
       "      <td>A shot in the dark (name that coffee)</td>\n",
       "      <td>I want to get some coffee for a very left-lean...</td>\n",
       "      <td>A shot in the dark (name that coffee) I want t...</td>\n",
       "      <td>0</td>\n",
       "      <td>a shot in the dark (name that coffee) i want t...</td>\n",
       "    </tr>\n",
       "    <tr>\n",
       "      <th>4</th>\n",
       "      <td>[Serious question] How can I keep drinking cof...</td>\n",
       "      <td>This isn't a joke at all. I'm 100% serious. I ...</td>\n",
       "      <td>[Serious question] How can I keep drinking cof...</td>\n",
       "      <td>0</td>\n",
       "      <td>[serious question] how can i keep drinking cof...</td>\n",
       "    </tr>\n",
       "  </tbody>\n",
       "</table>\n",
       "</div>"
      ],
      "text/plain": [
       "                                               title  \\\n",
       "0                       Delicious Blue Bottle Coffee   \n",
       "1  PSA: Looking for an inexpensive alternative to...   \n",
       "2  Is there a feasible way to store coffee for lo...   \n",
       "3              A shot in the dark (name that coffee)   \n",
       "4  [Serious question] How can I keep drinking cof...   \n",
       "\n",
       "                                            selftext  \\\n",
       "0                                                      \n",
       "1                                                      \n",
       "2  I just received two 2 pound bags of coffee for...   \n",
       "3  I want to get some coffee for a very left-lean...   \n",
       "4  This isn't a joke at all. I'm 100% serious. I ...   \n",
       "\n",
       "                                                 all  in  \\\n",
       "0                      Delicious Blue Bottle Coffee    0   \n",
       "1  PSA: Looking for an inexpensive alternative to...   0   \n",
       "2  Is there a feasible way to store coffee for lo...   0   \n",
       "3  A shot in the dark (name that coffee) I want t...   0   \n",
       "4  [Serious question] How can I keep drinking cof...   0   \n",
       "\n",
       "                                           all_clean  \n",
       "0                      delicious blue bottle coffee   \n",
       "1  psa: looking for an inexpensive alternative to...  \n",
       "2  is there a feasible way to store coffee for lo...  \n",
       "3  a shot in the dark (name that coffee) i want t...  \n",
       "4  [serious question] how can i keep drinking cof...  "
      ]
     },
     "execution_count": 33,
     "metadata": {},
     "output_type": "execute_result"
    }
   ],
   "source": [
    "df_all.head()"
   ]
  },
  {
   "cell_type": "markdown",
   "metadata": {},
   "source": [
    "### Tokenize our documents"
   ]
  },
  {
   "cell_type": "code",
   "execution_count": 34,
   "metadata": {},
   "outputs": [],
   "source": [
    "tokenizer = RegexpTokenizer(r'\\w+')"
   ]
  },
  {
   "cell_type": "code",
   "execution_count": 35,
   "metadata": {},
   "outputs": [],
   "source": [
    "df_all['all_tokenized'] = df_all['all_clean'].map(lambda x: tokenizer.tokenize(x))"
   ]
  },
  {
   "cell_type": "code",
   "execution_count": 36,
   "metadata": {},
   "outputs": [
    {
     "data": {
      "text/html": [
       "<div>\n",
       "<style scoped>\n",
       "    .dataframe tbody tr th:only-of-type {\n",
       "        vertical-align: middle;\n",
       "    }\n",
       "\n",
       "    .dataframe tbody tr th {\n",
       "        vertical-align: top;\n",
       "    }\n",
       "\n",
       "    .dataframe thead th {\n",
       "        text-align: right;\n",
       "    }\n",
       "</style>\n",
       "<table border=\"1\" class=\"dataframe\">\n",
       "  <thead>\n",
       "    <tr style=\"text-align: right;\">\n",
       "      <th></th>\n",
       "      <th>title</th>\n",
       "      <th>selftext</th>\n",
       "      <th>all</th>\n",
       "      <th>in</th>\n",
       "      <th>all_clean</th>\n",
       "      <th>all_tokenized</th>\n",
       "    </tr>\n",
       "  </thead>\n",
       "  <tbody>\n",
       "    <tr>\n",
       "      <th>0</th>\n",
       "      <td>Delicious Blue Bottle Coffee</td>\n",
       "      <td></td>\n",
       "      <td>Delicious Blue Bottle Coffee</td>\n",
       "      <td>0</td>\n",
       "      <td>delicious blue bottle coffee</td>\n",
       "      <td>[delicious, blue, bottle, coffee]</td>\n",
       "    </tr>\n",
       "    <tr>\n",
       "      <th>1</th>\n",
       "      <td>PSA: Looking for an inexpensive alternative to...</td>\n",
       "      <td></td>\n",
       "      <td>PSA: Looking for an inexpensive alternative to...</td>\n",
       "      <td>0</td>\n",
       "      <td>psa: looking for an inexpensive alternative to...</td>\n",
       "      <td>[psa, looking, for, an, inexpensive, alternati...</td>\n",
       "    </tr>\n",
       "    <tr>\n",
       "      <th>2</th>\n",
       "      <td>Is there a feasible way to store coffee for lo...</td>\n",
       "      <td>I just received two 2 pound bags of coffee for...</td>\n",
       "      <td>Is there a feasible way to store coffee for lo...</td>\n",
       "      <td>0</td>\n",
       "      <td>is there a feasible way to store coffee for lo...</td>\n",
       "      <td>[is, there, a, feasible, way, to, store, coffe...</td>\n",
       "    </tr>\n",
       "    <tr>\n",
       "      <th>3</th>\n",
       "      <td>A shot in the dark (name that coffee)</td>\n",
       "      <td>I want to get some coffee for a very left-lean...</td>\n",
       "      <td>A shot in the dark (name that coffee) I want t...</td>\n",
       "      <td>0</td>\n",
       "      <td>a shot in the dark (name that coffee) i want t...</td>\n",
       "      <td>[a, shot, in, the, dark, name, that, coffee, i...</td>\n",
       "    </tr>\n",
       "    <tr>\n",
       "      <th>4</th>\n",
       "      <td>[Serious question] How can I keep drinking cof...</td>\n",
       "      <td>This isn't a joke at all. I'm 100% serious. I ...</td>\n",
       "      <td>[Serious question] How can I keep drinking cof...</td>\n",
       "      <td>0</td>\n",
       "      <td>[serious question] how can i keep drinking cof...</td>\n",
       "      <td>[serious, question, how, can, i, keep, drinkin...</td>\n",
       "    </tr>\n",
       "  </tbody>\n",
       "</table>\n",
       "</div>"
      ],
      "text/plain": [
       "                                               title  \\\n",
       "0                       Delicious Blue Bottle Coffee   \n",
       "1  PSA: Looking for an inexpensive alternative to...   \n",
       "2  Is there a feasible way to store coffee for lo...   \n",
       "3              A shot in the dark (name that coffee)   \n",
       "4  [Serious question] How can I keep drinking cof...   \n",
       "\n",
       "                                            selftext  \\\n",
       "0                                                      \n",
       "1                                                      \n",
       "2  I just received two 2 pound bags of coffee for...   \n",
       "3  I want to get some coffee for a very left-lean...   \n",
       "4  This isn't a joke at all. I'm 100% serious. I ...   \n",
       "\n",
       "                                                 all  in  \\\n",
       "0                      Delicious Blue Bottle Coffee    0   \n",
       "1  PSA: Looking for an inexpensive alternative to...   0   \n",
       "2  Is there a feasible way to store coffee for lo...   0   \n",
       "3  A shot in the dark (name that coffee) I want t...   0   \n",
       "4  [Serious question] How can I keep drinking cof...   0   \n",
       "\n",
       "                                           all_clean  \\\n",
       "0                      delicious blue bottle coffee    \n",
       "1  psa: looking for an inexpensive alternative to...   \n",
       "2  is there a feasible way to store coffee for lo...   \n",
       "3  a shot in the dark (name that coffee) i want t...   \n",
       "4  [serious question] how can i keep drinking cof...   \n",
       "\n",
       "                                       all_tokenized  \n",
       "0                  [delicious, blue, bottle, coffee]  \n",
       "1  [psa, looking, for, an, inexpensive, alternati...  \n",
       "2  [is, there, a, feasible, way, to, store, coffe...  \n",
       "3  [a, shot, in, the, dark, name, that, coffee, i...  \n",
       "4  [serious, question, how, can, i, keep, drinkin...  "
      ]
     },
     "execution_count": 36,
     "metadata": {},
     "output_type": "execute_result"
    }
   ],
   "source": [
    "df_all.head()"
   ]
  },
  {
   "cell_type": "markdown",
   "metadata": {},
   "source": [
    "### Lemmatize our documents"
   ]
  },
  {
   "cell_type": "markdown",
   "metadata": {},
   "source": [
    "Before we perform our TFIDF transformation, we should lemmatize our words to get them into its respective base form. "
   ]
  },
  {
   "cell_type": "markdown",
   "metadata": {},
   "source": [
    "We instantiate a wordnetlemmatizer that allows us to lemmatize the passed in document."
   ]
  },
  {
   "cell_type": "code",
   "execution_count": 37,
   "metadata": {},
   "outputs": [],
   "source": [
    "from nltk.stem import WordNetLemmatizer\n",
    "lemmatizer = WordNetLemmatizer()"
   ]
  },
  {
   "cell_type": "markdown",
   "metadata": {},
   "source": [
    "Create a column of the lemmatized versions of the all_tokenized column"
   ]
  },
  {
   "cell_type": "code",
   "execution_count": 38,
   "metadata": {},
   "outputs": [],
   "source": [
    "df_all['all_lemm'] = df_all['all_tokenized'].map(lambda x: ' '.join([lemmatizer.lemmatize(word) for word in x]))"
   ]
  },
  {
   "cell_type": "code",
   "execution_count": 39,
   "metadata": {},
   "outputs": [
    {
     "data": {
      "text/html": [
       "<div>\n",
       "<style scoped>\n",
       "    .dataframe tbody tr th:only-of-type {\n",
       "        vertical-align: middle;\n",
       "    }\n",
       "\n",
       "    .dataframe tbody tr th {\n",
       "        vertical-align: top;\n",
       "    }\n",
       "\n",
       "    .dataframe thead th {\n",
       "        text-align: right;\n",
       "    }\n",
       "</style>\n",
       "<table border=\"1\" class=\"dataframe\">\n",
       "  <thead>\n",
       "    <tr style=\"text-align: right;\">\n",
       "      <th></th>\n",
       "      <th>title</th>\n",
       "      <th>selftext</th>\n",
       "      <th>all</th>\n",
       "      <th>in</th>\n",
       "      <th>all_clean</th>\n",
       "      <th>all_tokenized</th>\n",
       "      <th>all_lemm</th>\n",
       "    </tr>\n",
       "  </thead>\n",
       "  <tbody>\n",
       "    <tr>\n",
       "      <th>0</th>\n",
       "      <td>Delicious Blue Bottle Coffee</td>\n",
       "      <td></td>\n",
       "      <td>Delicious Blue Bottle Coffee</td>\n",
       "      <td>0</td>\n",
       "      <td>delicious blue bottle coffee</td>\n",
       "      <td>[delicious, blue, bottle, coffee]</td>\n",
       "      <td>delicious blue bottle coffee</td>\n",
       "    </tr>\n",
       "    <tr>\n",
       "      <th>1</th>\n",
       "      <td>PSA: Looking for an inexpensive alternative to...</td>\n",
       "      <td></td>\n",
       "      <td>PSA: Looking for an inexpensive alternative to...</td>\n",
       "      <td>0</td>\n",
       "      <td>psa: looking for an inexpensive alternative to...</td>\n",
       "      <td>[psa, looking, for, an, inexpensive, alternati...</td>\n",
       "      <td>psa looking for an inexpensive alternative to ...</td>\n",
       "    </tr>\n",
       "    <tr>\n",
       "      <th>2</th>\n",
       "      <td>Is there a feasible way to store coffee for lo...</td>\n",
       "      <td>I just received two 2 pound bags of coffee for...</td>\n",
       "      <td>Is there a feasible way to store coffee for lo...</td>\n",
       "      <td>0</td>\n",
       "      <td>is there a feasible way to store coffee for lo...</td>\n",
       "      <td>[is, there, a, feasible, way, to, store, coffe...</td>\n",
       "      <td>is there a feasible way to store coffee for lo...</td>\n",
       "    </tr>\n",
       "    <tr>\n",
       "      <th>3</th>\n",
       "      <td>A shot in the dark (name that coffee)</td>\n",
       "      <td>I want to get some coffee for a very left-lean...</td>\n",
       "      <td>A shot in the dark (name that coffee) I want t...</td>\n",
       "      <td>0</td>\n",
       "      <td>a shot in the dark (name that coffee) i want t...</td>\n",
       "      <td>[a, shot, in, the, dark, name, that, coffee, i...</td>\n",
       "      <td>a shot in the dark name that coffee i want to ...</td>\n",
       "    </tr>\n",
       "    <tr>\n",
       "      <th>4</th>\n",
       "      <td>[Serious question] How can I keep drinking cof...</td>\n",
       "      <td>This isn't a joke at all. I'm 100% serious. I ...</td>\n",
       "      <td>[Serious question] How can I keep drinking cof...</td>\n",
       "      <td>0</td>\n",
       "      <td>[serious question] how can i keep drinking cof...</td>\n",
       "      <td>[serious, question, how, can, i, keep, drinkin...</td>\n",
       "      <td>serious question how can i keep drinking coffe...</td>\n",
       "    </tr>\n",
       "  </tbody>\n",
       "</table>\n",
       "</div>"
      ],
      "text/plain": [
       "                                               title  \\\n",
       "0                       Delicious Blue Bottle Coffee   \n",
       "1  PSA: Looking for an inexpensive alternative to...   \n",
       "2  Is there a feasible way to store coffee for lo...   \n",
       "3              A shot in the dark (name that coffee)   \n",
       "4  [Serious question] How can I keep drinking cof...   \n",
       "\n",
       "                                            selftext  \\\n",
       "0                                                      \n",
       "1                                                      \n",
       "2  I just received two 2 pound bags of coffee for...   \n",
       "3  I want to get some coffee for a very left-lean...   \n",
       "4  This isn't a joke at all. I'm 100% serious. I ...   \n",
       "\n",
       "                                                 all  in  \\\n",
       "0                      Delicious Blue Bottle Coffee    0   \n",
       "1  PSA: Looking for an inexpensive alternative to...   0   \n",
       "2  Is there a feasible way to store coffee for lo...   0   \n",
       "3  A shot in the dark (name that coffee) I want t...   0   \n",
       "4  [Serious question] How can I keep drinking cof...   0   \n",
       "\n",
       "                                           all_clean  \\\n",
       "0                      delicious blue bottle coffee    \n",
       "1  psa: looking for an inexpensive alternative to...   \n",
       "2  is there a feasible way to store coffee for lo...   \n",
       "3  a shot in the dark (name that coffee) i want t...   \n",
       "4  [serious question] how can i keep drinking cof...   \n",
       "\n",
       "                                       all_tokenized  \\\n",
       "0                  [delicious, blue, bottle, coffee]   \n",
       "1  [psa, looking, for, an, inexpensive, alternati...   \n",
       "2  [is, there, a, feasible, way, to, store, coffe...   \n",
       "3  [a, shot, in, the, dark, name, that, coffee, i...   \n",
       "4  [serious, question, how, can, i, keep, drinkin...   \n",
       "\n",
       "                                            all_lemm  \n",
       "0                       delicious blue bottle coffee  \n",
       "1  psa looking for an inexpensive alternative to ...  \n",
       "2  is there a feasible way to store coffee for lo...  \n",
       "3  a shot in the dark name that coffee i want to ...  \n",
       "4  serious question how can i keep drinking coffe...  "
      ]
     },
     "execution_count": 39,
     "metadata": {},
     "output_type": "execute_result"
    }
   ],
   "source": [
    "df_all.head()"
   ]
  },
  {
   "cell_type": "markdown",
   "metadata": {},
   "source": [
    "### Stemming"
   ]
  },
  {
   "cell_type": "code",
   "execution_count": 40,
   "metadata": {},
   "outputs": [],
   "source": [
    "from nltk.stem.porter import PorterStemmer\n",
    "p_stemmer = PorterStemmer()"
   ]
  },
  {
   "cell_type": "code",
   "execution_count": 41,
   "metadata": {},
   "outputs": [],
   "source": [
    "df_all['all_stem'] = df_all['all_tokenized'].map(lambda x: ' '.join([p_stemmer.stem(word) for word in x]))"
   ]
  },
  {
   "cell_type": "code",
   "execution_count": 42,
   "metadata": {},
   "outputs": [
    {
     "data": {
      "text/html": [
       "<div>\n",
       "<style scoped>\n",
       "    .dataframe tbody tr th:only-of-type {\n",
       "        vertical-align: middle;\n",
       "    }\n",
       "\n",
       "    .dataframe tbody tr th {\n",
       "        vertical-align: top;\n",
       "    }\n",
       "\n",
       "    .dataframe thead th {\n",
       "        text-align: right;\n",
       "    }\n",
       "</style>\n",
       "<table border=\"1\" class=\"dataframe\">\n",
       "  <thead>\n",
       "    <tr style=\"text-align: right;\">\n",
       "      <th></th>\n",
       "      <th>title</th>\n",
       "      <th>selftext</th>\n",
       "      <th>all</th>\n",
       "      <th>in</th>\n",
       "      <th>all_clean</th>\n",
       "      <th>all_tokenized</th>\n",
       "      <th>all_lemm</th>\n",
       "      <th>all_stem</th>\n",
       "    </tr>\n",
       "  </thead>\n",
       "  <tbody>\n",
       "    <tr>\n",
       "      <th>0</th>\n",
       "      <td>Delicious Blue Bottle Coffee</td>\n",
       "      <td></td>\n",
       "      <td>Delicious Blue Bottle Coffee</td>\n",
       "      <td>0</td>\n",
       "      <td>delicious blue bottle coffee</td>\n",
       "      <td>[delicious, blue, bottle, coffee]</td>\n",
       "      <td>delicious blue bottle coffee</td>\n",
       "      <td>delici blue bottl coffe</td>\n",
       "    </tr>\n",
       "    <tr>\n",
       "      <th>1</th>\n",
       "      <td>PSA: Looking for an inexpensive alternative to...</td>\n",
       "      <td></td>\n",
       "      <td>PSA: Looking for an inexpensive alternative to...</td>\n",
       "      <td>0</td>\n",
       "      <td>psa: looking for an inexpensive alternative to...</td>\n",
       "      <td>[psa, looking, for, an, inexpensive, alternati...</td>\n",
       "      <td>psa looking for an inexpensive alternative to ...</td>\n",
       "      <td>psa look for an inexpens altern to a dedic goo...</td>\n",
       "    </tr>\n",
       "    <tr>\n",
       "      <th>2</th>\n",
       "      <td>Is there a feasible way to store coffee for lo...</td>\n",
       "      <td>I just received two 2 pound bags of coffee for...</td>\n",
       "      <td>Is there a feasible way to store coffee for lo...</td>\n",
       "      <td>0</td>\n",
       "      <td>is there a feasible way to store coffee for lo...</td>\n",
       "      <td>[is, there, a, feasible, way, to, store, coffe...</td>\n",
       "      <td>is there a feasible way to store coffee for lo...</td>\n",
       "      <td>is there a feasibl way to store coffe for long...</td>\n",
       "    </tr>\n",
       "    <tr>\n",
       "      <th>3</th>\n",
       "      <td>A shot in the dark (name that coffee)</td>\n",
       "      <td>I want to get some coffee for a very left-lean...</td>\n",
       "      <td>A shot in the dark (name that coffee) I want t...</td>\n",
       "      <td>0</td>\n",
       "      <td>a shot in the dark (name that coffee) i want t...</td>\n",
       "      <td>[a, shot, in, the, dark, name, that, coffee, i...</td>\n",
       "      <td>a shot in the dark name that coffee i want to ...</td>\n",
       "      <td>a shot in the dark name that coffe i want to g...</td>\n",
       "    </tr>\n",
       "    <tr>\n",
       "      <th>4</th>\n",
       "      <td>[Serious question] How can I keep drinking cof...</td>\n",
       "      <td>This isn't a joke at all. I'm 100% serious. I ...</td>\n",
       "      <td>[Serious question] How can I keep drinking cof...</td>\n",
       "      <td>0</td>\n",
       "      <td>[serious question] how can i keep drinking cof...</td>\n",
       "      <td>[serious, question, how, can, i, keep, drinkin...</td>\n",
       "      <td>serious question how can i keep drinking coffe...</td>\n",
       "      <td>seriou question how can i keep drink coffe wit...</td>\n",
       "    </tr>\n",
       "  </tbody>\n",
       "</table>\n",
       "</div>"
      ],
      "text/plain": [
       "                                               title  \\\n",
       "0                       Delicious Blue Bottle Coffee   \n",
       "1  PSA: Looking for an inexpensive alternative to...   \n",
       "2  Is there a feasible way to store coffee for lo...   \n",
       "3              A shot in the dark (name that coffee)   \n",
       "4  [Serious question] How can I keep drinking cof...   \n",
       "\n",
       "                                            selftext  \\\n",
       "0                                                      \n",
       "1                                                      \n",
       "2  I just received two 2 pound bags of coffee for...   \n",
       "3  I want to get some coffee for a very left-lean...   \n",
       "4  This isn't a joke at all. I'm 100% serious. I ...   \n",
       "\n",
       "                                                 all  in  \\\n",
       "0                      Delicious Blue Bottle Coffee    0   \n",
       "1  PSA: Looking for an inexpensive alternative to...   0   \n",
       "2  Is there a feasible way to store coffee for lo...   0   \n",
       "3  A shot in the dark (name that coffee) I want t...   0   \n",
       "4  [Serious question] How can I keep drinking cof...   0   \n",
       "\n",
       "                                           all_clean  \\\n",
       "0                      delicious blue bottle coffee    \n",
       "1  psa: looking for an inexpensive alternative to...   \n",
       "2  is there a feasible way to store coffee for lo...   \n",
       "3  a shot in the dark (name that coffee) i want t...   \n",
       "4  [serious question] how can i keep drinking cof...   \n",
       "\n",
       "                                       all_tokenized  \\\n",
       "0                  [delicious, blue, bottle, coffee]   \n",
       "1  [psa, looking, for, an, inexpensive, alternati...   \n",
       "2  [is, there, a, feasible, way, to, store, coffe...   \n",
       "3  [a, shot, in, the, dark, name, that, coffee, i...   \n",
       "4  [serious, question, how, can, i, keep, drinkin...   \n",
       "\n",
       "                                            all_lemm  \\\n",
       "0                       delicious blue bottle coffee   \n",
       "1  psa looking for an inexpensive alternative to ...   \n",
       "2  is there a feasible way to store coffee for lo...   \n",
       "3  a shot in the dark name that coffee i want to ...   \n",
       "4  serious question how can i keep drinking coffe...   \n",
       "\n",
       "                                            all_stem  \n",
       "0                            delici blue bottl coffe  \n",
       "1  psa look for an inexpens altern to a dedic goo...  \n",
       "2  is there a feasibl way to store coffe for long...  \n",
       "3  a shot in the dark name that coffe i want to g...  \n",
       "4  seriou question how can i keep drink coffe wit...  "
      ]
     },
     "execution_count": 42,
     "metadata": {},
     "output_type": "execute_result"
    }
   ],
   "source": [
    "df_all.head()"
   ]
  },
  {
   "cell_type": "markdown",
   "metadata": {},
   "source": [
    "I investigated both lemmatizing and stemming my posts and it seems that stemming is too aggressive. For example, the word 'differences' becomes 'differ' when stemming versus 'difference' with lemmatizing. I will proceed with the lemmatized version for my analysis as I do not want to lose too much meaning behind the diction of posts/documents."
   ]
  },
  {
   "cell_type": "code",
   "execution_count": 43,
   "metadata": {},
   "outputs": [],
   "source": [
    "df_all['char_count'] = df_all['all_lemm'].map(len)"
   ]
  },
  {
   "cell_type": "code",
   "execution_count": 44,
   "metadata": {},
   "outputs": [],
   "source": [
    "df_all['word_count'] = df_all['all_lemm'].map(lambda x: len(x.split()))"
   ]
  },
  {
   "cell_type": "code",
   "execution_count": 45,
   "metadata": {},
   "outputs": [
    {
     "data": {
      "text/html": [
       "<div>\n",
       "<style scoped>\n",
       "    .dataframe tbody tr th:only-of-type {\n",
       "        vertical-align: middle;\n",
       "    }\n",
       "\n",
       "    .dataframe tbody tr th {\n",
       "        vertical-align: top;\n",
       "    }\n",
       "\n",
       "    .dataframe thead th {\n",
       "        text-align: right;\n",
       "    }\n",
       "</style>\n",
       "<table border=\"1\" class=\"dataframe\">\n",
       "  <thead>\n",
       "    <tr style=\"text-align: right;\">\n",
       "      <th></th>\n",
       "      <th>title</th>\n",
       "      <th>selftext</th>\n",
       "      <th>all</th>\n",
       "      <th>in</th>\n",
       "      <th>all_clean</th>\n",
       "      <th>all_tokenized</th>\n",
       "      <th>all_lemm</th>\n",
       "      <th>all_stem</th>\n",
       "      <th>char_count</th>\n",
       "      <th>word_count</th>\n",
       "    </tr>\n",
       "  </thead>\n",
       "  <tbody>\n",
       "    <tr>\n",
       "      <th>0</th>\n",
       "      <td>Delicious Blue Bottle Coffee</td>\n",
       "      <td></td>\n",
       "      <td>Delicious Blue Bottle Coffee</td>\n",
       "      <td>0</td>\n",
       "      <td>delicious blue bottle coffee</td>\n",
       "      <td>[delicious, blue, bottle, coffee]</td>\n",
       "      <td>delicious blue bottle coffee</td>\n",
       "      <td>delici blue bottl coffe</td>\n",
       "      <td>28</td>\n",
       "      <td>4</td>\n",
       "    </tr>\n",
       "    <tr>\n",
       "      <th>1</th>\n",
       "      <td>PSA: Looking for an inexpensive alternative to...</td>\n",
       "      <td></td>\n",
       "      <td>PSA: Looking for an inexpensive alternative to...</td>\n",
       "      <td>0</td>\n",
       "      <td>psa: looking for an inexpensive alternative to...</td>\n",
       "      <td>[psa, looking, for, an, inexpensive, alternati...</td>\n",
       "      <td>psa looking for an inexpensive alternative to ...</td>\n",
       "      <td>psa look for an inexpens altern to a dedic goo...</td>\n",
       "      <td>121</td>\n",
       "      <td>18</td>\n",
       "    </tr>\n",
       "    <tr>\n",
       "      <th>2</th>\n",
       "      <td>Is there a feasible way to store coffee for lo...</td>\n",
       "      <td>I just received two 2 pound bags of coffee for...</td>\n",
       "      <td>Is there a feasible way to store coffee for lo...</td>\n",
       "      <td>0</td>\n",
       "      <td>is there a feasible way to store coffee for lo...</td>\n",
       "      <td>[is, there, a, feasible, way, to, store, coffe...</td>\n",
       "      <td>is there a feasible way to store coffee for lo...</td>\n",
       "      <td>is there a feasibl way to store coffe for long...</td>\n",
       "      <td>371</td>\n",
       "      <td>72</td>\n",
       "    </tr>\n",
       "    <tr>\n",
       "      <th>3</th>\n",
       "      <td>A shot in the dark (name that coffee)</td>\n",
       "      <td>I want to get some coffee for a very left-lean...</td>\n",
       "      <td>A shot in the dark (name that coffee) I want t...</td>\n",
       "      <td>0</td>\n",
       "      <td>a shot in the dark (name that coffee) i want t...</td>\n",
       "      <td>[a, shot, in, the, dark, name, that, coffee, i...</td>\n",
       "      <td>a shot in the dark name that coffee i want to ...</td>\n",
       "      <td>a shot in the dark name that coffe i want to g...</td>\n",
       "      <td>300</td>\n",
       "      <td>57</td>\n",
       "    </tr>\n",
       "    <tr>\n",
       "      <th>4</th>\n",
       "      <td>[Serious question] How can I keep drinking cof...</td>\n",
       "      <td>This isn't a joke at all. I'm 100% serious. I ...</td>\n",
       "      <td>[Serious question] How can I keep drinking cof...</td>\n",
       "      <td>0</td>\n",
       "      <td>[serious question] how can i keep drinking cof...</td>\n",
       "      <td>[serious, question, how, can, i, keep, drinkin...</td>\n",
       "      <td>serious question how can i keep drinking coffe...</td>\n",
       "      <td>seriou question how can i keep drink coffe wit...</td>\n",
       "      <td>439</td>\n",
       "      <td>92</td>\n",
       "    </tr>\n",
       "  </tbody>\n",
       "</table>\n",
       "</div>"
      ],
      "text/plain": [
       "                                               title  \\\n",
       "0                       Delicious Blue Bottle Coffee   \n",
       "1  PSA: Looking for an inexpensive alternative to...   \n",
       "2  Is there a feasible way to store coffee for lo...   \n",
       "3              A shot in the dark (name that coffee)   \n",
       "4  [Serious question] How can I keep drinking cof...   \n",
       "\n",
       "                                            selftext  \\\n",
       "0                                                      \n",
       "1                                                      \n",
       "2  I just received two 2 pound bags of coffee for...   \n",
       "3  I want to get some coffee for a very left-lean...   \n",
       "4  This isn't a joke at all. I'm 100% serious. I ...   \n",
       "\n",
       "                                                 all  in  \\\n",
       "0                      Delicious Blue Bottle Coffee    0   \n",
       "1  PSA: Looking for an inexpensive alternative to...   0   \n",
       "2  Is there a feasible way to store coffee for lo...   0   \n",
       "3  A shot in the dark (name that coffee) I want t...   0   \n",
       "4  [Serious question] How can I keep drinking cof...   0   \n",
       "\n",
       "                                           all_clean  \\\n",
       "0                      delicious blue bottle coffee    \n",
       "1  psa: looking for an inexpensive alternative to...   \n",
       "2  is there a feasible way to store coffee for lo...   \n",
       "3  a shot in the dark (name that coffee) i want t...   \n",
       "4  [serious question] how can i keep drinking cof...   \n",
       "\n",
       "                                       all_tokenized  \\\n",
       "0                  [delicious, blue, bottle, coffee]   \n",
       "1  [psa, looking, for, an, inexpensive, alternati...   \n",
       "2  [is, there, a, feasible, way, to, store, coffe...   \n",
       "3  [a, shot, in, the, dark, name, that, coffee, i...   \n",
       "4  [serious, question, how, can, i, keep, drinkin...   \n",
       "\n",
       "                                            all_lemm  \\\n",
       "0                       delicious blue bottle coffee   \n",
       "1  psa looking for an inexpensive alternative to ...   \n",
       "2  is there a feasible way to store coffee for lo...   \n",
       "3  a shot in the dark name that coffee i want to ...   \n",
       "4  serious question how can i keep drinking coffe...   \n",
       "\n",
       "                                            all_stem  char_count  word_count  \n",
       "0                            delici blue bottl coffe          28           4  \n",
       "1  psa look for an inexpens altern to a dedic goo...         121          18  \n",
       "2  is there a feasibl way to store coffe for long...         371          72  \n",
       "3  a shot in the dark name that coffe i want to g...         300          57  \n",
       "4  seriou question how can i keep drink coffe wit...         439          92  "
      ]
     },
     "execution_count": 45,
     "metadata": {},
     "output_type": "execute_result"
    }
   ],
   "source": [
    "df_all.head()"
   ]
  },
  {
   "cell_type": "code",
   "execution_count": 51,
   "metadata": {},
   "outputs": [
    {
     "data": {
      "text/plain": [
       "Text(0, 0.5, 'Count')"
      ]
     },
     "execution_count": 51,
     "metadata": {},
     "output_type": "execute_result"
    },
    {
     "data": {
      "image/png": "[encoded data removed]",
      "text/plain": [
       "<Figure size 1440x720 with 1 Axes>"
      ]
     },
     "metadata": {
      "needs_background": "light"
     },
     "output_type": "display_data"
    }
   ],
   "source": [
    "plt.figure(figsize=(20,10))\n",
    "plt.hist([df_all[df_all['in']==0]['char_count'],\n",
    "          df_all[df_all['in']==1]['char_count']],\n",
    "         bins=20, color=['purple','lightblue'], ec='k') ##ec = edge color\n",
    "plt.title('Character Count by Class', fontsize=30)\n",
    "plt.legend(['out', 'in'], fontsize = 15)\n",
    "plt.xlabel('Number of characters', fontsize = 15)\n",
    "plt.ylabel('Count', fontsize = 15)"
   ]
  },
  {
   "cell_type": "markdown",
   "metadata": {},
   "source": [
    "We see that many posts have less than 2500 characters; we also observe that the newer posts (dated from 12/1/17 to 12/1/18) seem to have a higher count of posts"
   ]
  },
  {
   "cell_type": "code",
   "execution_count": 53,
   "metadata": {},
   "outputs": [
    {
     "data": {
      "text/plain": [
       "Text(0, 0.5, 'Count')"
      ]
     },
     "execution_count": 53,
     "metadata": {},
     "output_type": "execute_result"
    },
    {
     "data": {
      "image/png": "[encoded data removed]",
      "text/plain": [
       "<Figure size 1440x720 with 1 Axes>"
      ]
     },
     "metadata": {
      "needs_background": "light"
     },
     "output_type": "display_data"
    }
   ],
   "source": [
    "plt.figure(figsize=(20,10))\n",
    "plt.hist([df_all[df_all['in']==0]['word_count'],\n",
    "          df_all[df_all['in']==1]['word_count']],\n",
    "         bins=20, color=['purple','lightblue'], ec='k') ##ec = edge color\n",
    "plt.title('Word Count by Class', fontsize=30)\n",
    "plt.legend(['out', 'in'], fontsize = 15)\n",
    "plt.xlabel('Number of words', fontsize = 15)\n",
    "plt.ylabel('Count', fontsize = 15)"
   ]
  },
  {
   "cell_type": "markdown",
   "metadata": {},
   "source": [
    "A similar narrative to the character count: we observe that the newer posts (dated from 12/1/17 to 12/1/18) have a higher count of words in a given post"
   ]
  },
  {
   "cell_type": "markdown",
   "metadata": {},
   "source": [
    "## CountVectorize"
   ]
  },
  {
   "cell_type": "markdown",
   "metadata": {},
   "source": [
    "To conduct more robust EDA we utilize CountVectorizer to convert our posts into vector representations whereby each document/post is now defined in a vector space by the words that comprise the post and the frequency at which they occur."
   ]
  },
  {
   "cell_type": "code",
   "execution_count": 55,
   "metadata": {},
   "outputs": [],
   "source": [
    "from sklearn.feature_extraction.stop_words import ENGLISH_STOP_WORDS\n",
    "\n",
    "custom_stop_words = list(ENGLISH_STOP_WORDS)\n",
    "custom_stop_words.append('ve')\n",
    "custom_stop_words.append('wa')\n",
    "custom_stop_words.append('just')\n",
    "custom_stop_words.append('don')\n",
    "custom_stop_words.append('amp')\n",
    "custom_stop_words.append('gt')"
   ]
  },
  {
   "cell_type": "markdown",
   "metadata": {},
   "source": [
    "According to the sklearn documentation, countvectorizer converts a collection of text documents to a matrix of token counts; this creates a sparse representation of the counts using scipy.sparse.csr_matrix. The countvectorizer method is a bag of words approach where a text is represented as the bag of its words, disregarding grammar and even word order but keeping multiplicity"
   ]
  },
  {
   "cell_type": "markdown",
   "metadata": {},
   "source": [
    "We instantiate a CountVectorizer class with the following parameters:\n",
    "- `ngram_range` of (1,2): we want to ensure that we keep the context of words in tact. For example the word 'French' may appear in our document which may not be the most beneficial but once we keep the context in place of 'French roast' the word has more meaning.\n",
    "- `stop_words` of custom_stop_words: After first round of countvectorizing and exploring the data, I realized that there were many words that appeared frequently due to lemmatization. We filter these words that carry no meaning through the customized stop words.\n",
    "- `min_df` of 15: When building the vocabulary, ignore terms that have a document frequency strictly lower than the given threshold. With a min_df set to 15, we will ignore words that does not occur at least 15 times. \n",
    "- `max_df` of 1.0: We ignore terms that have a document frequency of greater than 100%; we want to avoid including terms that occur in all documents as they are likely to occur in the subreddits of different timeframe and will not help categorize between the two classes. "
   ]
  },
  {
   "cell_type": "code",
   "execution_count": 56,
   "metadata": {},
   "outputs": [],
   "source": [
    "cv = CountVectorizer(ngram_range=(1,2), \n",
    "                             stop_words = custom_stop_words, \n",
    "                             min_df = 15, \n",
    "                             max_df = 1.0)"
   ]
  },
  {
   "cell_type": "code",
   "execution_count": 57,
   "metadata": {},
   "outputs": [],
   "source": [
    "term_mat = cv.fit_transform(df_all['all_lemm'])"
   ]
  },
  {
   "cell_type": "code",
   "execution_count": 58,
   "metadata": {},
   "outputs": [],
   "source": [
    "term_df = pd.DataFrame(term_mat.toarray(), columns=cv.get_feature_names())"
   ]
  },
  {
   "cell_type": "code",
   "execution_count": 59,
   "metadata": {},
   "outputs": [],
   "source": [
    "term_df.index = df_all['in']"
   ]
  },
  {
   "cell_type": "code",
   "execution_count": 60,
   "metadata": {},
   "outputs": [
    {
     "data": {
      "text/html": [
       "<div>\n",
       "<style scoped>\n",
       "    .dataframe tbody tr th:only-of-type {\n",
       "        vertical-align: middle;\n",
       "    }\n",
       "\n",
       "    .dataframe tbody tr th {\n",
       "        vertical-align: top;\n",
       "    }\n",
       "\n",
       "    .dataframe thead th {\n",
       "        text-align: right;\n",
       "    }\n",
       "</style>\n",
       "<table border=\"1\" class=\"dataframe\">\n",
       "  <thead>\n",
       "    <tr style=\"text-align: right;\">\n",
       "      <th></th>\n",
       "      <th>_______</th>\n",
       "      <th>_______ ama</th>\n",
       "      <th>aa</th>\n",
       "      <th>ability</th>\n",
       "      <th>able</th>\n",
       "      <th>able brew</th>\n",
       "      <th>able buy</th>\n",
       "      <th>able drink</th>\n",
       "      <th>able help</th>\n",
       "      <th>able make</th>\n",
       "      <th>...</th>\n",
       "      <th>youtube video</th>\n",
       "      <th>yr</th>\n",
       "      <th>yuck</th>\n",
       "      <th>yummy</th>\n",
       "      <th>zassenhaus</th>\n",
       "      <th>zealand</th>\n",
       "      <th>zero</th>\n",
       "      <th>ziplock</th>\n",
       "      <th>zojirushi</th>\n",
       "      <th>zone</th>\n",
       "    </tr>\n",
       "    <tr>\n",
       "      <th>in</th>\n",
       "      <th></th>\n",
       "      <th></th>\n",
       "      <th></th>\n",
       "      <th></th>\n",
       "      <th></th>\n",
       "      <th></th>\n",
       "      <th></th>\n",
       "      <th></th>\n",
       "      <th></th>\n",
       "      <th></th>\n",
       "      <th></th>\n",
       "      <th></th>\n",
       "      <th></th>\n",
       "      <th></th>\n",
       "      <th></th>\n",
       "      <th></th>\n",
       "      <th></th>\n",
       "      <th></th>\n",
       "      <th></th>\n",
       "      <th></th>\n",
       "      <th></th>\n",
       "    </tr>\n",
       "  </thead>\n",
       "  <tbody>\n",
       "    <tr>\n",
       "      <th>0</th>\n",
       "      <td>0</td>\n",
       "      <td>0</td>\n",
       "      <td>0</td>\n",
       "      <td>0</td>\n",
       "      <td>0</td>\n",
       "      <td>0</td>\n",
       "      <td>0</td>\n",
       "      <td>0</td>\n",
       "      <td>0</td>\n",
       "      <td>0</td>\n",
       "      <td>...</td>\n",
       "      <td>0</td>\n",
       "      <td>0</td>\n",
       "      <td>0</td>\n",
       "      <td>0</td>\n",
       "      <td>0</td>\n",
       "      <td>0</td>\n",
       "      <td>0</td>\n",
       "      <td>0</td>\n",
       "      <td>0</td>\n",
       "      <td>0</td>\n",
       "    </tr>\n",
       "    <tr>\n",
       "      <th>0</th>\n",
       "      <td>0</td>\n",
       "      <td>0</td>\n",
       "      <td>0</td>\n",
       "      <td>0</td>\n",
       "      <td>0</td>\n",
       "      <td>0</td>\n",
       "      <td>0</td>\n",
       "      <td>0</td>\n",
       "      <td>0</td>\n",
       "      <td>0</td>\n",
       "      <td>...</td>\n",
       "      <td>0</td>\n",
       "      <td>0</td>\n",
       "      <td>0</td>\n",
       "      <td>0</td>\n",
       "      <td>0</td>\n",
       "      <td>0</td>\n",
       "      <td>0</td>\n",
       "      <td>0</td>\n",
       "      <td>0</td>\n",
       "      <td>0</td>\n",
       "    </tr>\n",
       "    <tr>\n",
       "      <th>0</th>\n",
       "      <td>0</td>\n",
       "      <td>0</td>\n",
       "      <td>0</td>\n",
       "      <td>0</td>\n",
       "      <td>0</td>\n",
       "      <td>0</td>\n",
       "      <td>0</td>\n",
       "      <td>0</td>\n",
       "      <td>0</td>\n",
       "      <td>0</td>\n",
       "      <td>...</td>\n",
       "      <td>0</td>\n",
       "      <td>0</td>\n",
       "      <td>0</td>\n",
       "      <td>0</td>\n",
       "      <td>0</td>\n",
       "      <td>0</td>\n",
       "      <td>0</td>\n",
       "      <td>0</td>\n",
       "      <td>0</td>\n",
       "      <td>0</td>\n",
       "    </tr>\n",
       "    <tr>\n",
       "      <th>0</th>\n",
       "      <td>0</td>\n",
       "      <td>0</td>\n",
       "      <td>0</td>\n",
       "      <td>0</td>\n",
       "      <td>0</td>\n",
       "      <td>0</td>\n",
       "      <td>0</td>\n",
       "      <td>0</td>\n",
       "      <td>0</td>\n",
       "      <td>0</td>\n",
       "      <td>...</td>\n",
       "      <td>0</td>\n",
       "      <td>0</td>\n",
       "      <td>0</td>\n",
       "      <td>0</td>\n",
       "      <td>0</td>\n",
       "      <td>0</td>\n",
       "      <td>0</td>\n",
       "      <td>0</td>\n",
       "      <td>0</td>\n",
       "      <td>0</td>\n",
       "    </tr>\n",
       "    <tr>\n",
       "      <th>0</th>\n",
       "      <td>0</td>\n",
       "      <td>0</td>\n",
       "      <td>0</td>\n",
       "      <td>0</td>\n",
       "      <td>0</td>\n",
       "      <td>0</td>\n",
       "      <td>0</td>\n",
       "      <td>0</td>\n",
       "      <td>0</td>\n",
       "      <td>0</td>\n",
       "      <td>...</td>\n",
       "      <td>0</td>\n",
       "      <td>0</td>\n",
       "      <td>0</td>\n",
       "      <td>0</td>\n",
       "      <td>0</td>\n",
       "      <td>0</td>\n",
       "      <td>0</td>\n",
       "      <td>0</td>\n",
       "      <td>0</td>\n",
       "      <td>0</td>\n",
       "    </tr>\n",
       "  </tbody>\n",
       "</table>\n",
       "<p>5 rows × 10651 columns</p>\n",
       "</div>"
      ],
      "text/plain": [
       "    _______  _______ ama  aa  ability  able  able brew  able buy  able drink  \\\n",
       "in                                                                             \n",
       "0         0            0   0        0     0          0         0           0   \n",
       "0         0            0   0        0     0          0         0           0   \n",
       "0         0            0   0        0     0          0         0           0   \n",
       "0         0            0   0        0     0          0         0           0   \n",
       "0         0            0   0        0     0          0         0           0   \n",
       "\n",
       "    able help  able make  ...   youtube video  yr  yuck  yummy  zassenhaus  \\\n",
       "in                        ...                                                \n",
       "0           0          0  ...               0   0     0      0           0   \n",
       "0           0          0  ...               0   0     0      0           0   \n",
       "0           0          0  ...               0   0     0      0           0   \n",
       "0           0          0  ...               0   0     0      0           0   \n",
       "0           0          0  ...               0   0     0      0           0   \n",
       "\n",
       "    zealand  zero  ziplock  zojirushi  zone  \n",
       "in                                           \n",
       "0         0     0        0          0     0  \n",
       "0         0     0        0          0     0  \n",
       "0         0     0        0          0     0  \n",
       "0         0     0        0          0     0  \n",
       "0         0     0        0          0     0  \n",
       "\n",
       "[5 rows x 10651 columns]"
      ]
     },
     "execution_count": 60,
     "metadata": {},
     "output_type": "execute_result"
    }
   ],
   "source": [
    "term_df.head()"
   ]
  },
  {
   "cell_type": "code",
   "execution_count": 61,
   "metadata": {},
   "outputs": [
    {
     "data": {
      "text/plain": [
       "([0, 1, 2, 3, 4, 5, 6, 7, 8, 9, 10, 11, 12, 13, 14],\n",
       " <a list of 15 Text yticklabel objects>)"
      ]
     },
     "execution_count": 61,
     "metadata": {},
     "output_type": "execute_result"
    },
    {
     "data": {
      "image/png": "[encoded data removed]",
      "text/plain": [
       "<Figure size 1440x720 with 1 Axes>"
      ]
     },
     "metadata": {
      "needs_background": "light"
     },
     "output_type": "display_data"
    }
   ],
   "source": [
    "plt.figure(figsize=(20,10))\n",
    "plt.barh(y = term_df[term_df.index == 0].sum().sort_values(ascending = False).head(15).index,\n",
    "         width = term_df[term_df.index == 0].sum().sort_values(ascending = False).head(15))\n",
    "plt.title('Top Word Count for Old coffee trends', fontsize = 30)\n",
    "plt.xlabel('Count', fontsize = 15)\n",
    "plt.xticks(fontsize = 15)\n",
    "plt.yticks(fontsize = 15)"
   ]
  },
  {
   "cell_type": "markdown",
   "metadata": {},
   "source": [
    "The most talked about words in 2015 posts were the following: 'coffee', 'like', 'cup', 'bean', and 'grinder'. Not much to decipher other than people were rightfully talking about coffee related stuff on the coffee subreddit"
   ]
  },
  {
   "cell_type": "code",
   "execution_count": 82,
   "metadata": {},
   "outputs": [
    {
     "data": {
      "text/plain": [
       "([0, 1, 2, 3, 4, 5, 6, 7, 8, 9, 10, 11, 12, 13, 14],\n",
       " <a list of 15 Text yticklabel objects>)"
      ]
     },
     "execution_count": 82,
     "metadata": {},
     "output_type": "execute_result"
    },
    {
     "data": {
      "image/png": "[encoded data removed]",
      "text/plain": [
       "<Figure size 1440x720 with 1 Axes>"
      ]
     },
     "metadata": {
      "needs_background": "light"
     },
     "output_type": "display_data"
    }
   ],
   "source": [
    "plt.figure(figsize=(20,10))\n",
    "plt.barh(y = term_df[term_df.index == 1].sum().sort_values(ascending = False).head(15).index,\n",
    "         width = term_df[term_df.index == 1].sum().sort_values(ascending = False).head(15))\n",
    "plt.title('Top Word Count for New coffee trends', fontsize = 30)\n",
    "plt.xlabel('Count', fontsize = 15)\n",
    "plt.xticks(fontsize = 15)\n",
    "plt.yticks(fontsize = 15)"
   ]
  },
  {
   "cell_type": "markdown",
   "metadata": {},
   "source": [
    "The most talked about words in 2018 posts were the following: 'coffee', 'grinder', 'like', 'bean', and 'espresso'. Again, not too much to decipher other than people were rightfully talking about coffee related stuff on the coffee subreddit. People seemed to be talking about 'grinder' more in 2017 than they did back in 2015."
   ]
  },
  {
   "cell_type": "markdown",
   "metadata": {},
   "source": [
    "### Explore counts of words"
   ]
  },
  {
   "cell_type": "code",
   "execution_count": 63,
   "metadata": {},
   "outputs": [],
   "source": [
    "# Fit our CountVectorizer on the training data and transform training data.\n",
    "X_in_counts = pd.DataFrame(cv.fit_transform(df_all['all_lemm']).todense(), ##todense is 'expanding' the compressed version (adding 0's)\n",
    "                          columns = cv.get_feature_names())\n",
    "\n",
    "X_in_counts = X_in_counts.astype(bool).astype(int)"
   ]
  },
  {
   "cell_type": "markdown",
   "metadata": {},
   "source": [
    "Created a separate boolean dataframe where if a word appears in a document (once or x number of times), the count vectorizer counts it as 1 and not the number of times it appears in the document. This allows us to avoid noise from posts that may include a certain word many number of times."
   ]
  },
  {
   "cell_type": "code",
   "execution_count": 64,
   "metadata": {},
   "outputs": [
    {
     "data": {
      "text/plain": [
       "(32045, 10)"
      ]
     },
     "execution_count": 64,
     "metadata": {},
     "output_type": "execute_result"
    }
   ],
   "source": [
    "df_all.shape"
   ]
  },
  {
   "cell_type": "code",
   "execution_count": 65,
   "metadata": {},
   "outputs": [
    {
     "data": {
      "text/plain": [
       "18033"
      ]
     },
     "execution_count": 65,
     "metadata": {},
     "output_type": "execute_result"
    }
   ],
   "source": [
    "df_all.index.unique().size"
   ]
  },
  {
   "cell_type": "code",
   "execution_count": 66,
   "metadata": {},
   "outputs": [],
   "source": [
    "df_all.reset_index(drop=True, inplace = True)"
   ]
  },
  {
   "cell_type": "code",
   "execution_count": 67,
   "metadata": {},
   "outputs": [
    {
     "data": {
      "text/plain": [
       "32045"
      ]
     },
     "execution_count": 67,
     "metadata": {},
     "output_type": "execute_result"
    }
   ],
   "source": [
    "df_all.index.unique().size"
   ]
  },
  {
   "cell_type": "code",
   "execution_count": 68,
   "metadata": {},
   "outputs": [],
   "source": [
    "X_in_0 = X_in_counts[df_all['in']==0]"
   ]
  },
  {
   "cell_type": "code",
   "execution_count": 69,
   "metadata": {},
   "outputs": [],
   "source": [
    "X_in_1 = X_in_counts[df_all['in']==1]"
   ]
  },
  {
   "cell_type": "code",
   "execution_count": 70,
   "metadata": {},
   "outputs": [
    {
     "data": {
      "text/plain": [
       "0    13979\n",
       "1       33\n",
       "Name: ability, dtype: int64"
      ]
     },
     "execution_count": 70,
     "metadata": {},
     "output_type": "execute_result"
    }
   ],
   "source": [
    "X_in_0['ability'].value_counts()"
   ]
  },
  {
   "cell_type": "code",
   "execution_count": 71,
   "metadata": {},
   "outputs": [],
   "source": [
    "diff = (X_in_1.sum() - X_in_0.sum())"
   ]
  },
  {
   "cell_type": "markdown",
   "metadata": {},
   "source": [
    "Lost popularity"
   ]
  },
  {
   "cell_type": "code",
   "execution_count": 72,
   "metadata": {},
   "outputs": [],
   "source": [
    "diff_df = pd.DataFrame(diff, columns = ['diff'])"
   ]
  },
  {
   "cell_type": "code",
   "execution_count": 73,
   "metadata": {},
   "outputs": [
    {
     "data": {
      "text/html": [
       "<div>\n",
       "<style scoped>\n",
       "    .dataframe tbody tr th:only-of-type {\n",
       "        vertical-align: middle;\n",
       "    }\n",
       "\n",
       "    .dataframe tbody tr th {\n",
       "        vertical-align: top;\n",
       "    }\n",
       "\n",
       "    .dataframe thead th {\n",
       "        text-align: right;\n",
       "    }\n",
       "</style>\n",
       "<table border=\"1\" class=\"dataframe\">\n",
       "  <thead>\n",
       "    <tr style=\"text-align: right;\">\n",
       "      <th></th>\n",
       "      <th>diff</th>\n",
       "    </tr>\n",
       "  </thead>\n",
       "  <tbody>\n",
       "    <tr>\n",
       "      <th>_______</th>\n",
       "      <td>-13</td>\n",
       "    </tr>\n",
       "    <tr>\n",
       "      <th>_______ ama</th>\n",
       "      <td>-8</td>\n",
       "    </tr>\n",
       "    <tr>\n",
       "      <th>aa</th>\n",
       "      <td>15</td>\n",
       "    </tr>\n",
       "    <tr>\n",
       "      <th>ability</th>\n",
       "      <td>29</td>\n",
       "    </tr>\n",
       "    <tr>\n",
       "      <th>able</th>\n",
       "      <td>186</td>\n",
       "    </tr>\n",
       "  </tbody>\n",
       "</table>\n",
       "</div>"
      ],
      "text/plain": [
       "             diff\n",
       "_______       -13\n",
       "_______ ama    -8\n",
       "aa             15\n",
       "ability        29\n",
       "able          186"
      ]
     },
     "execution_count": 73,
     "metadata": {},
     "output_type": "execute_result"
    }
   ],
   "source": [
    "diff_df.head()"
   ]
  },
  {
   "cell_type": "code",
   "execution_count": 74,
   "metadata": {},
   "outputs": [
    {
     "data": {
      "text/plain": [
       "([0, 1, 2, 3, 4, 5, 6, 7, 8, 9, 10, 11, 12, 13, 14],\n",
       " <a list of 15 Text yticklabel objects>)"
      ]
     },
     "execution_count": 74,
     "metadata": {},
     "output_type": "execute_result"
    },
    {
     "data": {
      "image/png": "[encoded data removed]",
      "text/plain": [
       "<Figure size 1440x720 with 1 Axes>"
      ]
     },
     "metadata": {
      "needs_background": "light"
     },
     "output_type": "display_data"
    }
   ],
   "source": [
    "plt.figure(figsize=(20,10))\n",
    "temp = diff_df.sort_values('diff', ascending=False).head(15)\n",
    "plt.barh(temp.index, temp['diff'])\n",
    "plt.title('Top 15 increase in word frequency between 2015 and 2018', fontsize=35)\n",
    "plt.xlabel('Difference in counts', fontsize=25)\n",
    "plt.ylabel('word', fontsize=25)\n",
    "plt.xticks(fontsize = 15)\n",
    "plt.yticks(fontsize = 15)"
   ]
  },
  {
   "cell_type": "markdown",
   "metadata": {},
   "source": [
    "From the above, we can infer that individuals are talking more about coffee-related topics in 2018 than they were in 2015. This should be of interest for retailers looking to change their coffee machines offerings because it supports the fact that people are still interested in coffee and hence more likely to purchase coffee-related equipment. "
   ]
  },
  {
   "cell_type": "code",
   "execution_count": 75,
   "metadata": {},
   "outputs": [
    {
     "data": {
      "text/plain": [
       "([0, 1, 2, 3, 4, 5, 6, 7, 8, 9, 10, 11, 12, 13, 14],\n",
       " <a list of 15 Text yticklabel objects>)"
      ]
     },
     "execution_count": 75,
     "metadata": {},
     "output_type": "execute_result"
    },
    {
     "data": {
      "image/png": "[encoded data removed]",
      "text/plain": [
       "<Figure size 1440x720 with 1 Axes>"
      ]
     },
     "metadata": {
      "needs_background": "light"
     },
     "output_type": "display_data"
    }
   ],
   "source": [
    "plt.figure(figsize=(20,10))\n",
    "temp = diff_df.sort_values('diff', ascending=True).head(15)\n",
    "plt.barh(temp.index, temp['diff'])\n",
    "plt.title('Top 15 decrease in word frequency between 2015 and 2018', fontsize=35)\n",
    "plt.xlabel('Difference in counts', fontsize=25)\n",
    "plt.ylabel('word', fontsize=25)\n",
    "plt.xticks(fontsize = 15)\n",
    "plt.yticks(fontsize = 15)"
   ]
  },
  {
   "cell_type": "markdown",
   "metadata": {},
   "source": [
    "This seems to convey a strong message. The above difference in count charts From EDA, I can see that there is interesting change between the year 2015 and 2017 in the coffee subreddit, mainly the decrease in word frequency of hario and hario mini. This finding should be kept in mind during analysis. From the above EDA, I have reason to believe that there may be enough signal that a statistical model will pick up and generate a convincing story."
   ]
  },
  {
   "cell_type": "markdown",
   "metadata": {},
   "source": [
    "Modeling will be performed, however, on the TF-IDF'ed dataframe as it promotes rarer words and 'penalizes' common words. This is beneficial because words that occur often in one document/post but do not occur in many other documents among my corpus contain a great deal of discriminating power and inserts noise."
   ]
  },
  {
   "cell_type": "markdown",
   "metadata": {},
   "source": [
    "Save out the csv with cleaned and explored dataset for modeling"
   ]
  },
  {
   "cell_type": "code",
   "execution_count": 76,
   "metadata": {},
   "outputs": [],
   "source": [
    "df_all.to_csv('../datasets/df_all.csv')"
   ]
  }
 ],
 "metadata": {
  "kernelspec": {
   "display_name": "Python 3",
   "language": "python",
   "name": "python3"
  },
  "language_info": {
   "codemirror_mode": {
    "name": "ipython",
    "version": 3
   },
   "file_extension": ".py",
   "mimetype": "text/x-python",
   "name": "python",
   "nbconvert_exporter": "python",
   "pygments_lexer": "ipython3",
   "version": "3.7.0"
  }
 },
 "nbformat": 4,
 "nbformat_minor": 2
}
