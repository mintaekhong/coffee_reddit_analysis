{
 "cells": [
  {
   "cell_type": "markdown",
   "metadata": {},
   "source": [
    "# Coffee_NLP"
   ]
  },
  {
   "cell_type": "code",
   "execution_count": 1,
   "metadata": {},
   "outputs": [],
   "source": [
    "import numpy as np\n",
    "import requests\n",
    "from datetime import datetime\n",
    "import time\n",
    "import pandas as pd\n",
    "import json\n",
    "import re\n",
    "\n",
    "from sklearn.feature_extraction.text import CountVectorizer\n",
    "\n",
    "np.random.seed(42)\n",
    "\n",
    "import matplotlib.pyplot as plt\n",
    "import seaborn as sns\n",
    "sns.set()\n",
    "%matplotlib inline"
   ]
  },
  {
   "cell_type": "markdown",
   "metadata": {},
   "source": [
    "## Pushshift API"
   ]
  },
  {
   "cell_type": "markdown",
   "metadata": {},
   "source": [
    "The Pushshift API allows us to access Reddit data via constructing an URL with relevant parameters without needing Reddit credentials; For example, an URL below such will query posts from the Coffee subreddit (subreddit of interest) within the range of the specified unix timestamps which is the time in seconds elapsed since 00:00:00 Thursday, 1 January 1970.\n",
    "\n",
    "https://api.pushift.io/reddit/submission/search/?subreddit=Coffee&limit1000&after=1514764800&before=1517443200"
   ]
  },
  {
   "cell_type": "markdown",
   "metadata": {},
   "source": [
    "The official documentation for Pushshift API can be found at https://github.com/pushshift/api"
   ]
  },
  {
   "cell_type": "markdown",
   "metadata": {},
   "source": [
    "Attributions are in order: I obtained the below PushShift API function code from the following source: https://www.reddit.com/r/redditdev/comments/8vaum1/how_to_retrieve_old_posts_from_subreddits/"
   ]
  },
  {
   "cell_type": "markdown",
   "metadata": {},
   "source": [
    "### Collect \"Old\" Coffee posts"
   ]
  },
  {
   "cell_type": "code",
   "execution_count": 2,
   "metadata": {},
   "outputs": [],
   "source": [
    "import datetime"
   ]
  },
  {
   "cell_type": "markdown",
   "metadata": {},
   "source": [
    "The function seeks to gather posts from the coffee subreddit; if there are more than 1000 posts within the given timeframe, through the Pushshift API we iteratively collect all posts."
   ]
  },
  {
   "cell_type": "code",
   "execution_count": 3,
   "metadata": {},
   "outputs": [],
   "source": [
    " def get_posts_for_time_period(sub, beginning, end=int(datetime.datetime.now().timestamp())):\n",
    "    print(\"Querying pushshift\")\n",
    "    url = \"https://apiv2.pushshift.io/reddit/submission/search/\" \\\n",
    "               \"?subreddit={0}\" \\\n",
    "               \"&limit=1000\" \\\n",
    "               \"&after={1}\" \\\n",
    "               \"&before={2}\".format(sub, beginning, end)\n",
    "         \n",
    "    response = requests.get(url)\n",
    "    resp_json = response.json()\n",
    "    return resp_json['data']"
   ]
  },
  {
   "cell_type": "markdown",
   "metadata": {},
   "source": [
    "I chose the year 2015 to assign as my 'old' data. When I had initially used 1/1/2017 to 12/31/2017 as my 'old' data and compared with 'new' data of 1/1/2018 to 12/1/2018, there was no discernible distinction between the two timeframe in terms of changes in coffee trends. In order to detect enough signal, I chose an older timeframe of 2015 for analysis."
   ]
  },
  {
   "cell_type": "code",
   "execution_count": 4,
   "metadata": {},
   "outputs": [
    {
     "name": "stdout",
     "output_type": "stream",
     "text": [
      "Querying pushshift\n"
     ]
    }
   ],
   "source": [
    "beginning_timestamp = int(datetime.datetime(year=2015, month=1, day=1).timestamp()) \n",
    "end_timestamp = int(datetime.datetime(year=2015, month=12, day=31).timestamp()) \n",
    "data_1 = get_posts_for_time_period(\"Coffee\", beginning_timestamp, end_timestamp)\n",
    "all_data_old = data_1"
   ]
  },
  {
   "cell_type": "code",
   "execution_count": 5,
   "metadata": {},
   "outputs": [],
   "source": [
    "response = requests.get(\"https://apiv2.pushshift.io/reddit/submission/search/?subreddit={0}&limit=1000&after={1}&before={2}\")"
   ]
  },
  {
   "cell_type": "code",
   "execution_count": 6,
   "metadata": {},
   "outputs": [
    {
     "data": {
      "text/plain": [
       "list"
      ]
     },
     "execution_count": 6,
     "metadata": {},
     "output_type": "execute_result"
    }
   ],
   "source": [
    "type(all_data_old)"
   ]
  },
  {
   "cell_type": "markdown",
   "metadata": {},
   "source": [
    "The URL creates and returns a JSON formatted result like below:"
   ]
  },
  {
   "cell_type": "code",
   "execution_count": 7,
   "metadata": {},
   "outputs": [
    {
     "data": {
      "text/plain": [
       "[{'author': 'hilinecoffee',\n",
       "  'author_flair_css_class': None,\n",
       "  'author_flair_text': None,\n",
       "  'created_utc': 1420112239,\n",
       "  'domain': 'articlesfactory.com',\n",
       "  'full_link': 'https://www.reddit.com/r/Coffee/comments/2r02kg/delicious_blue_bottle_coffee/',\n",
       "  'id': '2r02kg',\n",
       "  'is_self': False,\n",
       "  'num_comments': 0,\n",
       "  'over_18': False,\n",
       "  'permalink': '/r/Coffee/comments/2r02kg/delicious_blue_bottle_coffee/',\n",
       "  'retrieved_on': 1440990924,\n",
       "  'score': 0,\n",
       "  'stickied': False,\n",
       "  'subreddit': 'Coffee',\n",
       "  'subreddit_id': 't5_2qhze',\n",
       "  'thumbnail': 'default',\n",
       "  'title': 'Delicious Blue Bottle Coffee',\n",
       "  'url': 'http://www.articlesfactory.com/articles/advice/know-more-about-the-different-types-of-coffee.html'}]"
      ]
     },
     "execution_count": 7,
     "metadata": {},
     "output_type": "execute_result"
    }
   ],
   "source": [
    "all_data_old[0:1]"
   ]
  },
  {
   "cell_type": "code",
   "execution_count": 8,
   "metadata": {},
   "outputs": [
    {
     "data": {
      "text/plain": [
       "1421842810"
      ]
     },
     "execution_count": 8,
     "metadata": {},
     "output_type": "execute_result"
    }
   ],
   "source": [
    "all_data_old[999]['created_utc']"
   ]
  },
  {
   "cell_type": "code",
   "execution_count": 9,
   "metadata": {},
   "outputs": [],
   "source": [
    "import datetime"
   ]
  },
  {
   "cell_type": "markdown",
   "metadata": {},
   "source": [
    "Through a while loop, I gather all posts from the subreddit within a given timeframe."
   ]
  },
  {
   "cell_type": "code",
   "execution_count": 10,
   "metadata": {},
   "outputs": [
    {
     "name": "stdout",
     "output_type": "stream",
     "text": [
      "Querying pushshift\n",
      "Queried pushshift until 2015-02-10 15:13:04\n",
      "Querying pushshift\n",
      "Queried pushshift until 2015-03-03 19:59:19\n",
      "Querying pushshift\n",
      "Queried pushshift until 2015-03-26 16:12:18\n",
      "Querying pushshift\n",
      "Queried pushshift until 2015-04-20 18:11:24\n",
      "Querying pushshift\n",
      "Queried pushshift until 2015-05-18 21:01:27\n",
      "Querying pushshift\n",
      "Queried pushshift until 2015-06-16 13:09:27\n",
      "Querying pushshift\n",
      "Queried pushshift until 2015-07-13 16:04:28\n",
      "Querying pushshift\n",
      "Queried pushshift until 2015-08-08 12:38:02\n",
      "Querying pushshift\n",
      "Queried pushshift until 2015-08-31 20:06:40\n",
      "Querying pushshift\n",
      "Queried pushshift until 2015-09-27 12:53:39\n",
      "Querying pushshift\n",
      "Queried pushshift until 2015-10-21 01:48:44\n",
      "Querying pushshift\n",
      "Queried pushshift until 2015-11-16 06:58:57\n",
      "Querying pushshift\n",
      "Queried pushshift until 2015-12-09 20:15:10\n",
      "Querying pushshift\n",
      "Queried pushshift until 2015-12-30 19:10:19\n",
      "Querying pushshift\n",
      "Queried pushshift until 2015-12-31 07:35:05\n"
     ]
    }
   ],
   "source": [
    "while len(data_1) >= 1000:\n",
    "    last_one = data_1[999]\n",
    "    updated_timestamp = last_one['created_utc'] + 1\n",
    "    data_1 = get_posts_for_time_period(sub=\"Coffee\", beginning=updated_timestamp, end=end_timestamp)\n",
    "    print('Queried pushshift until', datetime.datetime.utcfromtimestamp(data_1[-1]['created_utc']).strftime('%Y-%m-%d %H:%M:%S'))\n",
    "    all_data_old.extend(data_1)"
   ]
  },
  {
   "cell_type": "code",
   "execution_count": 61,
   "metadata": {},
   "outputs": [
    {
     "data": {
      "text/plain": [
       "15035"
      ]
     },
     "execution_count": 61,
     "metadata": {},
     "output_type": "execute_result"
    }
   ],
   "source": [
    "len(all_data_old)"
   ]
  },
  {
   "cell_type": "markdown",
   "metadata": {},
   "source": [
    "We collected a total of 15,035 posts from 1/1/15 to 12/31/15"
   ]
  },
  {
   "cell_type": "markdown",
   "metadata": {},
   "source": [
    "### Collect \"New\" coffee posts"
   ]
  },
  {
   "cell_type": "markdown",
   "metadata": {},
   "source": [
    "Now we collect more posts from the coffee subreddit but with a different timeframe. I chose the respective timeframe of between 12/1/17 and 12/1/18 to understand recent coffee trends and what users talk about."
   ]
  },
  {
   "cell_type": "code",
   "execution_count": 12,
   "metadata": {},
   "outputs": [
    {
     "name": "stdout",
     "output_type": "stream",
     "text": [
      "Querying pushshift\n"
     ]
    }
   ],
   "source": [
    "beginning_timestamp_new = int(datetime.datetime(year=2017, month=12, day=1).timestamp())\n",
    "end_timestamp_new = int(datetime.datetime(year=2018, month=12, day=1).timestamp())\n",
    "data_new = get_posts_for_time_period(\"Coffee\", beginning_timestamp_new, end_timestamp_new)\n",
    "all_data_new = data_new"
   ]
  },
  {
   "cell_type": "code",
   "execution_count": 13,
   "metadata": {},
   "outputs": [
    {
     "name": "stdout",
     "output_type": "stream",
     "text": [
      "Querying pushshift\n",
      "Queried pushshift until 2018-01-06 18:13:05\n",
      "Querying pushshift\n",
      "Queried pushshift until 2018-01-22 23:58:30\n",
      "Querying pushshift\n",
      "Queried pushshift until 2018-02-07 14:46:51\n",
      "Querying pushshift\n",
      "Queried pushshift until 2018-02-24 23:29:53\n",
      "Querying pushshift\n",
      "Queried pushshift until 2018-03-15 10:31:45\n",
      "Querying pushshift\n",
      "Queried pushshift until 2018-04-03 11:47:40\n",
      "Querying pushshift\n",
      "Queried pushshift until 2018-04-22 21:21:31\n",
      "Querying pushshift\n",
      "Queried pushshift until 2018-05-14 01:02:54\n",
      "Querying pushshift\n",
      "Queried pushshift until 2018-06-03 21:29:36\n",
      "Querying pushshift\n",
      "Queried pushshift until 2018-06-25 06:10:33\n",
      "Querying pushshift\n",
      "Queried pushshift until 2018-07-13 19:30:01\n",
      "Querying pushshift\n",
      "Queried pushshift until 2018-08-02 05:46:38\n",
      "Querying pushshift\n",
      "Queried pushshift until 2018-08-22 01:54:54\n",
      "Querying pushshift\n",
      "Queried pushshift until 2018-09-10 00:57:49\n",
      "Querying pushshift\n",
      "Queried pushshift until 2018-09-27 18:47:26\n",
      "Querying pushshift\n",
      "Queried pushshift until 2018-10-15 10:40:29\n",
      "Querying pushshift\n",
      "Queried pushshift until 2018-11-02 22:48:39\n",
      "Querying pushshift\n",
      "Queried pushshift until 2018-11-20 17:31:37\n",
      "Querying pushshift\n",
      "Queried pushshift until 2018-12-01 07:24:11\n"
     ]
    }
   ],
   "source": [
    "while len(data_new) >= 1000:\n",
    "    # go back for more data\n",
    "    last_one_new = data_new[999]\n",
    "    updated_timestamp_new = last_one_new['created_utc'] + 1\n",
    "    data_new = get_posts_for_time_period(sub=\"coffee\", beginning=updated_timestamp_new, end=end_timestamp_new)\n",
    "    print('Queried pushshift until', datetime.datetime.utcfromtimestamp(data_new[-1]['created_utc']).strftime('%Y-%m-%d %H:%M:%S'))\n",
    "    all_data_new.extend(data_new)"
   ]
  },
  {
   "cell_type": "code",
   "execution_count": 14,
   "metadata": {},
   "outputs": [
    {
     "data": {
      "text/plain": [
       "1420931336"
      ]
     },
     "execution_count": 14,
     "metadata": {},
     "output_type": "execute_result"
    }
   ],
   "source": [
    "all_data_new[499]['created_utc']"
   ]
  },
  {
   "cell_type": "code",
   "execution_count": 62,
   "metadata": {},
   "outputs": [
    {
     "data": {
      "text/plain": [
       "19638"
      ]
     },
     "execution_count": 62,
     "metadata": {},
     "output_type": "execute_result"
    }
   ],
   "source": [
    "len(all_data_new)"
   ]
  },
  {
   "cell_type": "markdown",
   "metadata": {},
   "source": [
    "We obtained 19,638 posts from the coffee subreddit"
   ]
  },
  {
   "cell_type": "code",
   "execution_count": 64,
   "metadata": {},
   "outputs": [
    {
     "data": {
      "text/plain": [
       "[{'author': 'dickpiano',\n",
       "  'author_flair_css_class': None,\n",
       "  'author_flair_text': None,\n",
       "  'brand_safe': True,\n",
       "  'can_mod_post': False,\n",
       "  'contest_mode': False,\n",
       "  'created_utc': 1512127700,\n",
       "  'domain': 'self.Coffee',\n",
       "  'full_link': 'https://www.reddit.com/r/Coffee/comments/7gueve/is_instant_coffee_a_scam/',\n",
       "  'id': '7gueve',\n",
       "  'is_crosspostable': True,\n",
       "  'is_reddit_media_domain': False,\n",
       "  'is_self': True,\n",
       "  'is_video': False,\n",
       "  'locked': False,\n",
       "  'num_comments': 13,\n",
       "  'num_crossposts': 0,\n",
       "  'over_18': False,\n",
       "  'parent_whitelist_status': 'all_ads',\n",
       "  'permalink': '/r/Coffee/comments/7gueve/is_instant_coffee_a_scam/',\n",
       "  'pinned': False,\n",
       "  'retrieved_on': 1512209306,\n",
       "  'score': 0,\n",
       "  'selftext': \"I tried drinking instant coffee espresso powder with cold water in the morning and I didn't feel any buzz at all. I rarely drink coffee so my tolerance is low, thus, I would notice a buzz. I tried this several different times and didn't notice SHIT. Are you supposed to use hot water to somehow activate it? What the fuck is going on here? I used the serving size listed on the bottle. Should I ask for a refund? \",\n",
       "  'spoiler': False,\n",
       "  'stickied': False,\n",
       "  'subreddit': 'Coffee',\n",
       "  'subreddit_id': 't5_2qhze',\n",
       "  'subreddit_type': 'public',\n",
       "  'thumbnail': 'self',\n",
       "  'title': 'Is instant coffee a scam?',\n",
       "  'url': 'https://www.reddit.com/r/Coffee/comments/7gueve/is_instant_coffee_a_scam/',\n",
       "  'whitelist_status': 'all_ads'}]"
      ]
     },
     "execution_count": 64,
     "metadata": {},
     "output_type": "execute_result"
    }
   ],
   "source": [
    "all_data_new[1:2]"
   ]
  },
  {
   "cell_type": "markdown",
   "metadata": {},
   "source": [
    "It is evident that we have a list of dicts and we are interested in the 'title' and 'selftext' of each post in the subreddit. We now create lists of 'title' and 'selftext' through list comprehensions for both all_data_old and all_data_new"
   ]
  },
  {
   "cell_type": "markdown",
   "metadata": {},
   "source": [
    "### Process into dataframes"
   ]
  },
  {
   "cell_type": "markdown",
   "metadata": {},
   "source": [
    "Access 'title' and 'selftext' through list comprehensions to read into pandas dataframe"
   ]
  },
  {
   "cell_type": "code",
   "execution_count": 17,
   "metadata": {},
   "outputs": [],
   "source": [
    "title_old = [i['title'] if 'title' in i.keys() else '' for i in all_data_old ]"
   ]
  },
  {
   "cell_type": "code",
   "execution_count": 19,
   "metadata": {},
   "outputs": [],
   "source": [
    "self_text_old = [i['selftext'] if 'selftext' in i.keys() else '' for i in all_data_old]"
   ]
  },
  {
   "cell_type": "code",
   "execution_count": 20,
   "metadata": {},
   "outputs": [
    {
     "data": {
      "text/plain": [
       "15035"
      ]
     },
     "execution_count": 20,
     "metadata": {},
     "output_type": "execute_result"
    }
   ],
   "source": [
    "len(title_old)"
   ]
  },
  {
   "cell_type": "code",
   "execution_count": 21,
   "metadata": {},
   "outputs": [
    {
     "data": {
      "text/plain": [
       "15035"
      ]
     },
     "execution_count": 21,
     "metadata": {},
     "output_type": "execute_result"
    }
   ],
   "source": [
    "len(self_text_old)"
   ]
  },
  {
   "cell_type": "markdown",
   "metadata": {},
   "source": [
    "We confirmed that the length of 'title' and 'selftext' matches the length of all_data_old which contains all our posts"
   ]
  },
  {
   "cell_type": "markdown",
   "metadata": {},
   "source": [
    "Now we create a dataframe of the extracted texts to perform exploratory data analysis"
   ]
  },
  {
   "cell_type": "code",
   "execution_count": 22,
   "metadata": {},
   "outputs": [],
   "source": [
    "df_old = pd.DataFrame({'title':title_old, 'selftext':self_text_old})"
   ]
  },
  {
   "cell_type": "code",
   "execution_count": 23,
   "metadata": {},
   "outputs": [
    {
     "data": {
      "text/plain": [
       "(15035, 2)"
      ]
     },
     "execution_count": 23,
     "metadata": {},
     "output_type": "execute_result"
    }
   ],
   "source": [
    "df_old.shape"
   ]
  },
  {
   "cell_type": "markdown",
   "metadata": {},
   "source": [
    "Join the contents of a post (primarily the title and selftext into one cell/observation and making it into one document via concatentation."
   ]
  },
  {
   "cell_type": "code",
   "execution_count": 24,
   "metadata": {},
   "outputs": [],
   "source": [
    "df_old['all'] = df_old['title'] + ' ' + df_old['selftext']"
   ]
  },
  {
   "cell_type": "code",
   "execution_count": 25,
   "metadata": {},
   "outputs": [
    {
     "data": {
      "text/html": [
       "<div>\n",
       "<style scoped>\n",
       "    .dataframe tbody tr th:only-of-type {\n",
       "        vertical-align: middle;\n",
       "    }\n",
       "\n",
       "    .dataframe tbody tr th {\n",
       "        vertical-align: top;\n",
       "    }\n",
       "\n",
       "    .dataframe thead th {\n",
       "        text-align: right;\n",
       "    }\n",
       "</style>\n",
       "<table border=\"1\" class=\"dataframe\">\n",
       "  <thead>\n",
       "    <tr style=\"text-align: right;\">\n",
       "      <th></th>\n",
       "      <th>title</th>\n",
       "      <th>selftext</th>\n",
       "      <th>all</th>\n",
       "    </tr>\n",
       "  </thead>\n",
       "  <tbody>\n",
       "    <tr>\n",
       "      <th>0</th>\n",
       "      <td>Delicious Blue Bottle Coffee</td>\n",
       "      <td></td>\n",
       "      <td>Delicious Blue Bottle Coffee</td>\n",
       "    </tr>\n",
       "    <tr>\n",
       "      <th>1</th>\n",
       "      <td>PSA: Looking for an inexpensive alternative to...</td>\n",
       "      <td></td>\n",
       "      <td>PSA: Looking for an inexpensive alternative to...</td>\n",
       "    </tr>\n",
       "    <tr>\n",
       "      <th>2</th>\n",
       "      <td>Is there a feasible way to store coffee for lo...</td>\n",
       "      <td>I just received two 2 pound bags of coffee for...</td>\n",
       "      <td>Is there a feasible way to store coffee for lo...</td>\n",
       "    </tr>\n",
       "    <tr>\n",
       "      <th>3</th>\n",
       "      <td>A shot in the dark (name that coffee)</td>\n",
       "      <td>I want to get some coffee for a very left-lean...</td>\n",
       "      <td>A shot in the dark (name that coffee) I want t...</td>\n",
       "    </tr>\n",
       "    <tr>\n",
       "      <th>4</th>\n",
       "      <td>[Serious question] How can I keep drinking cof...</td>\n",
       "      <td>This isn't a joke at all. I'm 100% serious. I ...</td>\n",
       "      <td>[Serious question] How can I keep drinking cof...</td>\n",
       "    </tr>\n",
       "    <tr>\n",
       "      <th>5</th>\n",
       "      <td>2014 Coffee Collage</td>\n",
       "      <td></td>\n",
       "      <td>2014 Coffee Collage</td>\n",
       "    </tr>\n",
       "    <tr>\n",
       "      <th>6</th>\n",
       "      <td>What's your favorite coffee producing country/...</td>\n",
       "      <td>What countries and regions produce your favori...</td>\n",
       "      <td>What's your favorite coffee producing country/...</td>\n",
       "    </tr>\n",
       "    <tr>\n",
       "      <th>7</th>\n",
       "      <td>To-go mug for Keurig mini.</td>\n",
       "      <td>So I got a Keurig for Christmas in order to ma...</td>\n",
       "      <td>To-go mug for Keurig mini. So I got a Keurig f...</td>\n",
       "    </tr>\n",
       "    <tr>\n",
       "      <th>8</th>\n",
       "      <td>Cold Bruer Help</td>\n",
       "      <td>I set up my new Cold Bruer to brew overnight l...</td>\n",
       "      <td>Cold Bruer Help I set up my new Cold Bruer to ...</td>\n",
       "    </tr>\n",
       "    <tr>\n",
       "      <th>9</th>\n",
       "      <td>Have you ever made a decent cup with folgers?</td>\n",
       "      <td></td>\n",
       "      <td>Have you ever made a decent cup with folgers?</td>\n",
       "    </tr>\n",
       "  </tbody>\n",
       "</table>\n",
       "</div>"
      ],
      "text/plain": [
       "                                               title  \\\n",
       "0                       Delicious Blue Bottle Coffee   \n",
       "1  PSA: Looking for an inexpensive alternative to...   \n",
       "2  Is there a feasible way to store coffee for lo...   \n",
       "3              A shot in the dark (name that coffee)   \n",
       "4  [Serious question] How can I keep drinking cof...   \n",
       "5                                2014 Coffee Collage   \n",
       "6  What's your favorite coffee producing country/...   \n",
       "7                         To-go mug for Keurig mini.   \n",
       "8                                    Cold Bruer Help   \n",
       "9      Have you ever made a decent cup with folgers?   \n",
       "\n",
       "                                            selftext  \\\n",
       "0                                                      \n",
       "1                                                      \n",
       "2  I just received two 2 pound bags of coffee for...   \n",
       "3  I want to get some coffee for a very left-lean...   \n",
       "4  This isn't a joke at all. I'm 100% serious. I ...   \n",
       "5                                                      \n",
       "6  What countries and regions produce your favori...   \n",
       "7  So I got a Keurig for Christmas in order to ma...   \n",
       "8  I set up my new Cold Bruer to brew overnight l...   \n",
       "9                                                      \n",
       "\n",
       "                                                 all  \n",
       "0                      Delicious Blue Bottle Coffee   \n",
       "1  PSA: Looking for an inexpensive alternative to...  \n",
       "2  Is there a feasible way to store coffee for lo...  \n",
       "3  A shot in the dark (name that coffee) I want t...  \n",
       "4  [Serious question] How can I keep drinking cof...  \n",
       "5                               2014 Coffee Collage   \n",
       "6  What's your favorite coffee producing country/...  \n",
       "7  To-go mug for Keurig mini. So I got a Keurig f...  \n",
       "8  Cold Bruer Help I set up my new Cold Bruer to ...  \n",
       "9     Have you ever made a decent cup with folgers?   "
      ]
     },
     "execution_count": 25,
     "metadata": {},
     "output_type": "execute_result"
    }
   ],
   "source": [
    "df_old.head(10)"
   ]
  },
  {
   "cell_type": "markdown",
   "metadata": {},
   "source": [
    "Let's remove posts that were removed by the moderator or deleted by the user to minimize noise"
   ]
  },
  {
   "cell_type": "code",
   "execution_count": 26,
   "metadata": {},
   "outputs": [],
   "source": [
    "df_old = df_old[df_old['selftext'] != '[removed]']"
   ]
  },
  {
   "cell_type": "code",
   "execution_count": 27,
   "metadata": {},
   "outputs": [],
   "source": [
    "df_old = df_old[df_old['selftext'] != '[deleted]']"
   ]
  },
  {
   "cell_type": "code",
   "execution_count": 28,
   "metadata": {},
   "outputs": [
    {
     "data": {
      "text/plain": [
       "(14269, 3)"
      ]
     },
     "execution_count": 28,
     "metadata": {},
     "output_type": "execute_result"
    }
   ],
   "source": [
    "df_old.shape"
   ]
  },
  {
   "cell_type": "markdown",
   "metadata": {},
   "source": [
    "We approximately removed 800 posts"
   ]
  },
  {
   "cell_type": "code",
   "execution_count": 29,
   "metadata": {},
   "outputs": [],
   "source": [
    "df_old.reset_index(drop=True, inplace=True)"
   ]
  },
  {
   "cell_type": "markdown",
   "metadata": {},
   "source": [
    "Now I create a separate column indicating the class in which it belongs. We are interested in determining which coffee trends are in-demand. Therefore, the posts that we gathered from the previous timeframe will be deemd 0 or the negative class."
   ]
  },
  {
   "cell_type": "code",
   "execution_count": 30,
   "metadata": {},
   "outputs": [],
   "source": [
    "df_old['in'] = 0"
   ]
  },
  {
   "cell_type": "markdown",
   "metadata": {},
   "source": [
    "Let's also drop duplicates that we may have obtained during our querying of the API."
   ]
  },
  {
   "cell_type": "code",
   "execution_count": 31,
   "metadata": {},
   "outputs": [],
   "source": [
    "df_old.drop_duplicates(keep ='first', inplace = True)"
   ]
  },
  {
   "cell_type": "code",
   "execution_count": 32,
   "metadata": {},
   "outputs": [
    {
     "data": {
      "text/plain": [
       "(14012, 4)"
      ]
     },
     "execution_count": 32,
     "metadata": {},
     "output_type": "execute_result"
    }
   ],
   "source": [
    "df_old.shape"
   ]
  },
  {
   "cell_type": "code",
   "execution_count": 33,
   "metadata": {},
   "outputs": [
    {
     "data": {
      "text/html": [
       "<div>\n",
       "<style scoped>\n",
       "    .dataframe tbody tr th:only-of-type {\n",
       "        vertical-align: middle;\n",
       "    }\n",
       "\n",
       "    .dataframe tbody tr th {\n",
       "        vertical-align: top;\n",
       "    }\n",
       "\n",
       "    .dataframe thead th {\n",
       "        text-align: right;\n",
       "    }\n",
       "</style>\n",
       "<table border=\"1\" class=\"dataframe\">\n",
       "  <thead>\n",
       "    <tr style=\"text-align: right;\">\n",
       "      <th></th>\n",
       "      <th>title</th>\n",
       "      <th>selftext</th>\n",
       "      <th>all</th>\n",
       "      <th>in</th>\n",
       "    </tr>\n",
       "  </thead>\n",
       "  <tbody>\n",
       "    <tr>\n",
       "      <th>0</th>\n",
       "      <td>Delicious Blue Bottle Coffee</td>\n",
       "      <td></td>\n",
       "      <td>Delicious Blue Bottle Coffee</td>\n",
       "      <td>0</td>\n",
       "    </tr>\n",
       "    <tr>\n",
       "      <th>1</th>\n",
       "      <td>PSA: Looking for an inexpensive alternative to...</td>\n",
       "      <td></td>\n",
       "      <td>PSA: Looking for an inexpensive alternative to...</td>\n",
       "      <td>0</td>\n",
       "    </tr>\n",
       "    <tr>\n",
       "      <th>2</th>\n",
       "      <td>Is there a feasible way to store coffee for lo...</td>\n",
       "      <td>I just received two 2 pound bags of coffee for...</td>\n",
       "      <td>Is there a feasible way to store coffee for lo...</td>\n",
       "      <td>0</td>\n",
       "    </tr>\n",
       "    <tr>\n",
       "      <th>3</th>\n",
       "      <td>A shot in the dark (name that coffee)</td>\n",
       "      <td>I want to get some coffee for a very left-lean...</td>\n",
       "      <td>A shot in the dark (name that coffee) I want t...</td>\n",
       "      <td>0</td>\n",
       "    </tr>\n",
       "    <tr>\n",
       "      <th>4</th>\n",
       "      <td>[Serious question] How can I keep drinking cof...</td>\n",
       "      <td>This isn't a joke at all. I'm 100% serious. I ...</td>\n",
       "      <td>[Serious question] How can I keep drinking cof...</td>\n",
       "      <td>0</td>\n",
       "    </tr>\n",
       "  </tbody>\n",
       "</table>\n",
       "</div>"
      ],
      "text/plain": [
       "                                               title  \\\n",
       "0                       Delicious Blue Bottle Coffee   \n",
       "1  PSA: Looking for an inexpensive alternative to...   \n",
       "2  Is there a feasible way to store coffee for lo...   \n",
       "3              A shot in the dark (name that coffee)   \n",
       "4  [Serious question] How can I keep drinking cof...   \n",
       "\n",
       "                                            selftext  \\\n",
       "0                                                      \n",
       "1                                                      \n",
       "2  I just received two 2 pound bags of coffee for...   \n",
       "3  I want to get some coffee for a very left-lean...   \n",
       "4  This isn't a joke at all. I'm 100% serious. I ...   \n",
       "\n",
       "                                                 all  in  \n",
       "0                      Delicious Blue Bottle Coffee    0  \n",
       "1  PSA: Looking for an inexpensive alternative to...   0  \n",
       "2  Is there a feasible way to store coffee for lo...   0  \n",
       "3  A shot in the dark (name that coffee) I want t...   0  \n",
       "4  [Serious question] How can I keep drinking cof...   0  "
      ]
     },
     "execution_count": 33,
     "metadata": {},
     "output_type": "execute_result"
    }
   ],
   "source": [
    "df_old.head()"
   ]
  },
  {
   "cell_type": "markdown",
   "metadata": {},
   "source": [
    "### Repeat the same process for 'new' data"
   ]
  },
  {
   "cell_type": "markdown",
   "metadata": {},
   "source": [
    "We repeat the same process for 'old' data now for 'new' data (a.k.a. posts from 12/1/17 to 12/1/18)"
   ]
  },
  {
   "cell_type": "code",
   "execution_count": 34,
   "metadata": {},
   "outputs": [
    {
     "data": {
      "text/plain": [
       "19638"
      ]
     },
     "execution_count": 34,
     "metadata": {},
     "output_type": "execute_result"
    }
   ],
   "source": [
    "len(all_data_new)"
   ]
  },
  {
   "cell_type": "code",
   "execution_count": 35,
   "metadata": {},
   "outputs": [],
   "source": [
    "title_new = [i['title'] if 'title' in i.keys() else '' for i in all_data_new]"
   ]
  },
  {
   "cell_type": "code",
   "execution_count": 36,
   "metadata": {},
   "outputs": [],
   "source": [
    "self_text_new = [i['selftext'] if 'selftext' in i.keys() else '' for i in all_data_new]"
   ]
  },
  {
   "cell_type": "code",
   "execution_count": 37,
   "metadata": {},
   "outputs": [],
   "source": [
    "df_new = pd.DataFrame({'title':title_new, 'selftext':self_text_new})"
   ]
  },
  {
   "cell_type": "code",
   "execution_count": 38,
   "metadata": {},
   "outputs": [
    {
     "data": {
      "text/html": [
       "<div>\n",
       "<style scoped>\n",
       "    .dataframe tbody tr th:only-of-type {\n",
       "        vertical-align: middle;\n",
       "    }\n",
       "\n",
       "    .dataframe tbody tr th {\n",
       "        vertical-align: top;\n",
       "    }\n",
       "\n",
       "    .dataframe thead th {\n",
       "        text-align: right;\n",
       "    }\n",
       "</style>\n",
       "<table border=\"1\" class=\"dataframe\">\n",
       "  <thead>\n",
       "    <tr style=\"text-align: right;\">\n",
       "      <th></th>\n",
       "      <th>title</th>\n",
       "      <th>selftext</th>\n",
       "    </tr>\n",
       "  </thead>\n",
       "  <tbody>\n",
       "    <tr>\n",
       "      <th>0</th>\n",
       "      <td>Is there any hope with automatic coffee brewers?</td>\n",
       "      <td>I've been doing pour-overs for a while and rea...</td>\n",
       "    </tr>\n",
       "    <tr>\n",
       "      <th>1</th>\n",
       "      <td>Is instant coffee a scam?</td>\n",
       "      <td>I tried drinking instant coffee espresso powde...</td>\n",
       "    </tr>\n",
       "    <tr>\n",
       "      <th>2</th>\n",
       "      <td>DIY Drip Coffee Maker?</td>\n",
       "      <td>I've been in a DIY mood lately.  I would love ...</td>\n",
       "    </tr>\n",
       "    <tr>\n",
       "      <th>3</th>\n",
       "      <td>Does anyone else feel like they don’t feel the...</td>\n",
       "      <td>I drink a LOT of coffee, and I was wondering i...</td>\n",
       "    </tr>\n",
       "    <tr>\n",
       "      <th>4</th>\n",
       "      <td>Is there anyone who feels completely the same ...</td>\n",
       "      <td>[removed]</td>\n",
       "    </tr>\n",
       "    <tr>\n",
       "      <th>5</th>\n",
       "      <td>Never had coffee</td>\n",
       "      <td>Hi folks, I know this may sound crazy, but I'v...</td>\n",
       "    </tr>\n",
       "    <tr>\n",
       "      <th>6</th>\n",
       "      <td>Starbucks and Cheetos have teamed up to bring ...</td>\n",
       "      <td>[deleted]</td>\n",
       "    </tr>\n",
       "    <tr>\n",
       "      <th>7</th>\n",
       "      <td>[news] that extra cup of java is good for you,...</td>\n",
       "      <td></td>\n",
       "    </tr>\n",
       "    <tr>\n",
       "      <th>8</th>\n",
       "      <td>Best coffee to buy in Seattle?</td>\n",
       "      <td>So I’ll be heading to the emerald city one wee...</td>\n",
       "    </tr>\n",
       "    <tr>\n",
       "      <th>9</th>\n",
       "      <td>Chemex drinkers - What’s your trick?</td>\n",
       "      <td>I just got an 8 cup Chemex and I’m having trou...</td>\n",
       "    </tr>\n",
       "  </tbody>\n",
       "</table>\n",
       "</div>"
      ],
      "text/plain": [
       "                                               title  \\\n",
       "0   Is there any hope with automatic coffee brewers?   \n",
       "1                          Is instant coffee a scam?   \n",
       "2                             DIY Drip Coffee Maker?   \n",
       "3  Does anyone else feel like they don’t feel the...   \n",
       "4  Is there anyone who feels completely the same ...   \n",
       "5                                   Never had coffee   \n",
       "6  Starbucks and Cheetos have teamed up to bring ...   \n",
       "7  [news] that extra cup of java is good for you,...   \n",
       "8                     Best coffee to buy in Seattle?   \n",
       "9               Chemex drinkers - What’s your trick?   \n",
       "\n",
       "                                            selftext  \n",
       "0  I've been doing pour-overs for a while and rea...  \n",
       "1  I tried drinking instant coffee espresso powde...  \n",
       "2  I've been in a DIY mood lately.  I would love ...  \n",
       "3  I drink a LOT of coffee, and I was wondering i...  \n",
       "4                                          [removed]  \n",
       "5  Hi folks, I know this may sound crazy, but I'v...  \n",
       "6                                          [deleted]  \n",
       "7                                                     \n",
       "8  So I’ll be heading to the emerald city one wee...  \n",
       "9  I just got an 8 cup Chemex and I’m having trou...  "
      ]
     },
     "execution_count": 38,
     "metadata": {},
     "output_type": "execute_result"
    }
   ],
   "source": [
    "df_new.head(10)"
   ]
  },
  {
   "cell_type": "code",
   "execution_count": 39,
   "metadata": {},
   "outputs": [
    {
     "data": {
      "text/plain": [
       "(19638, 2)"
      ]
     },
     "execution_count": 39,
     "metadata": {},
     "output_type": "execute_result"
    }
   ],
   "source": [
    "df_new.shape"
   ]
  },
  {
   "cell_type": "code",
   "execution_count": 40,
   "metadata": {},
   "outputs": [],
   "source": [
    "df_new = df_new[df_new['selftext'] != '[removed]']"
   ]
  },
  {
   "cell_type": "code",
   "execution_count": 41,
   "metadata": {},
   "outputs": [],
   "source": [
    "df_new = df_new[df_new['selftext'] != '[deleted]']"
   ]
  },
  {
   "cell_type": "code",
   "execution_count": 42,
   "metadata": {},
   "outputs": [
    {
     "data": {
      "text/plain": [
       "(18339, 2)"
      ]
     },
     "execution_count": 42,
     "metadata": {},
     "output_type": "execute_result"
    }
   ],
   "source": [
    "df_new.shape"
   ]
  },
  {
   "cell_type": "code",
   "execution_count": 43,
   "metadata": {},
   "outputs": [],
   "source": [
    "df_new['all'] = df_new['title'] + ' ' + df_new['selftext']"
   ]
  },
  {
   "cell_type": "code",
   "execution_count": 44,
   "metadata": {},
   "outputs": [],
   "source": [
    "df_new.reset_index(drop=True, inplace=True)"
   ]
  },
  {
   "cell_type": "markdown",
   "metadata": {},
   "source": [
    "Because this will be our class of interest, we assign it a value of 1 to indicate the positive class in a new column."
   ]
  },
  {
   "cell_type": "code",
   "execution_count": 45,
   "metadata": {},
   "outputs": [],
   "source": [
    "df_new['in'] = 1"
   ]
  },
  {
   "cell_type": "code",
   "execution_count": 46,
   "metadata": {},
   "outputs": [
    {
     "data": {
      "text/html": [
       "<div>\n",
       "<style scoped>\n",
       "    .dataframe tbody tr th:only-of-type {\n",
       "        vertical-align: middle;\n",
       "    }\n",
       "\n",
       "    .dataframe tbody tr th {\n",
       "        vertical-align: top;\n",
       "    }\n",
       "\n",
       "    .dataframe thead th {\n",
       "        text-align: right;\n",
       "    }\n",
       "</style>\n",
       "<table border=\"1\" class=\"dataframe\">\n",
       "  <thead>\n",
       "    <tr style=\"text-align: right;\">\n",
       "      <th></th>\n",
       "      <th>title</th>\n",
       "      <th>selftext</th>\n",
       "      <th>all</th>\n",
       "      <th>in</th>\n",
       "    </tr>\n",
       "  </thead>\n",
       "  <tbody>\n",
       "    <tr>\n",
       "      <th>0</th>\n",
       "      <td>Is there any hope with automatic coffee brewers?</td>\n",
       "      <td>I've been doing pour-overs for a while and rea...</td>\n",
       "      <td>Is there any hope with automatic coffee brewer...</td>\n",
       "      <td>1</td>\n",
       "    </tr>\n",
       "    <tr>\n",
       "      <th>1</th>\n",
       "      <td>Is instant coffee a scam?</td>\n",
       "      <td>I tried drinking instant coffee espresso powde...</td>\n",
       "      <td>Is instant coffee a scam? I tried drinking ins...</td>\n",
       "      <td>1</td>\n",
       "    </tr>\n",
       "    <tr>\n",
       "      <th>2</th>\n",
       "      <td>DIY Drip Coffee Maker?</td>\n",
       "      <td>I've been in a DIY mood lately.  I would love ...</td>\n",
       "      <td>DIY Drip Coffee Maker? I've been in a DIY mood...</td>\n",
       "      <td>1</td>\n",
       "    </tr>\n",
       "    <tr>\n",
       "      <th>3</th>\n",
       "      <td>Does anyone else feel like they don’t feel the...</td>\n",
       "      <td>I drink a LOT of coffee, and I was wondering i...</td>\n",
       "      <td>Does anyone else feel like they don’t feel the...</td>\n",
       "      <td>1</td>\n",
       "    </tr>\n",
       "    <tr>\n",
       "      <th>4</th>\n",
       "      <td>Never had coffee</td>\n",
       "      <td>Hi folks, I know this may sound crazy, but I'v...</td>\n",
       "      <td>Never had coffee Hi folks, I know this may sou...</td>\n",
       "      <td>1</td>\n",
       "    </tr>\n",
       "  </tbody>\n",
       "</table>\n",
       "</div>"
      ],
      "text/plain": [
       "                                               title  \\\n",
       "0   Is there any hope with automatic coffee brewers?   \n",
       "1                          Is instant coffee a scam?   \n",
       "2                             DIY Drip Coffee Maker?   \n",
       "3  Does anyone else feel like they don’t feel the...   \n",
       "4                                   Never had coffee   \n",
       "\n",
       "                                            selftext  \\\n",
       "0  I've been doing pour-overs for a while and rea...   \n",
       "1  I tried drinking instant coffee espresso powde...   \n",
       "2  I've been in a DIY mood lately.  I would love ...   \n",
       "3  I drink a LOT of coffee, and I was wondering i...   \n",
       "4  Hi folks, I know this may sound crazy, but I'v...   \n",
       "\n",
       "                                                 all  in  \n",
       "0  Is there any hope with automatic coffee brewer...   1  \n",
       "1  Is instant coffee a scam? I tried drinking ins...   1  \n",
       "2  DIY Drip Coffee Maker? I've been in a DIY mood...   1  \n",
       "3  Does anyone else feel like they don’t feel the...   1  \n",
       "4  Never had coffee Hi folks, I know this may sou...   1  "
      ]
     },
     "execution_count": 46,
     "metadata": {},
     "output_type": "execute_result"
    }
   ],
   "source": [
    "df_new.head()"
   ]
  },
  {
   "cell_type": "code",
   "execution_count": 47,
   "metadata": {},
   "outputs": [],
   "source": [
    "df_new.drop_duplicates(keep ='first', inplace = True)"
   ]
  },
  {
   "cell_type": "code",
   "execution_count": 48,
   "metadata": {},
   "outputs": [
    {
     "data": {
      "text/plain": [
       "(18033, 4)"
      ]
     },
     "execution_count": 48,
     "metadata": {},
     "output_type": "execute_result"
    }
   ],
   "source": [
    "df_new.shape"
   ]
  },
  {
   "cell_type": "code",
   "execution_count": 49,
   "metadata": {},
   "outputs": [
    {
     "data": {
      "text/html": [
       "<div>\n",
       "<style scoped>\n",
       "    .dataframe tbody tr th:only-of-type {\n",
       "        vertical-align: middle;\n",
       "    }\n",
       "\n",
       "    .dataframe tbody tr th {\n",
       "        vertical-align: top;\n",
       "    }\n",
       "\n",
       "    .dataframe thead th {\n",
       "        text-align: right;\n",
       "    }\n",
       "</style>\n",
       "<table border=\"1\" class=\"dataframe\">\n",
       "  <thead>\n",
       "    <tr style=\"text-align: right;\">\n",
       "      <th></th>\n",
       "      <th>title</th>\n",
       "      <th>selftext</th>\n",
       "      <th>all</th>\n",
       "      <th>in</th>\n",
       "    </tr>\n",
       "  </thead>\n",
       "  <tbody>\n",
       "    <tr>\n",
       "      <th>0</th>\n",
       "      <td>Is there any hope with automatic coffee brewers?</td>\n",
       "      <td>I've been doing pour-overs for a while and rea...</td>\n",
       "      <td>Is there any hope with automatic coffee brewer...</td>\n",
       "      <td>1</td>\n",
       "    </tr>\n",
       "    <tr>\n",
       "      <th>1</th>\n",
       "      <td>Is instant coffee a scam?</td>\n",
       "      <td>I tried drinking instant coffee espresso powde...</td>\n",
       "      <td>Is instant coffee a scam? I tried drinking ins...</td>\n",
       "      <td>1</td>\n",
       "    </tr>\n",
       "    <tr>\n",
       "      <th>2</th>\n",
       "      <td>DIY Drip Coffee Maker?</td>\n",
       "      <td>I've been in a DIY mood lately.  I would love ...</td>\n",
       "      <td>DIY Drip Coffee Maker? I've been in a DIY mood...</td>\n",
       "      <td>1</td>\n",
       "    </tr>\n",
       "    <tr>\n",
       "      <th>3</th>\n",
       "      <td>Does anyone else feel like they don’t feel the...</td>\n",
       "      <td>I drink a LOT of coffee, and I was wondering i...</td>\n",
       "      <td>Does anyone else feel like they don’t feel the...</td>\n",
       "      <td>1</td>\n",
       "    </tr>\n",
       "    <tr>\n",
       "      <th>4</th>\n",
       "      <td>Never had coffee</td>\n",
       "      <td>Hi folks, I know this may sound crazy, but I'v...</td>\n",
       "      <td>Never had coffee Hi folks, I know this may sou...</td>\n",
       "      <td>1</td>\n",
       "    </tr>\n",
       "    <tr>\n",
       "      <th>5</th>\n",
       "      <td>[news] that extra cup of java is good for you,...</td>\n",
       "      <td></td>\n",
       "      <td>[news] that extra cup of java is good for you,...</td>\n",
       "      <td>1</td>\n",
       "    </tr>\n",
       "    <tr>\n",
       "      <th>6</th>\n",
       "      <td>Best coffee to buy in Seattle?</td>\n",
       "      <td>So I’ll be heading to the emerald city one wee...</td>\n",
       "      <td>Best coffee to buy in Seattle? So I’ll be head...</td>\n",
       "      <td>1</td>\n",
       "    </tr>\n",
       "    <tr>\n",
       "      <th>7</th>\n",
       "      <td>Chemex drinkers - What’s your trick?</td>\n",
       "      <td>I just got an 8 cup Chemex and I’m having trou...</td>\n",
       "      <td>Chemex drinkers - What’s your trick? I just go...</td>\n",
       "      <td>1</td>\n",
       "    </tr>\n",
       "    <tr>\n",
       "      <th>8</th>\n",
       "      <td>[MOD] The Official Noob-Tastic Question Fest</td>\n",
       "      <td>Welcome to the weekly /r/Coffee question threa...</td>\n",
       "      <td>[MOD] The Official Noob-Tastic Question Fest W...</td>\n",
       "      <td>1</td>\n",
       "    </tr>\n",
       "    <tr>\n",
       "      <th>9</th>\n",
       "      <td>[MOD] What have you been brewing this week?/ C...</td>\n",
       "      <td>Hey everyone!\\n\\nWelcome back to the weekly /r...</td>\n",
       "      <td>[MOD] What have you been brewing this week?/ C...</td>\n",
       "      <td>1</td>\n",
       "    </tr>\n",
       "    <tr>\n",
       "      <th>10</th>\n",
       "      <td>Best brewing method for cheap pre-ground coffee?</td>\n",
       "      <td>I just had an interaction that went something ...</td>\n",
       "      <td>Best brewing method for cheap pre-ground coffe...</td>\n",
       "      <td>1</td>\n",
       "    </tr>\n",
       "    <tr>\n",
       "      <th>11</th>\n",
       "      <td>I am (finally) the proud owner of a coffee mak...</td>\n",
       "      <td></td>\n",
       "      <td>I am (finally) the proud owner of a coffee mak...</td>\n",
       "      <td>1</td>\n",
       "    </tr>\n",
       "    <tr>\n",
       "      <th>12</th>\n",
       "      <td>[Question] Can I use old roast to make liqueur?</td>\n",
       "      <td>Hi r/coffee!\\n\\nI recently got a pound of grou...</td>\n",
       "      <td>[Question] Can I use old roast to make liqueur...</td>\n",
       "      <td>1</td>\n",
       "    </tr>\n",
       "    <tr>\n",
       "      <th>13</th>\n",
       "      <td>7 Healthy Coffee Alternatives You'll Love!</td>\n",
       "      <td></td>\n",
       "      <td>7 Healthy Coffee Alternatives You'll Love!</td>\n",
       "      <td>1</td>\n",
       "    </tr>\n",
       "    <tr>\n",
       "      <th>14</th>\n",
       "      <td>So yesterday I posted about getting a cold bre...</td>\n",
       "      <td></td>\n",
       "      <td>So yesterday I posted about getting a cold bre...</td>\n",
       "      <td>1</td>\n",
       "    </tr>\n",
       "  </tbody>\n",
       "</table>\n",
       "</div>"
      ],
      "text/plain": [
       "                                                title  \\\n",
       "0    Is there any hope with automatic coffee brewers?   \n",
       "1                           Is instant coffee a scam?   \n",
       "2                              DIY Drip Coffee Maker?   \n",
       "3   Does anyone else feel like they don’t feel the...   \n",
       "4                                    Never had coffee   \n",
       "5   [news] that extra cup of java is good for you,...   \n",
       "6                      Best coffee to buy in Seattle?   \n",
       "7                Chemex drinkers - What’s your trick?   \n",
       "8        [MOD] The Official Noob-Tastic Question Fest   \n",
       "9   [MOD] What have you been brewing this week?/ C...   \n",
       "10   Best brewing method for cheap pre-ground coffee?   \n",
       "11  I am (finally) the proud owner of a coffee mak...   \n",
       "12    [Question] Can I use old roast to make liqueur?   \n",
       "13         7 Healthy Coffee Alternatives You'll Love!   \n",
       "14  So yesterday I posted about getting a cold bre...   \n",
       "\n",
       "                                             selftext  \\\n",
       "0   I've been doing pour-overs for a while and rea...   \n",
       "1   I tried drinking instant coffee espresso powde...   \n",
       "2   I've been in a DIY mood lately.  I would love ...   \n",
       "3   I drink a LOT of coffee, and I was wondering i...   \n",
       "4   Hi folks, I know this may sound crazy, but I'v...   \n",
       "5                                                       \n",
       "6   So I’ll be heading to the emerald city one wee...   \n",
       "7   I just got an 8 cup Chemex and I’m having trou...   \n",
       "8   Welcome to the weekly /r/Coffee question threa...   \n",
       "9   Hey everyone!\\n\\nWelcome back to the weekly /r...   \n",
       "10  I just had an interaction that went something ...   \n",
       "11                                                      \n",
       "12  Hi r/coffee!\\n\\nI recently got a pound of grou...   \n",
       "13                                                      \n",
       "14                                                      \n",
       "\n",
       "                                                  all  in  \n",
       "0   Is there any hope with automatic coffee brewer...   1  \n",
       "1   Is instant coffee a scam? I tried drinking ins...   1  \n",
       "2   DIY Drip Coffee Maker? I've been in a DIY mood...   1  \n",
       "3   Does anyone else feel like they don’t feel the...   1  \n",
       "4   Never had coffee Hi folks, I know this may sou...   1  \n",
       "5   [news] that extra cup of java is good for you,...   1  \n",
       "6   Best coffee to buy in Seattle? So I’ll be head...   1  \n",
       "7   Chemex drinkers - What’s your trick? I just go...   1  \n",
       "8   [MOD] The Official Noob-Tastic Question Fest W...   1  \n",
       "9   [MOD] What have you been brewing this week?/ C...   1  \n",
       "10  Best brewing method for cheap pre-ground coffe...   1  \n",
       "11  I am (finally) the proud owner of a coffee mak...   1  \n",
       "12  [Question] Can I use old roast to make liqueur...   1  \n",
       "13        7 Healthy Coffee Alternatives You'll Love!    1  \n",
       "14  So yesterday I posted about getting a cold bre...   1  "
      ]
     },
     "execution_count": 49,
     "metadata": {},
     "output_type": "execute_result"
    }
   ],
   "source": [
    "df_new.head(15)"
   ]
  },
  {
   "cell_type": "code",
   "execution_count": 50,
   "metadata": {},
   "outputs": [
    {
     "data": {
      "text/plain": [
       "0    14012\n",
       "Name: in, dtype: int64"
      ]
     },
     "execution_count": 50,
     "metadata": {},
     "output_type": "execute_result"
    }
   ],
   "source": [
    "df_old['in'].value_counts()"
   ]
  },
  {
   "cell_type": "code",
   "execution_count": 51,
   "metadata": {},
   "outputs": [
    {
     "data": {
      "text/plain": [
       "1    18033\n",
       "Name: in, dtype: int64"
      ]
     },
     "execution_count": 51,
     "metadata": {},
     "output_type": "execute_result"
    }
   ],
   "source": [
    "df_new['in'].value_counts()"
   ]
  },
  {
   "cell_type": "markdown",
   "metadata": {},
   "source": [
    "This is a relatively balanced class. I am not concerned for imbalanced classes at the moment. Had we had a problem of imbalanced classes, here are ways to combat the problem:\n",
    "- Undersampling: We understamply the prevalent class so the data to be modeled is more balanced between 0s and 1s; the idea behind undersampling is that the data for dominant class has many redundant records and dealing with a smaller, more balanced data yields better model performance\n",
    "- Oversampling and Up/Down Weighting: A prominent criticism of undersampling method is that it throws away data and does not use all information at hand; instead, we can oversample the rarer class by drawing additional rows with replacement (a.k.a. bootstrapping)\n"
   ]
  },
  {
   "cell_type": "markdown",
   "metadata": {},
   "source": [
    "## Exporting for EDA"
   ]
  },
  {
   "cell_type": "markdown",
   "metadata": {},
   "source": [
    "We save out files that are now ready for EDA"
   ]
  },
  {
   "cell_type": "code",
   "execution_count": 53,
   "metadata": {},
   "outputs": [],
   "source": [
    "df_old.to_csv('../datasets/df_old.csv')"
   ]
  },
  {
   "cell_type": "code",
   "execution_count": 54,
   "metadata": {},
   "outputs": [],
   "source": [
    "df_new.to_csv('../datasets/df_new.csv')"
   ]
  },
  {
   "cell_type": "markdown",
   "metadata": {},
   "source": [
    "**Please proceed to 02_eda_coffee.ipynb**"
   ]
  }
 ],
 "metadata": {
  "kernelspec": {
   "display_name": "Python 3",
   "language": "python",
   "name": "python3"
  },
  "language_info": {
   "codemirror_mode": {
    "name": "ipython",
    "version": 3
   },
   "file_extension": ".py",
   "mimetype": "text/x-python",
   "name": "python",
   "nbconvert_exporter": "python",
   "pygments_lexer": "ipython3",
   "version": "3.7.0"
  }
 },
 "nbformat": 4,
 "nbformat_minor": 2
}
