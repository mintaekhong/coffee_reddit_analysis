{
 "cells": [
  {
   "cell_type": "markdown",
   "metadata": {},
   "source": [
    "# Preprocessing and Modeling"
   ]
  },
  {
   "cell_type": "code",
   "execution_count": 58,
   "metadata": {},
   "outputs": [],
   "source": [
    "import requests, json, time, re\n",
    "import pandas as pd\n",
    "import numpy as np\n",
    "from sklearn.feature_extraction.text import CountVectorizer, TfidfVectorizer\n",
    "from sklearn.tree import DecisionTreeRegressor\n",
    "from sklearn.ensemble import RandomForestClassifier\n",
    "from sklearn.model_selection import train_test_split, GridSearchCV\n",
    "from sklearn.metrics import confusion_matrix\n",
    "\n",
    "import matplotlib.pyplot as plt\n",
    "import seaborn as sns\n",
    "sns.set()\n",
    "%matplotlib inline"
   ]
  },
  {
   "cell_type": "code",
   "execution_count": 2,
   "metadata": {},
   "outputs": [],
   "source": [
    "df_all = pd.read_csv('../datasets/df_all.csv', lineterminator='\\n', index_col = False)"
   ]
  },
  {
   "cell_type": "code",
   "execution_count": 3,
   "metadata": {},
   "outputs": [
    {
     "data": {
      "text/html": [
       "<div>\n",
       "<style scoped>\n",
       "    .dataframe tbody tr th:only-of-type {\n",
       "        vertical-align: middle;\n",
       "    }\n",
       "\n",
       "    .dataframe tbody tr th {\n",
       "        vertical-align: top;\n",
       "    }\n",
       "\n",
       "    .dataframe thead th {\n",
       "        text-align: right;\n",
       "    }\n",
       "</style>\n",
       "<table border=\"1\" class=\"dataframe\">\n",
       "  <thead>\n",
       "    <tr style=\"text-align: right;\">\n",
       "      <th></th>\n",
       "      <th>Unnamed: 0</th>\n",
       "      <th>title</th>\n",
       "      <th>selftext</th>\n",
       "      <th>all</th>\n",
       "      <th>in</th>\n",
       "      <th>all_clean</th>\n",
       "      <th>all_tokenized</th>\n",
       "      <th>all_lemm</th>\n",
       "      <th>all_stem</th>\n",
       "      <th>char_count</th>\n",
       "      <th>word_count</th>\n",
       "    </tr>\n",
       "  </thead>\n",
       "  <tbody>\n",
       "    <tr>\n",
       "      <th>0</th>\n",
       "      <td>0</td>\n",
       "      <td>Delicious Blue Bottle Coffee</td>\n",
       "      <td></td>\n",
       "      <td>Delicious Blue Bottle Coffee</td>\n",
       "      <td>0</td>\n",
       "      <td>delicious blue bottle coffee</td>\n",
       "      <td>['delicious', 'blue', 'bottle', 'coffee']</td>\n",
       "      <td>delicious blue bottle coffee</td>\n",
       "      <td>delici blue bottl coffe</td>\n",
       "      <td>28</td>\n",
       "      <td>4</td>\n",
       "    </tr>\n",
       "    <tr>\n",
       "      <th>1</th>\n",
       "      <td>1</td>\n",
       "      <td>PSA: Looking for an inexpensive alternative to...</td>\n",
       "      <td></td>\n",
       "      <td>PSA: Looking for an inexpensive alternative to...</td>\n",
       "      <td>0</td>\n",
       "      <td>psa: looking for an inexpensive alternative to...</td>\n",
       "      <td>['psa', 'looking', 'for', 'an', 'inexpensive',...</td>\n",
       "      <td>psa looking for an inexpensive alternative to ...</td>\n",
       "      <td>psa look for an inexpens altern to a dedic goo...</td>\n",
       "      <td>121</td>\n",
       "      <td>18</td>\n",
       "    </tr>\n",
       "    <tr>\n",
       "      <th>2</th>\n",
       "      <td>2</td>\n",
       "      <td>Is there a feasible way to store coffee for lo...</td>\n",
       "      <td>I just received two 2 pound bags of coffee for...</td>\n",
       "      <td>Is there a feasible way to store coffee for lo...</td>\n",
       "      <td>0</td>\n",
       "      <td>is there a feasible way to store coffee for lo...</td>\n",
       "      <td>['is', 'there', 'a', 'feasible', 'way', 'to', ...</td>\n",
       "      <td>is there a feasible way to store coffee for lo...</td>\n",
       "      <td>is there a feasibl way to store coffe for long...</td>\n",
       "      <td>371</td>\n",
       "      <td>72</td>\n",
       "    </tr>\n",
       "    <tr>\n",
       "      <th>3</th>\n",
       "      <td>3</td>\n",
       "      <td>A shot in the dark (name that coffee)</td>\n",
       "      <td>I want to get some coffee for a very left-lean...</td>\n",
       "      <td>A shot in the dark (name that coffee) I want t...</td>\n",
       "      <td>0</td>\n",
       "      <td>a shot in the dark (name that coffee) i want t...</td>\n",
       "      <td>['a', 'shot', 'in', 'the', 'dark', 'name', 'th...</td>\n",
       "      <td>a shot in the dark name that coffee i want to ...</td>\n",
       "      <td>a shot in the dark name that coffe i want to g...</td>\n",
       "      <td>300</td>\n",
       "      <td>57</td>\n",
       "    </tr>\n",
       "    <tr>\n",
       "      <th>4</th>\n",
       "      <td>4</td>\n",
       "      <td>[Serious question] How can I keep drinking cof...</td>\n",
       "      <td>This isn't a joke at all. I'm 100% serious. I ...</td>\n",
       "      <td>[Serious question] How can I keep drinking cof...</td>\n",
       "      <td>0</td>\n",
       "      <td>[serious question] how can i keep drinking cof...</td>\n",
       "      <td>['serious', 'question', 'how', 'can', 'i', 'ke...</td>\n",
       "      <td>serious question how can i keep drinking coffe...</td>\n",
       "      <td>seriou question how can i keep drink coffe wit...</td>\n",
       "      <td>439</td>\n",
       "      <td>92</td>\n",
       "    </tr>\n",
       "  </tbody>\n",
       "</table>\n",
       "</div>"
      ],
      "text/plain": [
       "   Unnamed: 0                                              title  \\\n",
       "0           0                       Delicious Blue Bottle Coffee   \n",
       "1           1  PSA: Looking for an inexpensive alternative to...   \n",
       "2           2  Is there a feasible way to store coffee for lo...   \n",
       "3           3              A shot in the dark (name that coffee)   \n",
       "4           4  [Serious question] How can I keep drinking cof...   \n",
       "\n",
       "                                            selftext  \\\n",
       "0                                                      \n",
       "1                                                      \n",
       "2  I just received two 2 pound bags of coffee for...   \n",
       "3  I want to get some coffee for a very left-lean...   \n",
       "4  This isn't a joke at all. I'm 100% serious. I ...   \n",
       "\n",
       "                                                 all  in  \\\n",
       "0                      Delicious Blue Bottle Coffee    0   \n",
       "1  PSA: Looking for an inexpensive alternative to...   0   \n",
       "2  Is there a feasible way to store coffee for lo...   0   \n",
       "3  A shot in the dark (name that coffee) I want t...   0   \n",
       "4  [Serious question] How can I keep drinking cof...   0   \n",
       "\n",
       "                                           all_clean  \\\n",
       "0                      delicious blue bottle coffee    \n",
       "1  psa: looking for an inexpensive alternative to...   \n",
       "2  is there a feasible way to store coffee for lo...   \n",
       "3  a shot in the dark (name that coffee) i want t...   \n",
       "4  [serious question] how can i keep drinking cof...   \n",
       "\n",
       "                                       all_tokenized  \\\n",
       "0          ['delicious', 'blue', 'bottle', 'coffee']   \n",
       "1  ['psa', 'looking', 'for', 'an', 'inexpensive',...   \n",
       "2  ['is', 'there', 'a', 'feasible', 'way', 'to', ...   \n",
       "3  ['a', 'shot', 'in', 'the', 'dark', 'name', 'th...   \n",
       "4  ['serious', 'question', 'how', 'can', 'i', 'ke...   \n",
       "\n",
       "                                            all_lemm  \\\n",
       "0                       delicious blue bottle coffee   \n",
       "1  psa looking for an inexpensive alternative to ...   \n",
       "2  is there a feasible way to store coffee for lo...   \n",
       "3  a shot in the dark name that coffee i want to ...   \n",
       "4  serious question how can i keep drinking coffe...   \n",
       "\n",
       "                                            all_stem  char_count  word_count  \n",
       "0                            delici blue bottl coffe          28           4  \n",
       "1  psa look for an inexpens altern to a dedic goo...         121          18  \n",
       "2  is there a feasibl way to store coffe for long...         371          72  \n",
       "3  a shot in the dark name that coffe i want to g...         300          57  \n",
       "4  seriou question how can i keep drink coffe wit...         439          92  "
      ]
     },
     "execution_count": 3,
     "metadata": {},
     "output_type": "execute_result"
    }
   ],
   "source": [
    "df_all.head()"
   ]
  },
  {
   "cell_type": "code",
   "execution_count": 4,
   "metadata": {},
   "outputs": [],
   "source": [
    "df_all.drop(columns = 'Unnamed: 0', inplace = True)"
   ]
  },
  {
   "cell_type": "code",
   "execution_count": 23,
   "metadata": {},
   "outputs": [],
   "source": [
    "df_all.fillna(' ', inplace = True)"
   ]
  },
  {
   "cell_type": "markdown",
   "metadata": {},
   "source": [
    "## Model Preparation"
   ]
  },
  {
   "cell_type": "code",
   "execution_count": 24,
   "metadata": {},
   "outputs": [],
   "source": [
    "X = df_all[['all_lemm']]\n",
    "y = df_all['in']"
   ]
  },
  {
   "cell_type": "markdown",
   "metadata": {},
   "source": [
    "Train test split should be performed before proceeding with modeling techniques"
   ]
  },
  {
   "cell_type": "code",
   "execution_count": 25,
   "metadata": {},
   "outputs": [],
   "source": [
    "X_train, X_test, y_train, y_test = train_test_split(X, y, stratify = y, random_state = 42)"
   ]
  },
  {
   "cell_type": "markdown",
   "metadata": {},
   "source": [
    "Stratified to ensure that when train_test splitting, I maintain the same percentage of X and y."
   ]
  },
  {
   "cell_type": "markdown",
   "metadata": {},
   "source": [
    "### TF-IDF"
   ]
  },
  {
   "cell_type": "code",
   "execution_count": 26,
   "metadata": {},
   "outputs": [],
   "source": [
    "from sklearn.feature_extraction.stop_words import ENGLISH_STOP_WORDS\n",
    "\n",
    "custom_stop_words = list(ENGLISH_STOP_WORDS)\n",
    "custom_stop_words.append('ve')\n",
    "custom_stop_words.append('wa')\n",
    "custom_stop_words.append('just')\n",
    "custom_stop_words.append('don')\n",
    "custom_stop_words.append('amp')\n",
    "custom_stop_words.append('gt')"
   ]
  },
  {
   "cell_type": "code",
   "execution_count": 27,
   "metadata": {},
   "outputs": [],
   "source": [
    "tfidf = TfidfVectorizer(ngram_range=(1,2), \n",
    "                        stop_words = custom_stop_words, \n",
    "                        min_df = 15, \n",
    "                        max_df = 1.0)"
   ]
  },
  {
   "cell_type": "markdown",
   "metadata": {},
   "source": [
    "min_df will remember words that are in a document at least once. For example,\n",
    "if min_df = 15, will only remember words that are a part of 15 documents in a corpus. max_df refers to the %-age of documents within a corpus that a word occurs in. For example, if max_df = 0.9, words that occur in more than 90% of my documents will be ignored. By default, max_df is equal to 1."
   ]
  },
  {
   "cell_type": "code",
   "execution_count": 30,
   "metadata": {},
   "outputs": [],
   "source": [
    "X_train_tfidf = pd.DataFrame(tfidf.fit_transform(X_train['all_lemm']).todense(), ##todense is 'expanding' the compressed version (adding 0's)\n",
    "                          columns = tfidf.get_feature_names()) "
   ]
  },
  {
   "cell_type": "code",
   "execution_count": 31,
   "metadata": {},
   "outputs": [],
   "source": [
    "X_test_tfidf = pd.DataFrame(tfidf.transform(X_test['all_lemm']).todense(), ##todense is 'expanding' the compressed version (adding 0's)\n",
    "                          columns = tfidf.get_feature_names()) "
   ]
  },
  {
   "cell_type": "code",
   "execution_count": 32,
   "metadata": {},
   "outputs": [
    {
     "data": {
      "text/plain": [
       "(24033, 7962)"
      ]
     },
     "execution_count": 32,
     "metadata": {},
     "output_type": "execute_result"
    }
   ],
   "source": [
    "X_train_tfidf.shape"
   ]
  },
  {
   "cell_type": "code",
   "execution_count": 33,
   "metadata": {},
   "outputs": [
    {
     "data": {
      "text/plain": [
       "(8012, 7962)"
      ]
     },
     "execution_count": 33,
     "metadata": {},
     "output_type": "execute_result"
    }
   ],
   "source": [
    "X_test_tfidf.shape"
   ]
  },
  {
   "cell_type": "markdown",
   "metadata": {},
   "source": [
    "### Baseline model"
   ]
  },
  {
   "cell_type": "code",
   "execution_count": 34,
   "metadata": {},
   "outputs": [
    {
     "data": {
      "text/plain": [
       "1    0.56274\n",
       "0    0.43726\n",
       "Name: in, dtype: float64"
      ]
     },
     "execution_count": 34,
     "metadata": {},
     "output_type": "execute_result"
    }
   ],
   "source": [
    "df_all['in'].value_counts(normalize=True)"
   ]
  },
  {
   "cell_type": "markdown",
   "metadata": {},
   "source": [
    "The baseline model can be interpreted as the following: this particular model will predict the majority class in 100% of the occassion with 56.3% accuracy. The baseline model as the name hints is a rudimentary model that may not classify results with the highest accuracy. Further models will be explored to outperform the baseline model. "
   ]
  },
  {
   "cell_type": "markdown",
   "metadata": {},
   "source": [
    "## Further Models"
   ]
  },
  {
   "cell_type": "markdown",
   "metadata": {},
   "source": [
    "For many of models to be fitted and explored, below are some rationale/explanations on hyperparmeters chosen: <br>\n",
    "- ngram_range = (1,2): to maintain the integrity of word combinations, I will specify an ngram_range of (1,2) to ensure I retain context of certain words. <br>\n",
    "- stop_words: A custom stop words list was created after initial data exploration that certain words were inserting too much noise. <br>\n",
    "- min_df = 10 : will remember words that are are a part of 10 documents in a corpus. <br>\n",
    "- max_df = 1.0 : if a word occurs in more than 100% of the documents in my corpus, ignore it."
   ]
  },
  {
   "cell_type": "markdown",
   "metadata": {},
   "source": [
    "Mentioned earlier in the eda notebook, I will also explore the models on the TFIDF'ed version because it penalizes common words and gives infrequent words more weight. <br> The weight is a statistical measure used to evaluate how important a word is to a document in a corpus."
   ]
  },
  {
   "cell_type": "markdown",
   "metadata": {},
   "source": [
    "### Naive Bayes "
   ]
  },
  {
   "cell_type": "markdown",
   "metadata": {},
   "source": [
    "The naive Bayes algorithm uses the probability of boserving predictor values, given an outcome, to estimate the probability of observing outcome Y = i, given a set of predictor values. "
   ]
  },
  {
   "cell_type": "markdown",
   "metadata": {},
   "source": [
    "#### Naive Bayes on Tfidf"
   ]
  },
  {
   "cell_type": "code",
   "execution_count": 35,
   "metadata": {},
   "outputs": [],
   "source": [
    "from sklearn.naive_bayes import MultinomialNB"
   ]
  },
  {
   "cell_type": "code",
   "execution_count": 36,
   "metadata": {},
   "outputs": [],
   "source": [
    "nb = MultinomialNB()"
   ]
  },
  {
   "cell_type": "code",
   "execution_count": 37,
   "metadata": {},
   "outputs": [],
   "source": [
    "model = nb.fit(X_train_tfidf, y_train)"
   ]
  },
  {
   "cell_type": "code",
   "execution_count": 38,
   "metadata": {},
   "outputs": [],
   "source": [
    "predictions = model.predict(X_test_tfidf)"
   ]
  },
  {
   "cell_type": "code",
   "execution_count": 39,
   "metadata": {},
   "outputs": [
    {
     "data": {
      "text/plain": [
       "0.6863063287979029"
      ]
     },
     "execution_count": 39,
     "metadata": {},
     "output_type": "execute_result"
    }
   ],
   "source": [
    "model.score(X_train_tfidf, y_train)"
   ]
  },
  {
   "cell_type": "code",
   "execution_count": 40,
   "metadata": {},
   "outputs": [
    {
     "data": {
      "text/plain": [
       "0.6058412381427858"
      ]
     },
     "execution_count": 40,
     "metadata": {},
     "output_type": "execute_result"
    }
   ],
   "source": [
    "model.score(X_test_tfidf, y_test)"
   ]
  },
  {
   "cell_type": "markdown",
   "metadata": {},
   "source": [
    "The Naive Bayes model (0.6058) performed better than the baseline (56.3%) model. We see evidence of overfitting to our training dataset. We will continue to explore other models to improve upon this score."
   ]
  },
  {
   "cell_type": "markdown",
   "metadata": {},
   "source": [
    "## Logistic Regression"
   ]
  },
  {
   "cell_type": "markdown",
   "metadata": {},
   "source": [
    "#### LogReg on Tfidf"
   ]
  },
  {
   "cell_type": "code",
   "execution_count": 41,
   "metadata": {},
   "outputs": [],
   "source": [
    "from sklearn.linear_model import LogisticRegression"
   ]
  },
  {
   "cell_type": "code",
   "execution_count": 42,
   "metadata": {},
   "outputs": [],
   "source": [
    "lr = LogisticRegression()"
   ]
  },
  {
   "cell_type": "markdown",
   "metadata": {},
   "source": [
    "- Penalty: l1 (lasso) or l2 (ridge) regularization\n",
    "- C: Inverse of regularization strength. The greater its value, the weaker the regularization strength is."
   ]
  },
  {
   "cell_type": "code",
   "execution_count": 92,
   "metadata": {},
   "outputs": [],
   "source": [
    "lr_params = {'C': [0.5, 1, 2],\n",
    "             'penalty' : ['l1','l2']}"
   ]
  },
  {
   "cell_type": "code",
   "execution_count": 93,
   "metadata": {},
   "outputs": [
    {
     "name": "stdout",
     "output_type": "stream",
     "text": [
      "0.6544048883438989\n"
     ]
    },
    {
     "data": {
      "text/plain": [
       "{'C': 1, 'penalty': 'l1'}"
      ]
     },
     "execution_count": 93,
     "metadata": {},
     "output_type": "execute_result"
    }
   ],
   "source": [
    "gs_lr = GridSearchCV(lr, param_grid = lr_params, scoring = 'roc_auc', cv = 3)\n",
    "gs_lr.fit(X_train_tfidf, y_train)\n",
    "print(gs_lr.best_score_)\n",
    "gs_lr.best_params_"
   ]
  },
  {
   "cell_type": "code",
   "execution_count": 45,
   "metadata": {},
   "outputs": [
    {
     "data": {
      "text/plain": [
       "0.6607052017068411"
      ]
     },
     "execution_count": 45,
     "metadata": {},
     "output_type": "execute_result"
    }
   ],
   "source": [
    "gs_lr.score(X_test_tfidf, y_test)"
   ]
  },
  {
   "cell_type": "markdown",
   "metadata": {},
   "source": [
    "Setting up a pipeline of C and penalty of l1 and l2 (lasso and ridge, respectively), the gridsearch provided the optimal hyperparameters of C: 0.5 and penalty of 'l1'. With the calculated hyperparameters, the optimal test score came out to be 0.6607, an improvement from the naive bayes model. There also seems to be very little evidence of overfitting to our training dataset. The logistic regression may be best for model interpretation and hence will be considered for production. "
   ]
  },
  {
   "cell_type": "code",
   "execution_count": 46,
   "metadata": {},
   "outputs": [],
   "source": [
    "gs_lr_coef_tfidf_df = pd.DataFrame(gs_lr.best_estimator_.coef_, columns = X_train_tfidf.columns).T"
   ]
  },
  {
   "cell_type": "code",
   "execution_count": 47,
   "metadata": {},
   "outputs": [],
   "source": [
    "gs_lr_coef_tfidf_df.columns = ['weights']"
   ]
  },
  {
   "cell_type": "code",
   "execution_count": 48,
   "metadata": {},
   "outputs": [],
   "source": [
    "gs_lr_coef_tfidf_df['odds'] = np.exp(gs_lr_coef_tfidf_df['weights'])"
   ]
  },
  {
   "cell_type": "code",
   "execution_count": 49,
   "metadata": {},
   "outputs": [],
   "source": [
    "gs_lr_coef_tfidf_df['abs_weights'] = np.abs(gs_lr_coef_tfidf_df['weights'])"
   ]
  },
  {
   "cell_type": "code",
   "execution_count": 50,
   "metadata": {},
   "outputs": [],
   "source": [
    "gs_lr_coef_tfidf_df['abs_weights'] = np.abs(gs_lr_coef_tfidf_df['weights'])"
   ]
  },
  {
   "cell_type": "code",
   "execution_count": 51,
   "metadata": {},
   "outputs": [
    {
     "data": {
      "text/html": [
       "<div>\n",
       "<style scoped>\n",
       "    .dataframe tbody tr th:only-of-type {\n",
       "        vertical-align: middle;\n",
       "    }\n",
       "\n",
       "    .dataframe tbody tr th {\n",
       "        vertical-align: top;\n",
       "    }\n",
       "\n",
       "    .dataframe thead th {\n",
       "        text-align: right;\n",
       "    }\n",
       "</style>\n",
       "<table border=\"1\" class=\"dataframe\">\n",
       "  <thead>\n",
       "    <tr style=\"text-align: right;\">\n",
       "      <th></th>\n",
       "      <th>weights</th>\n",
       "      <th>odds</th>\n",
       "      <th>abs_weights</th>\n",
       "    </tr>\n",
       "  </thead>\n",
       "  <tbody>\n",
       "    <tr>\n",
       "      <th>edit</th>\n",
       "      <td>-4.444256</td>\n",
       "      <td>0.011746</td>\n",
       "      <td>4.444256</td>\n",
       "    </tr>\n",
       "    <tr>\n",
       "      <th>aergrind</th>\n",
       "      <td>3.203042</td>\n",
       "      <td>24.607281</td>\n",
       "      <td>3.203042</td>\n",
       "    </tr>\n",
       "    <tr>\n",
       "      <th>sette</th>\n",
       "      <td>2.769606</td>\n",
       "      <td>15.952351</td>\n",
       "      <td>2.769606</td>\n",
       "    </tr>\n",
       "    <tr>\n",
       "      <th>feld</th>\n",
       "      <td>2.556109</td>\n",
       "      <td>12.885584</td>\n",
       "      <td>2.556109</td>\n",
       "    </tr>\n",
       "    <tr>\n",
       "      <th>moccamaster</th>\n",
       "      <td>2.147465</td>\n",
       "      <td>8.563121</td>\n",
       "      <td>2.147465</td>\n",
       "    </tr>\n",
       "    <tr>\n",
       "      <th>hi</th>\n",
       "      <td>2.071224</td>\n",
       "      <td>7.934530</td>\n",
       "      <td>2.071224</td>\n",
       "    </tr>\n",
       "    <tr>\n",
       "      <th>helor</th>\n",
       "      <td>1.981467</td>\n",
       "      <td>7.253379</td>\n",
       "      <td>1.981467</td>\n",
       "    </tr>\n",
       "    <tr>\n",
       "      <th>tea</th>\n",
       "      <td>1.950813</td>\n",
       "      <td>7.034401</td>\n",
       "      <td>1.950813</td>\n",
       "    </tr>\n",
       "    <tr>\n",
       "      <th>stumptown</th>\n",
       "      <td>-1.924605</td>\n",
       "      <td>0.145933</td>\n",
       "      <td>1.924605</td>\n",
       "    </tr>\n",
       "    <tr>\n",
       "      <th>recommendation</th>\n",
       "      <td>1.922607</td>\n",
       "      <td>6.838764</td>\n",
       "      <td>1.922607</td>\n",
       "    </tr>\n",
       "    <tr>\n",
       "      <th>preciso</th>\n",
       "      <td>-1.912204</td>\n",
       "      <td>0.147754</td>\n",
       "      <td>1.912204</td>\n",
       "    </tr>\n",
       "    <tr>\n",
       "      <th>hario</th>\n",
       "      <td>-1.858851</td>\n",
       "      <td>0.155852</td>\n",
       "      <td>1.858851</td>\n",
       "    </tr>\n",
       "    <tr>\n",
       "      <th>kinu</th>\n",
       "      <td>1.711162</td>\n",
       "      <td>5.535387</td>\n",
       "      <td>1.711162</td>\n",
       "    </tr>\n",
       "    <tr>\n",
       "      <th>watch</th>\n",
       "      <td>-1.592727</td>\n",
       "      <td>0.203370</td>\n",
       "      <td>1.592727</td>\n",
       "    </tr>\n",
       "    <tr>\n",
       "      <th>pro</th>\n",
       "      <td>1.585425</td>\n",
       "      <td>4.881363</td>\n",
       "      <td>1.585425</td>\n",
       "    </tr>\n",
       "  </tbody>\n",
       "</table>\n",
       "</div>"
      ],
      "text/plain": [
       "                 weights       odds  abs_weights\n",
       "edit           -4.444256   0.011746     4.444256\n",
       "aergrind        3.203042  24.607281     3.203042\n",
       "sette           2.769606  15.952351     2.769606\n",
       "feld            2.556109  12.885584     2.556109\n",
       "moccamaster     2.147465   8.563121     2.147465\n",
       "hi              2.071224   7.934530     2.071224\n",
       "helor           1.981467   7.253379     1.981467\n",
       "tea             1.950813   7.034401     1.950813\n",
       "stumptown      -1.924605   0.145933     1.924605\n",
       "recommendation  1.922607   6.838764     1.922607\n",
       "preciso        -1.912204   0.147754     1.912204\n",
       "hario          -1.858851   0.155852     1.858851\n",
       "kinu            1.711162   5.535387     1.711162\n",
       "watch          -1.592727   0.203370     1.592727\n",
       "pro             1.585425   4.881363     1.585425"
      ]
     },
     "execution_count": 51,
     "metadata": {},
     "output_type": "execute_result"
    }
   ],
   "source": [
    "gs_lr_coef_tfidf_df.sort_values(ascending=False, by='abs_weights').head(15)"
   ]
  },
  {
   "cell_type": "code",
   "execution_count": 52,
   "metadata": {},
   "outputs": [
    {
     "data": {
      "text/html": [
       "<div>\n",
       "<style scoped>\n",
       "    .dataframe tbody tr th:only-of-type {\n",
       "        vertical-align: middle;\n",
       "    }\n",
       "\n",
       "    .dataframe tbody tr th {\n",
       "        vertical-align: top;\n",
       "    }\n",
       "\n",
       "    .dataframe thead th {\n",
       "        text-align: right;\n",
       "    }\n",
       "</style>\n",
       "<table border=\"1\" class=\"dataframe\">\n",
       "  <thead>\n",
       "    <tr style=\"text-align: right;\">\n",
       "      <th></th>\n",
       "      <th>weights</th>\n",
       "      <th>odds</th>\n",
       "      <th>abs_weights</th>\n",
       "    </tr>\n",
       "  </thead>\n",
       "  <tbody>\n",
       "    <tr>\n",
       "      <th>aergrind</th>\n",
       "      <td>3.203042</td>\n",
       "      <td>24.607281</td>\n",
       "      <td>3.203042</td>\n",
       "    </tr>\n",
       "    <tr>\n",
       "      <th>sette</th>\n",
       "      <td>2.769606</td>\n",
       "      <td>15.952351</td>\n",
       "      <td>2.769606</td>\n",
       "    </tr>\n",
       "    <tr>\n",
       "      <th>feld</th>\n",
       "      <td>2.556109</td>\n",
       "      <td>12.885584</td>\n",
       "      <td>2.556109</td>\n",
       "    </tr>\n",
       "    <tr>\n",
       "      <th>moccamaster</th>\n",
       "      <td>2.147465</td>\n",
       "      <td>8.563121</td>\n",
       "      <td>2.147465</td>\n",
       "    </tr>\n",
       "    <tr>\n",
       "      <th>hi</th>\n",
       "      <td>2.071224</td>\n",
       "      <td>7.934530</td>\n",
       "      <td>2.071224</td>\n",
       "    </tr>\n",
       "    <tr>\n",
       "      <th>helor</th>\n",
       "      <td>1.981467</td>\n",
       "      <td>7.253379</td>\n",
       "      <td>1.981467</td>\n",
       "    </tr>\n",
       "    <tr>\n",
       "      <th>tea</th>\n",
       "      <td>1.950813</td>\n",
       "      <td>7.034401</td>\n",
       "      <td>1.950813</td>\n",
       "    </tr>\n",
       "    <tr>\n",
       "      <th>recommendation</th>\n",
       "      <td>1.922607</td>\n",
       "      <td>6.838764</td>\n",
       "      <td>1.922607</td>\n",
       "    </tr>\n",
       "    <tr>\n",
       "      <th>kinu</th>\n",
       "      <td>1.711162</td>\n",
       "      <td>5.535387</td>\n",
       "      <td>1.711162</td>\n",
       "    </tr>\n",
       "    <tr>\n",
       "      <th>pro</th>\n",
       "      <td>1.585425</td>\n",
       "      <td>4.881363</td>\n",
       "      <td>1.585425</td>\n",
       "    </tr>\n",
       "    <tr>\n",
       "      <th>comandante</th>\n",
       "      <td>1.579697</td>\n",
       "      <td>4.853484</td>\n",
       "      <td>1.579697</td>\n",
       "    </tr>\n",
       "    <tr>\n",
       "      <th>lt</th>\n",
       "      <td>1.476244</td>\n",
       "      <td>4.376475</td>\n",
       "      <td>1.476244</td>\n",
       "    </tr>\n",
       "    <tr>\n",
       "      <th>breville</th>\n",
       "      <td>1.463578</td>\n",
       "      <td>4.321395</td>\n",
       "      <td>1.463578</td>\n",
       "    </tr>\n",
       "    <tr>\n",
       "      <th>flair</th>\n",
       "      <td>1.436707</td>\n",
       "      <td>4.206820</td>\n",
       "      <td>1.436707</td>\n",
       "    </tr>\n",
       "    <tr>\n",
       "      <th>prismo</th>\n",
       "      <td>1.355038</td>\n",
       "      <td>3.876908</td>\n",
       "      <td>1.355038</td>\n",
       "    </tr>\n",
       "  </tbody>\n",
       "</table>\n",
       "</div>"
      ],
      "text/plain": [
       "                 weights       odds  abs_weights\n",
       "aergrind        3.203042  24.607281     3.203042\n",
       "sette           2.769606  15.952351     2.769606\n",
       "feld            2.556109  12.885584     2.556109\n",
       "moccamaster     2.147465   8.563121     2.147465\n",
       "hi              2.071224   7.934530     2.071224\n",
       "helor           1.981467   7.253379     1.981467\n",
       "tea             1.950813   7.034401     1.950813\n",
       "recommendation  1.922607   6.838764     1.922607\n",
       "kinu            1.711162   5.535387     1.711162\n",
       "pro             1.585425   4.881363     1.585425\n",
       "comandante      1.579697   4.853484     1.579697\n",
       "lt              1.476244   4.376475     1.476244\n",
       "breville        1.463578   4.321395     1.463578\n",
       "flair           1.436707   4.206820     1.436707\n",
       "prismo          1.355038   3.876908     1.355038"
      ]
     },
     "execution_count": 52,
     "metadata": {},
     "output_type": "execute_result"
    }
   ],
   "source": [
    "gs_lr_coef_tfidf_df.sort_values(ascending=False, by='weights').head(15)"
   ]
  },
  {
   "cell_type": "code",
   "execution_count": 53,
   "metadata": {},
   "outputs": [
    {
     "data": {
      "text/plain": [
       "([0, 1, 2, 3, 4, 5, 6, 7, 8, 9, 10, 11, 12, 13, 14],\n",
       " <a list of 15 Text yticklabel objects>)"
      ]
     },
     "execution_count": 53,
     "metadata": {},
     "output_type": "execute_result"
    },
    {
     "data": {
      "image/png": "[encoded data removed]",
      "text/plain": [
       "<Figure size 1440x720 with 1 Axes>"
      ]
     },
     "metadata": {
      "needs_background": "light"
     },
     "output_type": "display_data"
    }
   ],
   "source": [
    "plt.figure(figsize=(20,10))\n",
    "temp = gs_lr_coef_tfidf_df.sort_values('odds', ascending = False).head(15)\n",
    "plt.barh(temp.index, temp['odds'])\n",
    "plt.title('Top 15 words with positive impact on odds\\n baseline accuracy: 54% vs gs_lr accuracy: 66%', fontsize=35)\n",
    "plt.xlabel('Odds', fontsize=25)\n",
    "plt.ylabel('word', fontsize=25)\n",
    "plt.xticks(fontsize=15)\n",
    "plt.yticks(fontsize=15)"
   ]
  },
  {
   "cell_type": "markdown",
   "metadata": {},
   "source": [
    "The above chart can be interpreted as the following: if a post includes words such as 'sette, moccamaster', the odds of the post being classified into the positive class  (recall that the positive class for this analysis is being trendy/'in' or in 2017) is ~16 and ~9 times as likely, respectively."
   ]
  },
  {
   "cell_type": "code",
   "execution_count": 54,
   "metadata": {},
   "outputs": [
    {
     "data": {
      "text/plain": [
       "([0, 1, 2, 3, 4, 5, 6, 7, 8, 9, 10, 11, 12, 13, 14],\n",
       " <a list of 15 Text yticklabel objects>)"
      ]
     },
     "execution_count": 54,
     "metadata": {},
     "output_type": "execute_result"
    },
    {
     "data": {
      "image/png": "[encoded data removed]",
      "text/plain": [
       "<Figure size 1440x720 with 1 Axes>"
      ]
     },
     "metadata": {
      "needs_background": "light"
     },
     "output_type": "display_data"
    }
   ],
   "source": [
    "plt.figure(figsize=(20,10))\n",
    "temp = gs_lr_coef_tfidf_df.sort_values('odds', ascending = True).head(15)\n",
    "plt.barh(temp.index, temp['odds'])\n",
    "plt.title('Top 15 words with negative impact on odds\\n baseline accuracy: 54% vs gs_lr accuracy: 66%', fontsize=35)\n",
    "plt.xlabel('Odds', fontsize=25)\n",
    "plt.ylabel('word', fontsize=25)\n",
    "plt.xticks(fontsize=15)\n",
    "plt.yticks(fontsize=15)"
   ]
  },
  {
   "cell_type": "markdown",
   "metadata": {},
   "source": [
    "Contrary to the previous chart, the above chart displays the decrease in likelihood being classified into the positive class. For example, if posts include the words 'hario' or 'hario mini', the odds of being classified into the positive class is ~0.15 and ~0.23 as likely. "
   ]
  },
  {
   "cell_type": "code",
   "execution_count": 56,
   "metadata": {},
   "outputs": [],
   "source": [
    "lr_pred = gs_lr.predict(X_test_tfidf)"
   ]
  },
  {
   "cell_type": "markdown",
   "metadata": {},
   "source": [
    "### Classification Metrics"
   ]
  },
  {
   "cell_type": "markdown",
   "metadata": {},
   "source": [
    "One of the core metrics for a classification problem is a confusion matrix"
   ]
  },
  {
   "cell_type": "code",
   "execution_count": 60,
   "metadata": {},
   "outputs": [
    {
     "data": {
      "text/html": [
       "<div>\n",
       "<style scoped>\n",
       "    .dataframe tbody tr th:only-of-type {\n",
       "        vertical-align: middle;\n",
       "    }\n",
       "\n",
       "    .dataframe tbody tr th {\n",
       "        vertical-align: top;\n",
       "    }\n",
       "\n",
       "    .dataframe thead th {\n",
       "        text-align: right;\n",
       "    }\n",
       "</style>\n",
       "<table border=\"1\" class=\"dataframe\">\n",
       "  <thead>\n",
       "    <tr style=\"text-align: right;\">\n",
       "      <th></th>\n",
       "      <th>Predicted Negative</th>\n",
       "      <th>Predicted Positive</th>\n",
       "    </tr>\n",
       "  </thead>\n",
       "  <tbody>\n",
       "    <tr>\n",
       "      <th>Actual Negative</th>\n",
       "      <td>1386</td>\n",
       "      <td>2117</td>\n",
       "    </tr>\n",
       "    <tr>\n",
       "      <th>Actual Positive</th>\n",
       "      <td>919</td>\n",
       "      <td>3590</td>\n",
       "    </tr>\n",
       "  </tbody>\n",
       "</table>\n",
       "</div>"
      ],
      "text/plain": [
       "                 Predicted Negative  Predicted Positive\n",
       "Actual Negative                1386                2117\n",
       "Actual Positive                 919                3590"
      ]
     },
     "execution_count": 60,
     "metadata": {},
     "output_type": "execute_result"
    }
   ],
   "source": [
    "pd.DataFrame(confusion_matrix(y_true = y_test, y_pred = lr_pred),\n",
    "            index = ['Actual Negative', 'Actual Positive'],\n",
    "            columns = ['Predicted Negative', 'Predicted Positive'])"
   ]
  },
  {
   "cell_type": "markdown",
   "metadata": {},
   "source": [
    "- Predicted Negative: We predicted that the post came from the year 2015\n",
    "- Predicted Positive: We predicted that the post came from the year 2017\n",
    "- Actual Negative: The post was actually from 2015\n",
    "- Actual Positive: The post was actually from 2017"
   ]
  },
  {
   "cell_type": "markdown",
   "metadata": {},
   "source": [
    "With this confusion matrix, a helpful metric to be able to classify is precision which measures the accuracy of a predicted positive outcome. This can be interpreted as the following: 'We correctly predicted that a post came from 2017'. Precision is calculated by the following: <br>\n",
    "- True Positive / (True Positive + False Positive)\n",
    "- 3590 / (3590 + 2117) = .629"
   ]
  },
  {
   "cell_type": "markdown",
   "metadata": {},
   "source": [
    "Another form of metric is accuracy which measures the rate with which we predicted correctly the origins of a post. It is defined by the following: \n",
    "- (True Positive + True Negatives)/ (TP + TN + FP + FN)\n",
    "- (3590 + 1386) / (3590 + 1386 + 2117 + 919) = 4976/8012 = .621"
   ]
  },
  {
   "cell_type": "markdown",
   "metadata": {},
   "source": [
    "### Explore certain posts that we classfied "
   ]
  },
  {
   "cell_type": "markdown",
   "metadata": {},
   "source": [
    "#### Posts confidently predicted correctly"
   ]
  },
  {
   "cell_type": "code",
   "execution_count": 90,
   "metadata": {},
   "outputs": [
    {
     "data": {
      "text/html": [
       "<div>\n",
       "<style scoped>\n",
       "    .dataframe tbody tr th:only-of-type {\n",
       "        vertical-align: middle;\n",
       "    }\n",
       "\n",
       "    .dataframe tbody tr th {\n",
       "        vertical-align: top;\n",
       "    }\n",
       "\n",
       "    .dataframe thead th {\n",
       "        text-align: right;\n",
       "    }\n",
       "</style>\n",
       "<table border=\"1\" class=\"dataframe\">\n",
       "  <thead>\n",
       "    <tr style=\"text-align: right;\">\n",
       "      <th></th>\n",
       "      <th>all_lemm</th>\n",
       "    </tr>\n",
       "  </thead>\n",
       "  <tbody>\n",
       "    <tr>\n",
       "      <th>29566</th>\n",
       "      <td>coffee version of shop like david s tea i m re...</td>\n",
       "    </tr>\n",
       "    <tr>\n",
       "      <th>22993</th>\n",
       "      <td>fellow stagg ekg electric kettle worth every p...</td>\n",
       "    </tr>\n",
       "    <tr>\n",
       "      <th>29981</th>\n",
       "      <td>cheap grinder for espresso hi all recently got...</td>\n",
       "    </tr>\n",
       "    <tr>\n",
       "      <th>15246</th>\n",
       "      <td>using the gaggia classic what is the best fast...</td>\n",
       "    </tr>\n",
       "    <tr>\n",
       "      <th>30766</th>\n",
       "      <td>v troubleshooting with julio melendez geisha g...</td>\n",
       "    </tr>\n",
       "  </tbody>\n",
       "</table>\n",
       "</div>"
      ],
      "text/plain": [
       "                                                all_lemm\n",
       "29566  coffee version of shop like david s tea i m re...\n",
       "22993  fellow stagg ekg electric kettle worth every p...\n",
       "29981  cheap grinder for espresso hi all recently got...\n",
       "15246  using the gaggia classic what is the best fast...\n",
       "30766  v troubleshooting with julio melendez geisha g..."
      ]
     },
     "execution_count": 90,
     "metadata": {},
     "output_type": "execute_result"
    }
   ],
   "source": [
    "X_test[(gs_lr.predict_proba(X_test_tfidf)[:, 1] > .75) & (y_test == 1)].head()"
   ]
  },
  {
   "cell_type": "code",
   "execution_count": 88,
   "metadata": {},
   "outputs": [
    {
     "data": {
      "text/plain": [
       "'steaming the shot in with plant based milk i m currently spending some time in the u k and i m finding it common to see barista s mixing the shot in with plant based milk then steaming them together can anyone explain to me the reason logic behind this thank you'"
      ]
     },
     "execution_count": 88,
     "metadata": {},
     "output_type": "execute_result"
    }
   ],
   "source": [
    "X_test['all_lemm'].loc[15633]"
   ]
  },
  {
   "cell_type": "code",
   "execution_count": 89,
   "metadata": {},
   "outputs": [
    {
     "data": {
      "text/plain": [
       "'fast manual grinder i m looking for a manual burr grinder that doesn t take ton of rotation to grind whole bean other than the one that cost i ve not been able to find one that doesn t take forever to grind enough for several cup i assume to make the grinding easier for the average person i don t mind if turning the handle take some elbow grease i just want to get the stuff ground quickly doe anyone have any suggestion'"
      ]
     },
     "execution_count": 89,
     "metadata": {},
     "output_type": "execute_result"
    }
   ],
   "source": [
    "X_test['all_lemm'].loc[7339]"
   ]
  },
  {
   "cell_type": "markdown",
   "metadata": {},
   "source": [
    "#### Predicted confidently predicted incorrectly"
   ]
  },
  {
   "cell_type": "code",
   "execution_count": 91,
   "metadata": {},
   "outputs": [
    {
     "data": {
      "text/html": [
       "<div>\n",
       "<style scoped>\n",
       "    .dataframe tbody tr th:only-of-type {\n",
       "        vertical-align: middle;\n",
       "    }\n",
       "\n",
       "    .dataframe tbody tr th {\n",
       "        vertical-align: top;\n",
       "    }\n",
       "\n",
       "    .dataframe thead th {\n",
       "        text-align: right;\n",
       "    }\n",
       "</style>\n",
       "<table border=\"1\" class=\"dataframe\">\n",
       "  <thead>\n",
       "    <tr style=\"text-align: right;\">\n",
       "      <th></th>\n",
       "      <th>all_lemm</th>\n",
       "    </tr>\n",
       "  </thead>\n",
       "  <tbody>\n",
       "    <tr>\n",
       "      <th>7380</th>\n",
       "      <td>help single basket espresso on e i just purcha...</td>\n",
       "    </tr>\n",
       "    <tr>\n",
       "      <th>2719</th>\n",
       "      <td>is it worth it second hand technivorm moccamas...</td>\n",
       "    </tr>\n",
       "    <tr>\n",
       "      <th>2106</th>\n",
       "      <td>cunill brazil burr hey everyone i got a cunill...</td>\n",
       "    </tr>\n",
       "    <tr>\n",
       "      <th>13081</th>\n",
       "      <td>small super automatic espresso machine could a...</td>\n",
       "    </tr>\n",
       "    <tr>\n",
       "      <th>698</th>\n",
       "      <td>i just found out something interesting about c...</td>\n",
       "    </tr>\n",
       "  </tbody>\n",
       "</table>\n",
       "</div>"
      ],
      "text/plain": [
       "                                                all_lemm\n",
       "7380   help single basket espresso on e i just purcha...\n",
       "2719   is it worth it second hand technivorm moccamas...\n",
       "2106   cunill brazil burr hey everyone i got a cunill...\n",
       "13081  small super automatic espresso machine could a...\n",
       "698    i just found out something interesting about c..."
      ]
     },
     "execution_count": 91,
     "metadata": {},
     "output_type": "execute_result"
    }
   ],
   "source": [
    "X_test[(gs_lr.predict_proba(X_test_tfidf)[:, 1] > .75) & (y_test != 1)].head()"
   ]
  },
  {
   "cell_type": "markdown",
   "metadata": {},
   "source": [
    "#### Posts predicted incorrectly with low confidence"
   ]
  },
  {
   "cell_type": "code",
   "execution_count": 74,
   "metadata": {},
   "outputs": [
    {
     "data": {
      "text/html": [
       "<div>\n",
       "<style scoped>\n",
       "    .dataframe tbody tr th:only-of-type {\n",
       "        vertical-align: middle;\n",
       "    }\n",
       "\n",
       "    .dataframe tbody tr th {\n",
       "        vertical-align: top;\n",
       "    }\n",
       "\n",
       "    .dataframe thead th {\n",
       "        text-align: right;\n",
       "    }\n",
       "</style>\n",
       "<table border=\"1\" class=\"dataframe\">\n",
       "  <thead>\n",
       "    <tr style=\"text-align: right;\">\n",
       "      <th></th>\n",
       "      <th>all_lemm</th>\n",
       "    </tr>\n",
       "  </thead>\n",
       "  <tbody>\n",
       "    <tr>\n",
       "      <th>13339</th>\n",
       "      <td>every time i drink coffee from one particular ...</td>\n",
       "    </tr>\n",
       "    <tr>\n",
       "      <th>11296</th>\n",
       "      <td>where can i find a travel mug with a nozzle i ...</td>\n",
       "    </tr>\n",
       "    <tr>\n",
       "      <th>5486</th>\n",
       "      <td>heat up the sand and make a coffee video</td>\n",
       "    </tr>\n",
       "    <tr>\n",
       "      <th>4473</th>\n",
       "      <td>weighing coffee at work i ve seen a few post a...</td>\n",
       "    </tr>\n",
       "    <tr>\n",
       "      <th>1787</th>\n",
       "      <td>this just showed up at my starbucks do i dare ...</td>\n",
       "    </tr>\n",
       "    <tr>\n",
       "      <th>12876</th>\n",
       "      <td>anybody ever try egg nog a a creamer for coffe...</td>\n",
       "    </tr>\n",
       "    <tr>\n",
       "      <th>13224</th>\n",
       "      <td>how to make cold brewed coffee</td>\n",
       "    </tr>\n",
       "    <tr>\n",
       "      <th>10093</th>\n",
       "      <td>can someone give me the tl dr on cold brew cof...</td>\n",
       "    </tr>\n",
       "    <tr>\n",
       "      <th>3863</th>\n",
       "      <td>my favorite coffee song</td>\n",
       "    </tr>\n",
       "    <tr>\n",
       "      <th>6944</th>\n",
       "      <td>dave grohl foo fighter is a fellow coffee lover</td>\n",
       "    </tr>\n",
       "  </tbody>\n",
       "</table>\n",
       "</div>"
      ],
      "text/plain": [
       "                                                all_lemm\n",
       "13339  every time i drink coffee from one particular ...\n",
       "11296  where can i find a travel mug with a nozzle i ...\n",
       "5486            heat up the sand and make a coffee video\n",
       "4473   weighing coffee at work i ve seen a few post a...\n",
       "1787   this just showed up at my starbucks do i dare ...\n",
       "12876  anybody ever try egg nog a a creamer for coffe...\n",
       "13224                     how to make cold brewed coffee\n",
       "10093  can someone give me the tl dr on cold brew cof...\n",
       "3863                             my favorite coffee song\n",
       "6944     dave grohl foo fighter is a fellow coffee lover"
      ]
     },
     "execution_count": 74,
     "metadata": {},
     "output_type": "execute_result"
    }
   ],
   "source": [
    "X_test[(gs_lr.predict_proba(X_test_tfidf)[:, 1] > .50) & \n",
    "       (gs_lr.predict_proba(X_test_tfidf)[:, 1] < .55) & \n",
    "       (y_test != 1)].head(10)"
   ]
  },
  {
   "cell_type": "markdown",
   "metadata": {},
   "source": [
    "#### Posts predicted correctly with low confidence"
   ]
  },
  {
   "cell_type": "code",
   "execution_count": 75,
   "metadata": {},
   "outputs": [
    {
     "data": {
      "text/html": [
       "<div>\n",
       "<style scoped>\n",
       "    .dataframe tbody tr th:only-of-type {\n",
       "        vertical-align: middle;\n",
       "    }\n",
       "\n",
       "    .dataframe tbody tr th {\n",
       "        vertical-align: top;\n",
       "    }\n",
       "\n",
       "    .dataframe thead th {\n",
       "        text-align: right;\n",
       "    }\n",
       "</style>\n",
       "<table border=\"1\" class=\"dataframe\">\n",
       "  <thead>\n",
       "    <tr style=\"text-align: right;\">\n",
       "      <th></th>\n",
       "      <th>all_lemm</th>\n",
       "    </tr>\n",
       "  </thead>\n",
       "  <tbody>\n",
       "    <tr>\n",
       "      <th>24067</th>\n",
       "      <td>sing along the best part of waking up is choc ...</td>\n",
       "    </tr>\n",
       "    <tr>\n",
       "      <th>31219</th>\n",
       "      <td>got pretty lucky at the thrift store today wor...</td>\n",
       "    </tr>\n",
       "    <tr>\n",
       "      <th>24008</th>\n",
       "      <td>best coffee scene which canadian town or city ...</td>\n",
       "    </tr>\n",
       "    <tr>\n",
       "      <th>21543</th>\n",
       "      <td>bought a gb</td>\n",
       "    </tr>\n",
       "    <tr>\n",
       "      <th>29388</th>\n",
       "      <td>professional alternative to pearl scale hey gu...</td>\n",
       "    </tr>\n",
       "    <tr>\n",
       "      <th>20276</th>\n",
       "      <td>boston event ben carlson of longmilescoffeepro...</td>\n",
       "    </tr>\n",
       "    <tr>\n",
       "      <th>25569</th>\n",
       "      <td>best of chi town headed to chicago from san di...</td>\n",
       "    </tr>\n",
       "    <tr>\n",
       "      <th>30869</th>\n",
       "      <td>pretty happy with the shot i m getting with my...</td>\n",
       "    </tr>\n",
       "    <tr>\n",
       "      <th>24193</th>\n",
       "      <td>why aeropress chemex or espro coffee breakdown...</td>\n",
       "    </tr>\n",
       "    <tr>\n",
       "      <th>18788</th>\n",
       "      <td>limited edition coffee thermos limited time di...</td>\n",
       "    </tr>\n",
       "  </tbody>\n",
       "</table>\n",
       "</div>"
      ],
      "text/plain": [
       "                                                all_lemm\n",
       "24067  sing along the best part of waking up is choc ...\n",
       "31219  got pretty lucky at the thrift store today wor...\n",
       "24008  best coffee scene which canadian town or city ...\n",
       "21543                                        bought a gb\n",
       "29388  professional alternative to pearl scale hey gu...\n",
       "20276  boston event ben carlson of longmilescoffeepro...\n",
       "25569  best of chi town headed to chicago from san di...\n",
       "30869  pretty happy with the shot i m getting with my...\n",
       "24193  why aeropress chemex or espro coffee breakdown...\n",
       "18788  limited edition coffee thermos limited time di..."
      ]
     },
     "execution_count": 75,
     "metadata": {},
     "output_type": "execute_result"
    }
   ],
   "source": [
    "X_test[(gs_lr.predict_proba(X_test_tfidf)[:, 1] > .50) & \n",
    "       (gs_lr.predict_proba(X_test_tfidf)[:, 1] < .55) & \n",
    "       (y_test == 1)].head(10)"
   ]
  },
  {
   "cell_type": "markdown",
   "metadata": {},
   "source": [
    "## Random Forest"
   ]
  },
  {
   "cell_type": "markdown",
   "metadata": {},
   "source": [
    "Random Forest model was explored because it addresses a problem with bagged decision trees, mainly that the trees are strongly correlated with each other and therefore higher variance. Instead, we will 'de-correlate' our trees to lower our variance while only increasing our bias marginally. <br>"
   ]
  },
  {
   "cell_type": "markdown",
   "metadata": {},
   "source": [
    "Instantiated a GridSearchCV for RandomForestClassifier"
   ]
  },
  {
   "cell_type": "code",
   "execution_count": 76,
   "metadata": {},
   "outputs": [
    {
     "data": {
      "text/plain": [
       "RandomForestClassifier(bootstrap=True, class_weight=None, criterion='gini',\n",
       "            max_depth=None, max_features='auto', max_leaf_nodes=None,\n",
       "            min_impurity_decrease=0.0, min_impurity_split=None,\n",
       "            min_samples_leaf=1, min_samples_split=2,\n",
       "            min_weight_fraction_leaf=0.0, n_estimators=10, n_jobs=1,\n",
       "            oob_score=False, random_state=42, verbose=0, warm_start=False)"
      ]
     },
     "execution_count": 76,
     "metadata": {},
     "output_type": "execute_result"
    }
   ],
   "source": [
    "RandomForestClassifier(random_state = 42)"
   ]
  },
  {
   "cell_type": "markdown",
   "metadata": {},
   "source": [
    "- `n_estimators`: Number of trees our model builds before taking an average of the predictions. Increasing the number of trees will allow our model to better learn the data, but having too much can slow down the process considerably.\n",
    "- `min_samples_split`: Minimum number of samples required for a node to split\n",
    "- `max_depth`: Maximum number of levels in each tree. As the value increases, so does the information captured. We include the default value of None in addition to our other values"
   ]
  },
  {
   "cell_type": "code",
   "execution_count": 78,
   "metadata": {},
   "outputs": [],
   "source": [
    "params = {\n",
    "    'n_estimators': [10, 25, 45],\n",
    "    'min_samples_split': [3, 7, 13],\n",
    "    'max_depth': [None, 3, 6, 9]}"
   ]
  },
  {
   "cell_type": "code",
   "execution_count": 79,
   "metadata": {},
   "outputs": [
    {
     "data": {
      "text/plain": [
       "0.9886822286023385"
      ]
     },
     "execution_count": 79,
     "metadata": {},
     "output_type": "execute_result"
    }
   ],
   "source": [
    "gs = GridSearchCV(RandomForestClassifier(n_estimators = 100),\n",
    "                 param_grid = params,\n",
    "                 return_train_score = False,\n",
    "                 cv = 3)\n",
    "gs.fit(X_train_tfidf, y_train)\n",
    "gs.score(X_train_tfidf, y_train)"
   ]
  },
  {
   "cell_type": "code",
   "execution_count": 80,
   "metadata": {},
   "outputs": [
    {
     "data": {
      "text/plain": [
       "0.6159510733899152"
      ]
     },
     "execution_count": 80,
     "metadata": {},
     "output_type": "execute_result"
    }
   ],
   "source": [
    "gs.score(X_test_tfidf, y_test)"
   ]
  },
  {
   "cell_type": "markdown",
   "metadata": {},
   "source": [
    "It is apparent that the random forest algorithm overfits very much to the training data."
   ]
  },
  {
   "cell_type": "code",
   "execution_count": 81,
   "metadata": {},
   "outputs": [
    {
     "data": {
      "text/plain": [
       "{'max_depth': None, 'min_samples_split': 7, 'n_estimators': 45}"
      ]
     },
     "execution_count": 81,
     "metadata": {},
     "output_type": "execute_result"
    }
   ],
   "source": [
    "gs.best_params_"
   ]
  },
  {
   "cell_type": "markdown",
   "metadata": {},
   "source": [
    "Through tuning our hyperparameters via gridsearch, we achieved a score of 0.988 using random forest tree model; however, our score on the test dataset is 0.62, performing worse than the logistic regression"
   ]
  },
  {
   "cell_type": "code",
   "execution_count": 82,
   "metadata": {},
   "outputs": [],
   "source": [
    "feat_importance = pd.DataFrame(gs.best_estimator_.feature_importances_, X_train_tfidf.columns, columns = ['importance'])"
   ]
  },
  {
   "cell_type": "code",
   "execution_count": 83,
   "metadata": {},
   "outputs": [
    {
     "data": {
      "text/html": [
       "<div>\n",
       "<style scoped>\n",
       "    .dataframe tbody tr th:only-of-type {\n",
       "        vertical-align: middle;\n",
       "    }\n",
       "\n",
       "    .dataframe tbody tr th {\n",
       "        vertical-align: top;\n",
       "    }\n",
       "\n",
       "    .dataframe thead th {\n",
       "        text-align: right;\n",
       "    }\n",
       "</style>\n",
       "<table border=\"1\" class=\"dataframe\">\n",
       "  <thead>\n",
       "    <tr style=\"text-align: right;\">\n",
       "      <th></th>\n",
       "      <th>importance</th>\n",
       "    </tr>\n",
       "  </thead>\n",
       "  <tbody>\n",
       "    <tr>\n",
       "      <th>_______</th>\n",
       "      <td>1.020573e-07</td>\n",
       "    </tr>\n",
       "    <tr>\n",
       "      <th>aa</th>\n",
       "      <td>7.722447e-05</td>\n",
       "    </tr>\n",
       "    <tr>\n",
       "      <th>ability</th>\n",
       "      <td>4.965571e-05</td>\n",
       "    </tr>\n",
       "    <tr>\n",
       "      <th>able</th>\n",
       "      <td>8.767920e-04</td>\n",
       "    </tr>\n",
       "    <tr>\n",
       "      <th>able brew</th>\n",
       "      <td>1.678032e-05</td>\n",
       "    </tr>\n",
       "  </tbody>\n",
       "</table>\n",
       "</div>"
      ],
      "text/plain": [
       "             importance\n",
       "_______    1.020573e-07\n",
       "aa         7.722447e-05\n",
       "ability    4.965571e-05\n",
       "able       8.767920e-04\n",
       "able brew  1.678032e-05"
      ]
     },
     "execution_count": 83,
     "metadata": {},
     "output_type": "execute_result"
    }
   ],
   "source": [
    "feat_importance.head()"
   ]
  },
  {
   "cell_type": "code",
   "execution_count": 84,
   "metadata": {},
   "outputs": [
    {
     "data": {
      "text/plain": [
       "Text(0, 0.5, 'Feature')"
      ]
     },
     "execution_count": 84,
     "metadata": {},
     "output_type": "execute_result"
    },
    {
     "data": {
      "image/png": "[encoded data removed]",
      "text/plain": [
       "<Figure size 1440x720 with 1 Axes>"
      ]
     },
     "metadata": {
      "needs_background": "light"
     },
     "output_type": "display_data"
    }
   ],
   "source": [
    "plt.figure(figsize=(20,10))\n",
    "temp = feat_importance.sort_values('importance', ascending=False).head(20)\n",
    "plt.barh(temp.index, temp['importance'])\n",
    "plt.title('Top 20 Features', fontsize=30)\n",
    "plt.xlabel('Amount of information gained', fontsize=20)\n",
    "plt.ylabel('Feature', fontsize=20)"
   ]
  },
  {
   "cell_type": "code",
   "execution_count": 85,
   "metadata": {},
   "outputs": [],
   "source": [
    "rf_pred = gs.predict(X_test_tfidf)"
   ]
  },
  {
   "cell_type": "code",
   "execution_count": 86,
   "metadata": {},
   "outputs": [
    {
     "data": {
      "text/html": [
       "<div>\n",
       "<style scoped>\n",
       "    .dataframe tbody tr th:only-of-type {\n",
       "        vertical-align: middle;\n",
       "    }\n",
       "\n",
       "    .dataframe tbody tr th {\n",
       "        vertical-align: top;\n",
       "    }\n",
       "\n",
       "    .dataframe thead th {\n",
       "        text-align: right;\n",
       "    }\n",
       "</style>\n",
       "<table border=\"1\" class=\"dataframe\">\n",
       "  <thead>\n",
       "    <tr style=\"text-align: right;\">\n",
       "      <th></th>\n",
       "      <th>Predicted Negative</th>\n",
       "      <th>Predicted Positive</th>\n",
       "    </tr>\n",
       "  </thead>\n",
       "  <tbody>\n",
       "    <tr>\n",
       "      <th>Actual Negative</th>\n",
       "      <td>1308</td>\n",
       "      <td>2195</td>\n",
       "    </tr>\n",
       "    <tr>\n",
       "      <th>Actual Positive</th>\n",
       "      <td>882</td>\n",
       "      <td>3627</td>\n",
       "    </tr>\n",
       "  </tbody>\n",
       "</table>\n",
       "</div>"
      ],
      "text/plain": [
       "                 Predicted Negative  Predicted Positive\n",
       "Actual Negative                1308                2195\n",
       "Actual Positive                 882                3627"
      ]
     },
     "execution_count": 86,
     "metadata": {},
     "output_type": "execute_result"
    }
   ],
   "source": [
    "pd.DataFrame(confusion_matrix(y_true = y_test, \n",
    "                              y_pred = rf_pred),\n",
    "             index=['Actual Negative', 'Actual Positive'],\n",
    "             columns=['Predicted Negative', 'Predicted Positive'])"
   ]
  },
  {
   "cell_type": "markdown",
   "metadata": {},
   "source": [
    "With this confusion matrix, a helpful metric to be able to classify is precision which measures the accuracy of a predicted positive outcome given by the following: <br>\n",
    "- True Positive / (True Positive + False Positive)\n",
    "- 3627 / (3627 + 2195) = .623"
   ]
  },
  {
   "cell_type": "markdown",
   "metadata": {},
   "source": [
    "Another form of metric is accuracy which measures the rate with which we predicted correctly the origins of a post. It is defined by the following: \n",
    "- (True Positive + True Negatives)/ (TP + TN + FP + FN)\n",
    "- (3627 + 1308) / (3627 + 1308 + 2195 + 882) = 4935/8012 = .615"
   ]
  },
  {
   "cell_type": "markdown",
   "metadata": {},
   "source": [
    "Both the precision and accuracy metric performed slightly worse than the score from the logistic regression model (.629 and .621, respectively)"
   ]
  },
  {
   "cell_type": "markdown",
   "metadata": {},
   "source": [
    "The top 5 words that produce the most amount of information gained in the split of the decision trees are ordered as the following: coffee, edit, tea, make and best. However, considering the scale of the x-axis (max of ~0.011), the amount of information gained is not substantial to warrant random forest trees as a model to put into production."
   ]
  },
  {
   "cell_type": "markdown",
   "metadata": {},
   "source": [
    "**_From the above explored models, the model to be put into production will be the logistic regression due to its best performance of accuracy in predicting the true positives and negatives as well as its ease of interpretability_**"
   ]
  }
 ],
 "metadata": {
  "kernelspec": {
   "display_name": "Python 3",
   "language": "python",
   "name": "python3"
  },
  "language_info": {
   "codemirror_mode": {
    "name": "ipython",
    "version": 3
   },
   "file_extension": ".py",
   "mimetype": "text/x-python",
   "name": "python",
   "nbconvert_exporter": "python",
   "pygments_lexer": "ipython3",
   "version": "3.7.0"
  }
 },
 "nbformat": 4,
 "nbformat_minor": 2
}
